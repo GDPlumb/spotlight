{
 "cells": [
  {
   "cell_type": "code",
   "execution_count": 1,
   "id": "dd8a6e21",
   "metadata": {},
   "outputs": [],
   "source": [
    "%load_ext autoreload\n",
    "%autoreload 2"
   ]
  },
  {
   "cell_type": "code",
   "execution_count": 21,
   "id": "f46713d0",
   "metadata": {},
   "outputs": [],
   "source": [
    "import torch\n",
    "from datasets import load_from_disk\n",
    "from transformers import AutoTokenizer\n",
    "\n",
    "import os\n",
    "import itertools\n",
    "import json\n",
    "import numpy as np\n",
    "from tqdm import tqdm\n",
    "from collections import defaultdict\n",
    "import matplotlib.pyplot as plt\n",
    "from wordcloud import WordCloud"
   ]
  },
  {
   "cell_type": "code",
   "execution_count": 3,
   "id": "ed295b75",
   "metadata": {},
   "outputs": [],
   "source": [
    "# work around insane huggingface requirements\n",
    "from datasets.utils.logging import set_verbosity_error\n",
    "set_verbosity_error()"
   ]
  },
  {
   "cell_type": "code",
   "execution_count": 4,
   "id": "0b4112e8",
   "metadata": {},
   "outputs": [],
   "source": [
    "# from spotlight.datasets import *\n",
    "from torch_spotlight.utils import *\n",
    "from torch_spotlight.plot_utils import *\n",
    "\n",
    "setupPlots()"
   ]
  },
  {
   "cell_type": "code",
   "execution_count": 5,
   "id": "8483d262",
   "metadata": {},
   "outputs": [],
   "source": [
    "data_dir = '/arc/project/st-kevinlb-1/gregdeon/spotlight/datasets'\n",
    "model_dir = '/arc/project/st-kevinlb-1/gregdeon/spotlight/models'\n",
    "os.environ['TRANSFORMERS_CACHE'] = '/scratch/st-kevinlb-1/willib/hf_cache'\n",
    "os.environ['HF_DATASETS_CACHE'] = '/scratch/st-kevinlb-1/willib/hf_cache'\n",
    "os.environ['HF_HOME'] = '/scratch/st-kevinlb-1/willib/hf_cache'\n",
    "amazon_dir = os.path.join(data_dir, 'amazon')\n",
    "amazon_model_path = os.path.join(model_dir, 'amazon')\n",
    "squad_dir = os.path.join(data_dir, 'squad')\n",
    "squad_model_path = os.path.join(model_dir, 'squad')"
   ]
  },
  {
   "cell_type": "markdown",
   "id": "c0b8e9ec",
   "metadata": {},
   "source": [
    "# Amazon reviews"
   ]
  },
  {
   "cell_type": "markdown",
   "id": "99236a5d",
   "metadata": {},
   "source": [
    "## Dataset + tokenizer"
   ]
  },
  {
   "cell_type": "code",
   "execution_count": 6,
   "id": "0ffc3874",
   "metadata": {},
   "outputs": [],
   "source": [
    "dataset = load_from_disk(amazon_dir)['test']"
   ]
  },
  {
   "cell_type": "code",
   "execution_count": 8,
   "id": "d30b7c75-a69d-4ad1-b5ff-d58de2f9b295",
   "metadata": {},
   "outputs": [
    {
     "data": {
      "text/plain": [
       "{'content': 'I do love \"Charlie Brown\\'s Christmas\", a joy for the entire family, young and old. A Christmas play is being directed by Charlie Brown, and everyone is complaining. Charlie is sad because he doesn\\'t know the true spirit of Christmas, and his friend tells him the spirit of Christmas. The play was never finished though.I like this toon because \"Charlie Brown\\'s Christmas\" had the guts to tell about Gabriel telling the shepherds about the Good news that Baby Jesus was born in the manger. I would recommend this to all!',\n",
       " 'label': 1,\n",
       " 'title': 'I ought to slug those R movie loving critics! \"They don\\'t know entertainment\" as Krusty would say'}"
      ]
     },
     "execution_count": 8,
     "metadata": {},
     "output_type": "execute_result"
    }
   ],
   "source": [
    "dataset[123]"
   ]
  },
  {
   "cell_type": "code",
   "execution_count": 9,
   "id": "c775bd01",
   "metadata": {},
   "outputs": [],
   "source": [
    "num_examples = 20000\n",
    "amazon_labels = [dataset[i]['label'] for i in range(num_examples)]"
   ]
  },
  {
   "cell_type": "code",
   "execution_count": 10,
   "id": "9c74f6ed",
   "metadata": {},
   "outputs": [],
   "source": [
    "tokenizer = AutoTokenizer.from_pretrained(\n",
    "    \"distilbert-base-uncased-finetuned-sst-2-english\", \n",
    "    do_lower_case=True, \n",
    "    do_basic_tokenize=True,\n",
    "    local_files_only=True,\n",
    "    cache_dir=amazon_model_path\n",
    ")"
   ]
  },
  {
   "cell_type": "code",
   "execution_count": 11,
   "id": "eb5f47ab",
   "metadata": {},
   "outputs": [
    {
     "name": "stderr",
     "output_type": "stream",
     "text": [
      "100%|██████████| 20000/20000 [00:10<00:00, 1919.84it/s]\n"
     ]
    }
   ],
   "source": [
    "unique_tokens = []\n",
    "for i in tqdm(range(num_examples)):\n",
    "    tokenized = tokenizer(dataset[i]['content'], padding=True, return_tensors='pt')\n",
    "    unique_tokens.append(torch.unique(tokenized['input_ids']))"
   ]
  },
  {
   "cell_type": "markdown",
   "id": "b4394114",
   "metadata": {},
   "source": [
    "## Model outputs"
   ]
  },
  {
   "cell_type": "code",
   "execution_count": 12,
   "id": "25a9d640",
   "metadata": {},
   "outputs": [],
   "source": [
    "inf_results = loadResults(\n",
    "    os.path.join(os.getcwd(),'inference_results/amazon_train_sst_20k_new.pkl'),\n",
    ")\n",
    "losses = inf_results.losses\n",
    "outputs = inf_results.outputs"
   ]
  },
  {
   "cell_type": "code",
   "execution_count": 13,
   "id": "546978c3",
   "metadata": {},
   "outputs": [
    {
     "data": {
      "text/plain": [
       "\"This production is so awesome we can't stop watching it over and over. It is one of the finest vocal performances I have ever seen.\""
      ]
     },
     "metadata": {},
     "output_type": "display_data"
    },
    {
     "data": {
      "text/plain": [
       "0"
      ]
     },
     "metadata": {},
     "output_type": "display_data"
    },
    {
     "data": {
      "text/plain": [
       "tensor(9.0710)"
      ]
     },
     "metadata": {},
     "output_type": "display_data"
    },
    {
     "name": "stdout",
     "output_type": "stream",
     "text": [
      "\n"
     ]
    },
    {
     "data": {
      "text/plain": [
       "'Very nice peridot necklace. I bought the 3-piece set for a birthday gift, and I was proud to give it as a gift.'"
      ]
     },
     "metadata": {},
     "output_type": "display_data"
    },
    {
     "data": {
      "text/plain": [
       "0"
      ]
     },
     "metadata": {},
     "output_type": "display_data"
    },
    {
     "data": {
      "text/plain": [
       "tensor(8.9754)"
      ]
     },
     "metadata": {},
     "output_type": "display_data"
    },
    {
     "name": "stdout",
     "output_type": "stream",
     "text": [
      "\n"
     ]
    },
    {
     "data": {
      "text/plain": [
       "'love the movie. made me cry. I was expecting the original movie but it still is a wonderful story to watch'"
      ]
     },
     "metadata": {},
     "output_type": "display_data"
    },
    {
     "data": {
      "text/plain": [
       "0"
      ]
     },
     "metadata": {},
     "output_type": "display_data"
    },
    {
     "data": {
      "text/plain": [
       "tensor(8.9253)"
      ]
     },
     "metadata": {},
     "output_type": "display_data"
    },
    {
     "name": "stdout",
     "output_type": "stream",
     "text": [
      "\n"
     ]
    },
    {
     "data": {
      "text/plain": [
       "'This was my first encounter with the magical realism style and I love it! The Buendia family is quite possibly the most intriguing I have encountered in any book. A must read.'"
      ]
     },
     "metadata": {},
     "output_type": "display_data"
    },
    {
     "data": {
      "text/plain": [
       "0"
      ]
     },
     "metadata": {},
     "output_type": "display_data"
    },
    {
     "data": {
      "text/plain": [
       "tensor(8.9095)"
      ]
     },
     "metadata": {},
     "output_type": "display_data"
    },
    {
     "name": "stdout",
     "output_type": "stream",
     "text": [
      "\n"
     ]
    },
    {
     "data": {
      "text/plain": [
       "'This one gift I could give my grown daughter. I read this book over and over to her as a child. It was in wonderful condition!'"
      ]
     },
     "metadata": {},
     "output_type": "display_data"
    },
    {
     "data": {
      "text/plain": [
       "0"
      ]
     },
     "metadata": {},
     "output_type": "display_data"
    },
    {
     "data": {
      "text/plain": [
       "tensor(8.8914)"
      ]
     },
     "metadata": {},
     "output_type": "display_data"
    },
    {
     "name": "stdout",
     "output_type": "stream",
     "text": [
      "\n"
     ]
    },
    {
     "data": {
      "text/plain": [
       "\"I watched the movie on Cartoon Network about two years ago. It's an excellent movie, I tell you. It's facinating!!! ^_^I loved the characters and their personalities. I seriously loved the art designs animation. It brings out the true life of the movie. In my opinion, this DVD is great! You should get this DVD and soon. It ROCKS! ^_^!\""
      ]
     },
     "metadata": {},
     "output_type": "display_data"
    },
    {
     "data": {
      "text/plain": [
       "0"
      ]
     },
     "metadata": {},
     "output_type": "display_data"
    },
    {
     "data": {
      "text/plain": [
       "tensor(8.8772)"
      ]
     },
     "metadata": {},
     "output_type": "display_data"
    },
    {
     "name": "stdout",
     "output_type": "stream",
     "text": [
      "\n"
     ]
    },
    {
     "data": {
      "text/plain": [
       "'Like it. Love it. Live in Paris will always be in my top 5. She is a star with this incredible band. Some of her originals are too melancholy for me, but she is truly unique in her talents. Who else can compose, sing and play jazz piano like that? Who was the girl?'"
      ]
     },
     "metadata": {},
     "output_type": "display_data"
    },
    {
     "data": {
      "text/plain": [
       "0"
      ]
     },
     "metadata": {},
     "output_type": "display_data"
    },
    {
     "data": {
      "text/plain": [
       "tensor(8.7896)"
      ]
     },
     "metadata": {},
     "output_type": "display_data"
    },
    {
     "name": "stdout",
     "output_type": "stream",
     "text": [
      "\n"
     ]
    },
    {
     "data": {
      "text/plain": [
       "'This is Hawaiian music done very well. Darnall is a master arranger and player of string instruments. Most songs could be background music. However! Over the Rainbow is pure genius. Unforgettable. I would use the word, haunting. I think Judy Garland would approve.'"
      ]
     },
     "metadata": {},
     "output_type": "display_data"
    },
    {
     "data": {
      "text/plain": [
       "0"
      ]
     },
     "metadata": {},
     "output_type": "display_data"
    },
    {
     "data": {
      "text/plain": [
       "tensor(8.7384)"
      ]
     },
     "metadata": {},
     "output_type": "display_data"
    },
    {
     "name": "stdout",
     "output_type": "stream",
     "text": [
      "\n"
     ]
    },
    {
     "data": {
      "text/plain": [
       "'Jerry Garcia was a stone cold genius. The Grateful Dead was his backup band. Bob Weir\\'s solo work is easily as good as the solo work of Bill Wyman, Keith Moon, Dave Davies, and Clarence Clemmons. From a 40 year career this is the \"best\" they could come up with?'"
      ]
     },
     "metadata": {},
     "output_type": "display_data"
    },
    {
     "data": {
      "text/plain": [
       "0"
      ]
     },
     "metadata": {},
     "output_type": "display_data"
    },
    {
     "data": {
      "text/plain": [
       "tensor(8.7288)"
      ]
     },
     "metadata": {},
     "output_type": "display_data"
    },
    {
     "name": "stdout",
     "output_type": "stream",
     "text": [
      "\n"
     ]
    },
    {
     "data": {
      "text/plain": [
       "'The background music is not clear and the CD was a waste of money. One star is too high.'"
      ]
     },
     "metadata": {},
     "output_type": "display_data"
    },
    {
     "data": {
      "text/plain": [
       "1"
      ]
     },
     "metadata": {},
     "output_type": "display_data"
    },
    {
     "data": {
      "text/plain": [
       "tensor(8.6523)"
      ]
     },
     "metadata": {},
     "output_type": "display_data"
    },
    {
     "name": "stdout",
     "output_type": "stream",
     "text": [
      "\n"
     ]
    }
   ],
   "source": [
    "loss_idx = losses.argsort().tolist()[::-1]\n",
    "for idx in loss_idx[:10]:\n",
    "    example = dataset[idx]\n",
    "    display(example['content'])\n",
    "    display(example['label'])\n",
    "    display(losses[idx])\n",
    "    print()"
   ]
  },
  {
   "cell_type": "markdown",
   "id": "5827d066",
   "metadata": {},
   "source": [
    "## Spotlights"
   ]
  },
  {
   "cell_type": "code",
   "execution_count": 14,
   "id": "a4c42de7",
   "metadata": {},
   "outputs": [],
   "source": [
    "spotlights = {}\n",
    "for count in np.arange(1, 6):\n",
    "    spotlights[count] = loadResults(f'spotlight_results/amazon_train_sst_0.05_{count}.pkl')\n",
    "    \n"
   ]
  },
  {
   "cell_type": "code",
   "execution_count": 16,
   "id": "b1ea6a73",
   "metadata": {},
   "outputs": [
    {
     "data": {
      "text/plain": [
       "12480"
      ]
     },
     "metadata": {},
     "output_type": "display_data"
    },
    {
     "data": {
      "text/plain": [
       "'So I ordered this with tahitian cardio, which is AMAZING. So after doing that and the tahitian hip hop (they come together) I decided to try the Cardio Hula. When i took it out of its schrink wrapped case, it definately did look a little funny. I put it in my Boyfriends XBOX 360 and it didnt recognize it as a disk. I tried it in our dvd player, and it still didnt recognise it as a dvd. I looked at the surface, to see if there was any scratches, and to my confusion it was blue, like a DVD-R. I flipped it over and looked more closely at the top and noticed that whoever printed the label needed their printer heads cleaned. I ordered if FROM amazon, I even got the supersaver shipping, which brought my bootleg DVD in record time. I only can play it on my laptop which has a TINY screen.Thanks Amazon, thanks'"
      ]
     },
     "metadata": {},
     "output_type": "display_data"
    },
    {
     "data": {
      "text/plain": [
       "0"
      ]
     },
     "metadata": {},
     "output_type": "display_data"
    },
    {
     "data": {
      "text/plain": [
       "tensor(0.0346)"
      ]
     },
     "metadata": {},
     "output_type": "display_data"
    },
    {
     "data": {
      "text/plain": [
       "tensor(0.0340)"
      ]
     },
     "metadata": {},
     "output_type": "display_data"
    },
    {
     "name": "stdout",
     "output_type": "stream",
     "text": [
      "\n"
     ]
    },
    {
     "data": {
      "text/plain": [
       "4212"
      ]
     },
     "metadata": {},
     "output_type": "display_data"
    },
    {
     "data": {
      "text/plain": [
       "\"This is LOTR light; Well written, but not nearly to the fullest extent of the literary powers Tolkein reached later with LOTR. The story too, is more for younger folks. It should however be read before LOTR because it provides necessary background. It's a quick read too - 1 day.\""
      ]
     },
     "metadata": {},
     "output_type": "display_data"
    },
    {
     "data": {
      "text/plain": [
       "1"
      ]
     },
     "metadata": {},
     "output_type": "display_data"
    },
    {
     "data": {
      "text/plain": [
       "tensor(3.2731)"
      ]
     },
     "metadata": {},
     "output_type": "display_data"
    },
    {
     "data": {
      "text/plain": [
       "tensor(0.0379)"
      ]
     },
     "metadata": {},
     "output_type": "display_data"
    },
    {
     "name": "stdout",
     "output_type": "stream",
     "text": [
      "\n"
     ]
    },
    {
     "data": {
      "text/plain": [
       "1808"
      ]
     },
     "metadata": {},
     "output_type": "display_data"
    },
    {
     "data": {
      "text/plain": [
       "\"It is my girls first year in ballet so I just wanted an inexpensive bag. If you want a really nice bag don't waste your money here. The entire bag is made of urethane and has a cheap feel. The biggest positives are the cute graphics and the straps work well.\""
      ]
     },
     "metadata": {},
     "output_type": "display_data"
    },
    {
     "data": {
      "text/plain": [
       "0"
      ]
     },
     "metadata": {},
     "output_type": "display_data"
    },
    {
     "data": {
      "text/plain": [
       "tensor(0.0412)"
      ]
     },
     "metadata": {},
     "output_type": "display_data"
    },
    {
     "data": {
      "text/plain": [
       "tensor(0.0404)"
      ]
     },
     "metadata": {},
     "output_type": "display_data"
    },
    {
     "name": "stdout",
     "output_type": "stream",
     "text": [
      "\n"
     ]
    },
    {
     "data": {
      "text/plain": [
       "3924"
      ]
     },
     "metadata": {},
     "output_type": "display_data"
    },
    {
     "data": {
      "text/plain": [
       "\"Love the quality of the movieI have a high def wide screen tvwent to the ROOT MENUthe audio had an echo like the sound in a movie theatreAdjusted the audio from Theatre to Living Room and that corrected the musicBUT I still got the echo on my tv for the talkingI played it on my computer--and worked very wellI will have to deal with my tv later! It readjusted the whole tv system.Ah the good old days before HD and all that jazz!There must be a sound adjustment I haven't adjusted yet.\""
      ]
     },
     "metadata": {},
     "output_type": "display_data"
    },
    {
     "data": {
      "text/plain": [
       "1"
      ]
     },
     "metadata": {},
     "output_type": "display_data"
    },
    {
     "data": {
      "text/plain": [
       "tensor(3.5575)"
      ]
     },
     "metadata": {},
     "output_type": "display_data"
    },
    {
     "data": {
      "text/plain": [
       "tensor(0.0285)"
      ]
     },
     "metadata": {},
     "output_type": "display_data"
    },
    {
     "name": "stdout",
     "output_type": "stream",
     "text": [
      "\n"
     ]
    },
    {
     "data": {
      "text/plain": [
       "9966"
      ]
     },
     "metadata": {},
     "output_type": "display_data"
    },
    {
     "data": {
      "text/plain": [
       "\"This book is great and all, the only problem is, you have to make sure you know the words in shorthand already. This book doesn't waste any time and goes straight to the transcription, but that may not be so good for new users. Other than that, this book is great and really goes indepth with the way to transcipt your shorthand notes.\""
      ]
     },
     "metadata": {},
     "output_type": "display_data"
    },
    {
     "data": {
      "text/plain": [
       "1"
      ]
     },
     "metadata": {},
     "output_type": "display_data"
    },
    {
     "data": {
      "text/plain": [
       "tensor(3.0550)"
      ]
     },
     "metadata": {},
     "output_type": "display_data"
    },
    {
     "data": {
      "text/plain": [
       "tensor(0.0471)"
      ]
     },
     "metadata": {},
     "output_type": "display_data"
    },
    {
     "name": "stdout",
     "output_type": "stream",
     "text": [
      "\n"
     ]
    },
    {
     "data": {
      "text/plain": [
       "19215"
      ]
     },
     "metadata": {},
     "output_type": "display_data"
    },
    {
     "data": {
      "text/plain": [
       "'Do NOT waste your money on this! I am 28 years old and have always had oily/problem skin. The benzoyl peroxide in the face wash and \"day cream\" burn and sting when you apply. Also you can\\'t realistically apply the day cream during the day as it leaves a messy white residue on your face. My face never felt clean using this product and I continued to break out. I would use the spot treatment on existing treatments and I would have to say that is the only semi good product they offer: it dries up an existing pimple faster as opposed to using nothing at all. If you expect this to stop your acne it won\\'t, benzoyle peroxide is awful for yous skin and known to cause thin skin and premature aging. As a side note I have started using Lerosett, an organic clay mask/face wash skin care line and let me tell you it is amazing! I have cystic acne and it works. If you are looking for something on the cheaper side try Aztec healing clay, does wonders. :)'"
      ]
     },
     "metadata": {},
     "output_type": "display_data"
    },
    {
     "data": {
      "text/plain": [
       "0"
      ]
     },
     "metadata": {},
     "output_type": "display_data"
    },
    {
     "data": {
      "text/plain": [
       "tensor(0.0444)"
      ]
     },
     "metadata": {},
     "output_type": "display_data"
    },
    {
     "data": {
      "text/plain": [
       "tensor(0.0434)"
      ]
     },
     "metadata": {},
     "output_type": "display_data"
    },
    {
     "name": "stdout",
     "output_type": "stream",
     "text": [
      "\n"
     ]
    },
    {
     "data": {
      "text/plain": [
       "15255"
      ]
     },
     "metadata": {},
     "output_type": "display_data"
    },
    {
     "data": {
      "text/plain": [
       "\"Very nice air hose. I store all 100 ft of it on an electrical cord spool, fits perfect. The re-enforced ends help keep it from kinking, but will still kink if not careful.Can't beat the price either.\""
      ]
     },
     "metadata": {},
     "output_type": "display_data"
    },
    {
     "data": {
      "text/plain": [
       "1"
      ]
     },
     "metadata": {},
     "output_type": "display_data"
    },
    {
     "data": {
      "text/plain": [
       "tensor(3.1833)"
      ]
     },
     "metadata": {},
     "output_type": "display_data"
    },
    {
     "data": {
      "text/plain": [
       "tensor(0.0414)"
      ]
     },
     "metadata": {},
     "output_type": "display_data"
    },
    {
     "name": "stdout",
     "output_type": "stream",
     "text": [
      "\n"
     ]
    },
    {
     "data": {
      "text/plain": [
       "9304"
      ]
     },
     "metadata": {},
     "output_type": "display_data"
    },
    {
     "data": {
      "text/plain": [
       "'I still think my kata dr 461 is better because of the added chest support strap and wider slimmer look but this will beat any shoulder bag. For long walks be it in the city or at a trail I am always looking for a small backpack to fill my needs. This little fellow was smaller than I thought but still I take it and put it to use for my backup dslr when I go out and about.'"
      ]
     },
     "metadata": {},
     "output_type": "display_data"
    },
    {
     "data": {
      "text/plain": [
       "1"
      ]
     },
     "metadata": {},
     "output_type": "display_data"
    },
    {
     "data": {
      "text/plain": [
       "tensor(3.4329)"
      ]
     },
     "metadata": {},
     "output_type": "display_data"
    },
    {
     "data": {
      "text/plain": [
       "tensor(0.0323)"
      ]
     },
     "metadata": {},
     "output_type": "display_data"
    },
    {
     "name": "stdout",
     "output_type": "stream",
     "text": [
      "\n"
     ]
    },
    {
     "data": {
      "text/plain": [
       "9137"
      ]
     },
     "metadata": {},
     "output_type": "display_data"
    },
    {
     "data": {
      "text/plain": [
       "'this is one of the few items I have ever has to return. The fan stopped working just after two days. I did get a prompt refund from amazon.'"
      ]
     },
     "metadata": {},
     "output_type": "display_data"
    },
    {
     "data": {
      "text/plain": [
       "0"
      ]
     },
     "metadata": {},
     "output_type": "display_data"
    },
    {
     "data": {
      "text/plain": [
       "tensor(0.0262)"
      ]
     },
     "metadata": {},
     "output_type": "display_data"
    },
    {
     "data": {
      "text/plain": [
       "tensor(0.0259)"
      ]
     },
     "metadata": {},
     "output_type": "display_data"
    },
    {
     "name": "stdout",
     "output_type": "stream",
     "text": [
      "\n"
     ]
    },
    {
     "data": {
      "text/plain": [
       "10543"
      ]
     },
     "metadata": {},
     "output_type": "display_data"
    },
    {
     "data": {
      "text/plain": [
       "\"I'm sure this is a great product, but my speakers are 9 foot away, and i massively can't be bothered to go and move them. I left the cable on the kitchen table.Also, the packaging has some very racial things stated in it.\""
      ]
     },
     "metadata": {},
     "output_type": "display_data"
    },
    {
     "data": {
      "text/plain": [
       "0"
      ]
     },
     "metadata": {},
     "output_type": "display_data"
    },
    {
     "data": {
      "text/plain": [
       "tensor(0.0518)"
      ]
     },
     "metadata": {},
     "output_type": "display_data"
    },
    {
     "data": {
      "text/plain": [
       "tensor(0.0505)"
      ]
     },
     "metadata": {},
     "output_type": "display_data"
    },
    {
     "name": "stdout",
     "output_type": "stream",
     "text": [
      "\n"
     ]
    },
    {
     "data": {
      "text/plain": [
       "7679"
      ]
     },
     "metadata": {},
     "output_type": "display_data"
    },
    {
     "data": {
      "text/plain": [
       "\"Great Backpack! Love the color! The only thing, is that it gets dirty easily. I got a pen mark on the pocket, and I'm not sure how to remove it :(\""
      ]
     },
     "metadata": {},
     "output_type": "display_data"
    },
    {
     "data": {
      "text/plain": [
       "1"
      ]
     },
     "metadata": {},
     "output_type": "display_data"
    },
    {
     "data": {
      "text/plain": [
       "tensor(2.8205)"
      ]
     },
     "metadata": {},
     "output_type": "display_data"
    },
    {
     "data": {
      "text/plain": [
       "tensor(0.0596)"
      ]
     },
     "metadata": {},
     "output_type": "display_data"
    },
    {
     "name": "stdout",
     "output_type": "stream",
     "text": [
      "\n"
     ]
    },
    {
     "data": {
      "text/plain": [
       "3450"
      ]
     },
     "metadata": {},
     "output_type": "display_data"
    },
    {
     "data": {
      "text/plain": [
       "\"I'm using this on a Win98SE PC to connect to an Apple AirPort Base Station. It sees the base station fine, but when the Belkin is touching the base station it transmits at 70% signal strength. My PowerBook can see the base station at 100% one floor up, 80% on the second floor up.Belkin software was easy to use and configure. Maybe my HP Pavilion causes a lot of RF interference? Unknown, but I'd try a Linksys or Hawking over the Blekin. Don't be swayed by the price.\""
      ]
     },
     "metadata": {},
     "output_type": "display_data"
    },
    {
     "data": {
      "text/plain": [
       "0"
      ]
     },
     "metadata": {},
     "output_type": "display_data"
    },
    {
     "data": {
      "text/plain": [
       "tensor(0.0434)"
      ]
     },
     "metadata": {},
     "output_type": "display_data"
    },
    {
     "data": {
      "text/plain": [
       "tensor(0.0424)"
      ]
     },
     "metadata": {},
     "output_type": "display_data"
    },
    {
     "name": "stdout",
     "output_type": "stream",
     "text": [
      "\n"
     ]
    },
    {
     "data": {
      "text/plain": [
       "14374"
      ]
     },
     "metadata": {},
     "output_type": "display_data"
    },
    {
     "data": {
      "text/plain": [
       "\"Jake Grafton has to teach marines what it's like to be on an aircraft carrier. Landing and taking off on a slipery deck, learning all the parts to a carrier and how to put up with Flap LeBeau. This book you can't put down, I couldn't.\""
      ]
     },
     "metadata": {},
     "output_type": "display_data"
    },
    {
     "data": {
      "text/plain": [
       "1"
      ]
     },
     "metadata": {},
     "output_type": "display_data"
    },
    {
     "data": {
      "text/plain": [
       "tensor(3.3566)"
      ]
     },
     "metadata": {},
     "output_type": "display_data"
    },
    {
     "data": {
      "text/plain": [
       "tensor(0.0349)"
      ]
     },
     "metadata": {},
     "output_type": "display_data"
    },
    {
     "name": "stdout",
     "output_type": "stream",
     "text": [
      "\n"
     ]
    },
    {
     "data": {
      "text/plain": [
       "11713"
      ]
     },
     "metadata": {},
     "output_type": "display_data"
    },
    {
     "data": {
      "text/plain": [
       "'Mas Amedda was always one of the more interesting aliens in the prequels. This figure gets pretty high marks. The only thing I would like to see in a future update is a soft goods outer cloak. The hard plastic works well enough but limits articulation. Also, the soft goods would probably just look even more regal.'"
      ]
     },
     "metadata": {},
     "output_type": "display_data"
    },
    {
     "data": {
      "text/plain": [
       "1"
      ]
     },
     "metadata": {},
     "output_type": "display_data"
    },
    {
     "data": {
      "text/plain": [
       "tensor(3.2424)"
      ]
     },
     "metadata": {},
     "output_type": "display_data"
    },
    {
     "data": {
      "text/plain": [
       "tensor(0.0391)"
      ]
     },
     "metadata": {},
     "output_type": "display_data"
    },
    {
     "name": "stdout",
     "output_type": "stream",
     "text": [
      "\n"
     ]
    },
    {
     "data": {
      "text/plain": [
       "14406"
      ]
     },
     "metadata": {},
     "output_type": "display_data"
    },
    {
     "data": {
      "text/plain": [
       "'this album isnt good like megadeth albums but its not so bad dave is great rythem ... guitar player but you dont see in this album guitar riffs like in megdeth rust in peace- countdown - and youatnsia if your megadet hfun buy this if your not mega fun dont buy this /.'"
      ]
     },
     "metadata": {},
     "output_type": "display_data"
    },
    {
     "data": {
      "text/plain": [
       "1"
      ]
     },
     "metadata": {},
     "output_type": "display_data"
    },
    {
     "data": {
      "text/plain": [
       "tensor(3.3459)"
      ]
     },
     "metadata": {},
     "output_type": "display_data"
    },
    {
     "data": {
      "text/plain": [
       "tensor(0.0352)"
      ]
     },
     "metadata": {},
     "output_type": "display_data"
    },
    {
     "name": "stdout",
     "output_type": "stream",
     "text": [
      "\n"
     ]
    },
    {
     "data": {
      "text/plain": [
       "15683"
      ]
     },
     "metadata": {},
     "output_type": "display_data"
    },
    {
     "data": {
      "text/plain": [
       "\"Love the functionality - being able to separate for different uses esp. meat and that they flex to enable direct frop into the pan. But mine came off color (sorta transparent) at the corners (and this wasn't a deisgn feaure since there was no pattern in all the four sheets) but still good value - not worth exchanging so I kept them. I guess mine look unique.\""
      ]
     },
     "metadata": {},
     "output_type": "display_data"
    },
    {
     "data": {
      "text/plain": [
       "1"
      ]
     },
     "metadata": {},
     "output_type": "display_data"
    },
    {
     "data": {
      "text/plain": [
       "tensor(3.2593)"
      ]
     },
     "metadata": {},
     "output_type": "display_data"
    },
    {
     "data": {
      "text/plain": [
       "tensor(0.0384)"
      ]
     },
     "metadata": {},
     "output_type": "display_data"
    },
    {
     "name": "stdout",
     "output_type": "stream",
     "text": [
      "\n"
     ]
    },
    {
     "data": {
      "text/plain": [
       "7109"
      ]
     },
     "metadata": {},
     "output_type": "display_data"
    },
    {
     "data": {
      "text/plain": [
       "'Great value for the price..... very comfortable and easy to use. The one thing I find which causes some discomfort is the foot cushioning mechanism. Being that you are actually hanging by your feet in full vertical, I feel the cushioning should have been designed in such a way in order to prevent any possibility of pain..... I do experience pain in the back of my ankles once hanging for over a minute, or after doing crunches. I\\'m 5\\'5\" tall and weight 112 lbs., so it is not due to excessive weight. Otherwise the product is a great deal.'"
      ]
     },
     "metadata": {},
     "output_type": "display_data"
    },
    {
     "data": {
      "text/plain": [
       "1"
      ]
     },
     "metadata": {},
     "output_type": "display_data"
    },
    {
     "data": {
      "text/plain": [
       "tensor(3.5391)"
      ]
     },
     "metadata": {},
     "output_type": "display_data"
    },
    {
     "data": {
      "text/plain": [
       "tensor(0.0290)"
      ]
     },
     "metadata": {},
     "output_type": "display_data"
    },
    {
     "name": "stdout",
     "output_type": "stream",
     "text": [
      "\n"
     ]
    },
    {
     "data": {
      "text/plain": [
       "8518"
      ]
     },
     "metadata": {},
     "output_type": "display_data"
    },
    {
     "data": {
      "text/plain": [
       "'I have had a shower head like this in the past so when it came time to replace the old handheld one we had, I went looking for this type. I couldn\\'t find it locally so was pleased when Amazon had it. Easy installation (no thread tape needed, uses a rubber seal to tighten against) and you can aim the water pretty much anywhere once installed. I am 6\\' 4\" and this is the only shower head that I have been able to actually get under. The rest of my family is very pleased with it too so I would recommend buying this shower head 100%.'"
      ]
     },
     "metadata": {},
     "output_type": "display_data"
    },
    {
     "data": {
      "text/plain": [
       "1"
      ]
     },
     "metadata": {},
     "output_type": "display_data"
    },
    {
     "data": {
      "text/plain": [
       "tensor(3.6631)"
      ]
     },
     "metadata": {},
     "output_type": "display_data"
    },
    {
     "data": {
      "text/plain": [
       "tensor(0.0257)"
      ]
     },
     "metadata": {},
     "output_type": "display_data"
    },
    {
     "name": "stdout",
     "output_type": "stream",
     "text": [
      "\n"
     ]
    },
    {
     "data": {
      "text/plain": [
       "18339"
      ]
     },
     "metadata": {},
     "output_type": "display_data"
    },
    {
     "data": {
      "text/plain": [
       "'If you own a Turbo Scratcher you will need to purchase replacement pads for it. Cats love these pads to sharpen their claws, but they will rip them up pretty quickly. The only downside to them is they are quite expensive for something that is nothing more than cardboard. Amazon has the best price for these replacement pads, and you will want to buy them in quantity.When your pad gets torn up you can flip it over to get additional usage out of it. Cats will enjoy them even more if you sprinkle catnip on them - our cats will roll around on top of them and lay on them.'"
      ]
     },
     "metadata": {},
     "output_type": "display_data"
    },
    {
     "data": {
      "text/plain": [
       "1"
      ]
     },
     "metadata": {},
     "output_type": "display_data"
    },
    {
     "data": {
      "text/plain": [
       "tensor(3.1822)"
      ]
     },
     "metadata": {},
     "output_type": "display_data"
    },
    {
     "data": {
      "text/plain": [
       "tensor(0.0415)"
      ]
     },
     "metadata": {},
     "output_type": "display_data"
    },
    {
     "name": "stdout",
     "output_type": "stream",
     "text": [
      "\n"
     ]
    },
    {
     "data": {
      "text/plain": [
       "2605"
      ]
     },
     "metadata": {},
     "output_type": "display_data"
    },
    {
     "data": {
      "text/plain": [
       "'I was having trouble finding a copy of this classic movie anywhere. I was eccited to see a copy on DVD Unfortunatley the word \"COPY\" is correct. It was a copy. The quality is good and the Menu looks good but the disc was definetly a copy. The case was also a copy. I am glad to have this in my collection nonetheless but was upset it was not original.'"
      ]
     },
     "metadata": {},
     "output_type": "display_data"
    },
    {
     "data": {
      "text/plain": [
       "0"
      ]
     },
     "metadata": {},
     "output_type": "display_data"
    },
    {
     "data": {
      "text/plain": [
       "tensor(0.0308)"
      ]
     },
     "metadata": {},
     "output_type": "display_data"
    },
    {
     "data": {
      "text/plain": [
       "tensor(0.0303)"
      ]
     },
     "metadata": {},
     "output_type": "display_data"
    },
    {
     "name": "stdout",
     "output_type": "stream",
     "text": [
      "\n"
     ]
    },
    {
     "data": {
      "text/plain": [
       "15353"
      ]
     },
     "metadata": {},
     "output_type": "display_data"
    },
    {
     "data": {
      "text/plain": [
       "'This is a great idea. I don\\'t have to worry about stepping on my cat when I walk around the house with the lights off. Only problem is my cat has a med size neck (from other custom collars I\\'ve ordered)and this collar is very large. I had to move the black plastic buckle to the middle of the \"plastic glow band\" in order to fit my cat. The glow part is plastic and stiff, so the buckle doesn\\'t easily adjust to fit smaller cats.'"
      ]
     },
     "metadata": {},
     "output_type": "display_data"
    },
    {
     "data": {
      "text/plain": [
       "1"
      ]
     },
     "metadata": {},
     "output_type": "display_data"
    },
    {
     "data": {
      "text/plain": [
       "tensor(3.1100)"
      ]
     },
     "metadata": {},
     "output_type": "display_data"
    },
    {
     "data": {
      "text/plain": [
       "tensor(0.0446)"
      ]
     },
     "metadata": {},
     "output_type": "display_data"
    },
    {
     "name": "stdout",
     "output_type": "stream",
     "text": [
      "\n"
     ]
    },
    {
     "data": {
      "text/plain": [
       "7896"
      ]
     },
     "metadata": {},
     "output_type": "display_data"
    },
    {
     "data": {
      "text/plain": [
       "'these head phones are great for truck drivers, the battery life is on ly about 8 hours other than that there perfect'"
      ]
     },
     "metadata": {},
     "output_type": "display_data"
    },
    {
     "data": {
      "text/plain": [
       "1"
      ]
     },
     "metadata": {},
     "output_type": "display_data"
    },
    {
     "data": {
      "text/plain": [
       "tensor(3.0363)"
      ]
     },
     "metadata": {},
     "output_type": "display_data"
    },
    {
     "data": {
      "text/plain": [
       "tensor(0.0480)"
      ]
     },
     "metadata": {},
     "output_type": "display_data"
    },
    {
     "name": "stdout",
     "output_type": "stream",
     "text": [
      "\n"
     ]
    },
    {
     "data": {
      "text/plain": [
       "2105"
      ]
     },
     "metadata": {},
     "output_type": "display_data"
    },
    {
     "data": {
      "text/plain": [
       "\"pro's :great fun, portable.con's: hard to read LED except in darkness ,no off button.As soon as I got this toy I started playing it.but then ,I found out that in bright light I could not see the LED so I went in some shade.Now thats just fine except theres no shade indoors!so I found a dull light and used it.But then I brushed the yesbutton and no button would turn it off so I had to play it though.But overall if you have a dull reading light and you are patient, buy this product.\""
      ]
     },
     "metadata": {},
     "output_type": "display_data"
    },
    {
     "data": {
      "text/plain": [
       "1"
      ]
     },
     "metadata": {},
     "output_type": "display_data"
    },
    {
     "data": {
      "text/plain": [
       "tensor(3.4328)"
      ]
     },
     "metadata": {},
     "output_type": "display_data"
    },
    {
     "data": {
      "text/plain": [
       "tensor(0.0323)"
      ]
     },
     "metadata": {},
     "output_type": "display_data"
    },
    {
     "name": "stdout",
     "output_type": "stream",
     "text": [
      "\n"
     ]
    },
    {
     "data": {
      "text/plain": [
       "6898"
      ]
     },
     "metadata": {},
     "output_type": "display_data"
    },
    {
     "data": {
      "text/plain": [
       "'I love the other films Peter Jackson has made. The best is Heavenly Creatures, if you have not seen this movie your missing out! I thought this movie was overly dramatic and to long. Had many unbeliveable moments and was so far fetched! The only cool thing about it was the natives, they were freaky.'"
      ]
     },
     "metadata": {},
     "output_type": "display_data"
    },
    {
     "data": {
      "text/plain": [
       "0"
      ]
     },
     "metadata": {},
     "output_type": "display_data"
    },
    {
     "data": {
      "text/plain": [
       "tensor(0.0314)"
      ]
     },
     "metadata": {},
     "output_type": "display_data"
    },
    {
     "data": {
      "text/plain": [
       "tensor(0.0309)"
      ]
     },
     "metadata": {},
     "output_type": "display_data"
    },
    {
     "name": "stdout",
     "output_type": "stream",
     "text": [
      "\n"
     ]
    },
    {
     "data": {
      "text/plain": [
       "14849"
      ]
     },
     "metadata": {},
     "output_type": "display_data"
    },
    {
     "data": {
      "text/plain": [
       "'The Allen wrenches are well made and come in an excellent assortment of sizes. The balldriver tip and long shaft make these wrenches particularly suited for hard-to-reach areas.I have not used the Torx wrenches, as I already have a set. The handle that the torx wrenches fold into is plastic and feels a little flimsy, but this is a \"bonus set\" and didn\\'t influence my purchase decision.'"
      ]
     },
     "metadata": {},
     "output_type": "display_data"
    },
    {
     "data": {
      "text/plain": [
       "1"
      ]
     },
     "metadata": {},
     "output_type": "display_data"
    },
    {
     "data": {
      "text/plain": [
       "tensor(2.9953)"
      ]
     },
     "metadata": {},
     "output_type": "display_data"
    },
    {
     "data": {
      "text/plain": [
       "tensor(0.0500)"
      ]
     },
     "metadata": {},
     "output_type": "display_data"
    },
    {
     "name": "stdout",
     "output_type": "stream",
     "text": [
      "\n"
     ]
    },
    {
     "data": {
      "text/plain": [
       "17507"
      ]
     },
     "metadata": {},
     "output_type": "display_data"
    },
    {
     "data": {
      "text/plain": [
       "\"There r 2 good songs on here. If you wanna find a good album by Vizzan Halen, get the third!!!! It has the singer from one of the GRIZZEATEST BANDS EVER: EXTREME! David & Sammy are DONE! You're 15 mins of fizzame are OVER, dudes! Just download the 2 good songs!\""
      ]
     },
     "metadata": {},
     "output_type": "display_data"
    },
    {
     "data": {
      "text/plain": [
       "0"
      ]
     },
     "metadata": {},
     "output_type": "display_data"
    },
    {
     "data": {
      "text/plain": [
       "tensor(0.0314)"
      ]
     },
     "metadata": {},
     "output_type": "display_data"
    },
    {
     "data": {
      "text/plain": [
       "tensor(0.0309)"
      ]
     },
     "metadata": {},
     "output_type": "display_data"
    },
    {
     "name": "stdout",
     "output_type": "stream",
     "text": [
      "\n"
     ]
    },
    {
     "data": {
      "text/plain": [
       "318"
      ]
     },
     "metadata": {},
     "output_type": "display_data"
    },
    {
     "data": {
      "text/plain": [
       "\"I try everything new, hoping to find something that will show me some results right away and give me back the glow in my skin that seems to wither away as time passes (and I'm only 36!) --Anyway, when I read about rice bran, I thought why not - this brand contains a lot of rice bran - it's like the 2nd ingredient in everything after water, and there is nothing else in it I couldn't pronounce. The stuff smells great, and goes on non-greasy, especially the face cream it's like my face is so thirsty for it that it just sucks it all in. The TrueRenu store gives you cute little pahmplets with details on all the ingredients, and insturctions (the packages are written in Japanese so you need to read their instructions) - and I even got a free gift of green tea - yum!\""
      ]
     },
     "metadata": {},
     "output_type": "display_data"
    },
    {
     "data": {
      "text/plain": [
       "1"
      ]
     },
     "metadata": {},
     "output_type": "display_data"
    },
    {
     "data": {
      "text/plain": [
       "tensor(3.1198)"
      ]
     },
     "metadata": {},
     "output_type": "display_data"
    },
    {
     "data": {
      "text/plain": [
       "tensor(0.0442)"
      ]
     },
     "metadata": {},
     "output_type": "display_data"
    },
    {
     "name": "stdout",
     "output_type": "stream",
     "text": [
      "\n"
     ]
    },
    {
     "data": {
      "text/plain": [
       "76"
      ]
     },
     "metadata": {},
     "output_type": "display_data"
    },
    {
     "data": {
      "text/plain": [
       "\"I have been looking for something to hold in my stomach that wasn't elastic based. Found this item and have to say I am pretty pleased. The hooks do take a while, but once they are all done, the waist cincher does what it says it will do. The only negative thing is what a lot of the other reviews complain about. It does tend to cause back fat to appear more prominent by your underarms. So I can't wear this with a top that is clingy. Can only wear with looser fitting shirts. Oh well, nothing is perfect.\""
      ]
     },
     "metadata": {},
     "output_type": "display_data"
    },
    {
     "data": {
      "text/plain": [
       "1"
      ]
     },
     "metadata": {},
     "output_type": "display_data"
    },
    {
     "data": {
      "text/plain": [
       "tensor(3.2000)"
      ]
     },
     "metadata": {},
     "output_type": "display_data"
    },
    {
     "data": {
      "text/plain": [
       "tensor(0.0408)"
      ]
     },
     "metadata": {},
     "output_type": "display_data"
    },
    {
     "name": "stdout",
     "output_type": "stream",
     "text": [
      "\n"
     ]
    },
    {
     "data": {
      "text/plain": [
       "8183"
      ]
     },
     "metadata": {},
     "output_type": "display_data"
    },
    {
     "data": {
      "text/plain": [
       "'The first time I put this CD into the Discman, I was feelin it. The album was pretty hot. Than I heard it again. The beats are tight, but Bone sounds like Popeye. They gotta slow down the flow.'"
      ]
     },
     "metadata": {},
     "output_type": "display_data"
    },
    {
     "data": {
      "text/plain": [
       "0"
      ]
     },
     "metadata": {},
     "output_type": "display_data"
    },
    {
     "data": {
      "text/plain": [
       "tensor(0.0475)"
      ]
     },
     "metadata": {},
     "output_type": "display_data"
    },
    {
     "data": {
      "text/plain": [
       "tensor(0.0464)"
      ]
     },
     "metadata": {},
     "output_type": "display_data"
    },
    {
     "name": "stdout",
     "output_type": "stream",
     "text": [
      "\n"
     ]
    },
    {
     "data": {
      "text/plain": [
       "14913"
      ]
     },
     "metadata": {},
     "output_type": "display_data"
    },
    {
     "data": {
      "text/plain": [
       "'I purchased two boxes of nails and was afraid to get them all busted up, after I read the other reviews. But I bet there is maybe a total of two sticks worth of pieces. I mean a couple off the ends of sticks, to total 2 complete sticks. I would say there 99.8 % useable. Great price and free freight.'"
      ]
     },
     "metadata": {},
     "output_type": "display_data"
    },
    {
     "data": {
      "text/plain": [
       "1"
      ]
     },
     "metadata": {},
     "output_type": "display_data"
    },
    {
     "data": {
      "text/plain": [
       "tensor(3.7128)"
      ]
     },
     "metadata": {},
     "output_type": "display_data"
    },
    {
     "data": {
      "text/plain": [
       "tensor(0.0244)"
      ]
     },
     "metadata": {},
     "output_type": "display_data"
    },
    {
     "name": "stdout",
     "output_type": "stream",
     "text": [
      "\n"
     ]
    },
    {
     "data": {
      "text/plain": [
       "2340"
      ]
     },
     "metadata": {},
     "output_type": "display_data"
    },
    {
     "data": {
      "text/plain": [
       "'This book is an excellent story. Lots of California history..or better..Alta California as it was known in the era.BEWARE OF THE PHYSICAL BOOK !!!!! It is about 10\"x11\"...printing of the story is VERY!!!! pale.I will keep this....but have ordered an older, normal paperback version...similar to the one I left accidentally at the San Diego airport.Terrible size and print itself. Find another book of Ramona, by Helen Hunt Jackson....and be ready to want to go to Old Town San Diego.Michaelene Gon.'"
      ]
     },
     "metadata": {},
     "output_type": "display_data"
    },
    {
     "data": {
      "text/plain": [
       "0"
      ]
     },
     "metadata": {},
     "output_type": "display_data"
    },
    {
     "data": {
      "text/plain": [
       "tensor(0.0353)"
      ]
     },
     "metadata": {},
     "output_type": "display_data"
    },
    {
     "data": {
      "text/plain": [
       "tensor(0.0347)"
      ]
     },
     "metadata": {},
     "output_type": "display_data"
    },
    {
     "name": "stdout",
     "output_type": "stream",
     "text": [
      "\n"
     ]
    },
    {
     "data": {
      "text/plain": [
       "17557"
      ]
     },
     "metadata": {},
     "output_type": "display_data"
    },
    {
     "data": {
      "text/plain": [
       "\"I chose that rating cause I truly feel that they could've done a better job showing hendrix's visionas an artist of that era. They never delved into his personal feelings about his own music and they also never mentioned how he felt trapped between his Contracts with ppx industries all of his legal problems with his record companies. And the music that wasn't hendrix was terrible.\""
      ]
     },
     "metadata": {},
     "output_type": "display_data"
    },
    {
     "data": {
      "text/plain": [
       "0"
      ]
     },
     "metadata": {},
     "output_type": "display_data"
    },
    {
     "data": {
      "text/plain": [
       "tensor(0.0292)"
      ]
     },
     "metadata": {},
     "output_type": "display_data"
    },
    {
     "data": {
      "text/plain": [
       "tensor(0.0288)"
      ]
     },
     "metadata": {},
     "output_type": "display_data"
    },
    {
     "name": "stdout",
     "output_type": "stream",
     "text": [
      "\n"
     ]
    },
    {
     "data": {
      "text/plain": [
       "6417"
      ]
     },
     "metadata": {},
     "output_type": "display_data"
    },
    {
     "data": {
      "text/plain": [
       "\"These are great songs but I agree with earlier reviewers. This is not a greatest hits album. Why so few tracks over 2 cds? Roll With It, Whatever, Stand By Me, All Around the World, Hindu Times, Stop Crying Your Heart Out, Little By Little, It's Good to Be Free and Round Are Way are all BIG omissions. Especially Little By Little.\""
      ]
     },
     "metadata": {},
     "output_type": "display_data"
    },
    {
     "data": {
      "text/plain": [
       "1"
      ]
     },
     "metadata": {},
     "output_type": "display_data"
    },
    {
     "data": {
      "text/plain": [
       "tensor(3.3776)"
      ]
     },
     "metadata": {},
     "output_type": "display_data"
    },
    {
     "data": {
      "text/plain": [
       "tensor(0.0341)"
      ]
     },
     "metadata": {},
     "output_type": "display_data"
    },
    {
     "name": "stdout",
     "output_type": "stream",
     "text": [
      "\n"
     ]
    },
    {
     "data": {
      "text/plain": [
       "6816"
      ]
     },
     "metadata": {},
     "output_type": "display_data"
    },
    {
     "data": {
      "text/plain": [
       "\"If you are one of those consumers (as I am) that will purchase products because of aesthetics, then this product is for you/your dog. We have the large version and it is almost too big for our black lab--it holds a lot of food. The bowl has a nice weight to it and non-skid feet. Please note that our turquoise bowl faded, and although this bowl is dishwasher-safe we washed it by hand. The underside of the bowl stayed bright turquoise, but the exposed side faded quite a bit in a few months. The polymer material the bowl is constructed of is heavy and sturdy, however, it is also very rigid and I discovered that if you drop the bowl it breaks into many sharp pieces. It's a great design and I would recommend purchasing it if you like the design, but expect the color to fade and handle carefully.\""
      ]
     },
     "metadata": {},
     "output_type": "display_data"
    },
    {
     "data": {
      "text/plain": [
       "1"
      ]
     },
     "metadata": {},
     "output_type": "display_data"
    },
    {
     "data": {
      "text/plain": [
       "tensor(2.8926)"
      ]
     },
     "metadata": {},
     "output_type": "display_data"
    },
    {
     "data": {
      "text/plain": [
       "tensor(0.0554)"
      ]
     },
     "metadata": {},
     "output_type": "display_data"
    },
    {
     "name": "stdout",
     "output_type": "stream",
     "text": [
      "\n"
     ]
    },
    {
     "data": {
      "text/plain": [
       "16878"
      ]
     },
     "metadata": {},
     "output_type": "display_data"
    },
    {
     "data": {
      "text/plain": [
       "'this stater is actually 20 percent stronger and last longer ive had it in my bike over a year now and as soon as i put it in i felt it had more power im bout to buy an extra one and sell this for more'"
      ]
     },
     "metadata": {},
     "output_type": "display_data"
    },
    {
     "data": {
      "text/plain": [
       "1"
      ]
     },
     "metadata": {},
     "output_type": "display_data"
    },
    {
     "data": {
      "text/plain": [
       "tensor(3.2662)"
      ]
     },
     "metadata": {},
     "output_type": "display_data"
    },
    {
     "data": {
      "text/plain": [
       "tensor(0.0381)"
      ]
     },
     "metadata": {},
     "output_type": "display_data"
    },
    {
     "name": "stdout",
     "output_type": "stream",
     "text": [
      "\n"
     ]
    },
    {
     "data": {
      "text/plain": [
       "7479"
      ]
     },
     "metadata": {},
     "output_type": "display_data"
    },
    {
     "data": {
      "text/plain": [
       "'This movie is just too good for words. It gives you as many laughs as the red green show. The slapstick shenanighans keep comming as the laughs keep rolling. I once laughed so hard i fell asleep and woke up and turned the movie off. One liners, Obesity, Gags, Puns, ensue. Go and rent this now along with once bitten.'"
      ]
     },
     "metadata": {},
     "output_type": "display_data"
    },
    {
     "data": {
      "text/plain": [
       "1"
      ]
     },
     "metadata": {},
     "output_type": "display_data"
    },
    {
     "data": {
      "text/plain": [
       "tensor(3.3703)"
      ]
     },
     "metadata": {},
     "output_type": "display_data"
    },
    {
     "data": {
      "text/plain": [
       "tensor(0.0344)"
      ]
     },
     "metadata": {},
     "output_type": "display_data"
    },
    {
     "name": "stdout",
     "output_type": "stream",
     "text": [
      "\n"
     ]
    },
    {
     "data": {
      "text/plain": [
       "12844"
      ]
     },
     "metadata": {},
     "output_type": "display_data"
    },
    {
     "data": {
      "text/plain": [
       "'I now own 3 of these Hunter made holsters. The 1090-50 crossdraw \"only\" fits Colt clones with barrels up to 7 1/2\". The 1090-40 \"two way, crossdraw or strong side use,\" fits Colt clones with barrels up to 6\". I like a crossdraw that hangs more horizontal than vertical, the 1090-40 does that more so than the 1090-50. Also, the 1090-50 has a closed end while the 1090-40 has an open end. Very basic unlined but useful, to me, holsters.'"
      ]
     },
     "metadata": {},
     "output_type": "display_data"
    },
    {
     "data": {
      "text/plain": [
       "1"
      ]
     },
     "metadata": {},
     "output_type": "display_data"
    },
    {
     "data": {
      "text/plain": [
       "tensor(3.5103)"
      ]
     },
     "metadata": {},
     "output_type": "display_data"
    },
    {
     "data": {
      "text/plain": [
       "tensor(0.0299)"
      ]
     },
     "metadata": {},
     "output_type": "display_data"
    },
    {
     "name": "stdout",
     "output_type": "stream",
     "text": [
      "\n"
     ]
    },
    {
     "data": {
      "text/plain": [
       "11324"
      ]
     },
     "metadata": {},
     "output_type": "display_data"
    },
    {
     "data": {
      "text/plain": [
       "'The book is fine for beginners in the conservation genetics.So the price, I think that is expensive, because the book is just only an introductionto conservation genetics.'"
      ]
     },
     "metadata": {},
     "output_type": "display_data"
    },
    {
     "data": {
      "text/plain": [
       "0"
      ]
     },
     "metadata": {},
     "output_type": "display_data"
    },
    {
     "data": {
      "text/plain": [
       "tensor(0.0537)"
      ]
     },
     "metadata": {},
     "output_type": "display_data"
    },
    {
     "data": {
      "text/plain": [
       "tensor(0.0523)"
      ]
     },
     "metadata": {},
     "output_type": "display_data"
    },
    {
     "name": "stdout",
     "output_type": "stream",
     "text": [
      "\n"
     ]
    },
    {
     "data": {
      "text/plain": [
       "2731"
      ]
     },
     "metadata": {},
     "output_type": "display_data"
    },
    {
     "data": {
      "text/plain": [
       "'I have moderatly curly hair and have never known how to style it. I am uncoordinated with flat irons and round brushes with hair dryers. This thing is awsome. I can easily style my hair straight and not feel like I need an extra hand. It is adjustable depending how curly your hair is. It is easily packable for traveling. Apply straightning product, if desired, after you wash, then style when your hair is about two thirds dry, or if you wash your hair at night, just dampen it a little in the AM and style.'"
      ]
     },
     "metadata": {},
     "output_type": "display_data"
    },
    {
     "data": {
      "text/plain": [
       "1"
      ]
     },
     "metadata": {},
     "output_type": "display_data"
    },
    {
     "data": {
      "text/plain": [
       "tensor(3.2149)"
      ]
     },
     "metadata": {},
     "output_type": "display_data"
    },
    {
     "data": {
      "text/plain": [
       "tensor(0.0402)"
      ]
     },
     "metadata": {},
     "output_type": "display_data"
    },
    {
     "name": "stdout",
     "output_type": "stream",
     "text": [
      "\n"
     ]
    },
    {
     "data": {
      "text/plain": [
       "14754"
      ]
     },
     "metadata": {},
     "output_type": "display_data"
    },
    {
     "data": {
      "text/plain": [
       "'I think the material in this audio book is amazing.I have a hard time getting through it because of the actor chosen to read the text.His voice and affectations are beyond annoying.I wish careful consideration would be given when it comes to choosing who is to read for the audio book!'"
      ]
     },
     "metadata": {},
     "output_type": "display_data"
    },
    {
     "data": {
      "text/plain": [
       "0"
      ]
     },
     "metadata": {},
     "output_type": "display_data"
    },
    {
     "data": {
      "text/plain": [
       "tensor(0.0441)"
      ]
     },
     "metadata": {},
     "output_type": "display_data"
    },
    {
     "data": {
      "text/plain": [
       "tensor(0.0431)"
      ]
     },
     "metadata": {},
     "output_type": "display_data"
    },
    {
     "name": "stdout",
     "output_type": "stream",
     "text": [
      "\n"
     ]
    },
    {
     "data": {
      "text/plain": [
       "5832"
      ]
     },
     "metadata": {},
     "output_type": "display_data"
    },
    {
     "data": {
      "text/plain": [
       "'I really like the product, its way smaller that I thought, 2 reason i had to send it back, 1. dead pixel, 2. had to reset 3 times in one hour. i dont know wat the heck is wrong with it. it doesnt support kingstore secure digital card, (4gb), otherwise the lcd is cristal clear, has wifi internet which is preety amazing, fast, i didnt get to see everything yet cuz i shiped it back the same day i got it, hope the one i am getting now comes with no diffects.'"
      ]
     },
     "metadata": {},
     "output_type": "display_data"
    },
    {
     "data": {
      "text/plain": [
       "1"
      ]
     },
     "metadata": {},
     "output_type": "display_data"
    },
    {
     "data": {
      "text/plain": [
       "tensor(3.5558)"
      ]
     },
     "metadata": {},
     "output_type": "display_data"
    },
    {
     "data": {
      "text/plain": [
       "tensor(0.0286)"
      ]
     },
     "metadata": {},
     "output_type": "display_data"
    },
    {
     "name": "stdout",
     "output_type": "stream",
     "text": [
      "\n"
     ]
    },
    {
     "data": {
      "text/plain": [
       "15893"
      ]
     },
     "metadata": {},
     "output_type": "display_data"
    },
    {
     "data": {
      "text/plain": [
       "\"Well, my review is a short one...I am a real fanatic of all the novels, I read the six of them 5 times, both in French and in English...BUT this movie is way too weird, most of the actors are week, it's like dune in Twin Peaks...Well, no thanks, the true fans will understand the incompatibility !!!!\""
      ]
     },
     "metadata": {},
     "output_type": "display_data"
    },
    {
     "data": {
      "text/plain": [
       "0"
      ]
     },
     "metadata": {},
     "output_type": "display_data"
    },
    {
     "data": {
      "text/plain": [
       "tensor(0.0308)"
      ]
     },
     "metadata": {},
     "output_type": "display_data"
    },
    {
     "data": {
      "text/plain": [
       "tensor(0.0304)"
      ]
     },
     "metadata": {},
     "output_type": "display_data"
    },
    {
     "name": "stdout",
     "output_type": "stream",
     "text": [
      "\n"
     ]
    },
    {
     "data": {
      "text/plain": [
       "819"
      ]
     },
     "metadata": {},
     "output_type": "display_data"
    },
    {
     "data": {
      "text/plain": [
       "\"this game is hard and I still havn't beaten it, and I have had it for two mothes. I reconmend for only skilled players play.DELTA 904thanks for youre time and patience\""
      ]
     },
     "metadata": {},
     "output_type": "display_data"
    },
    {
     "data": {
      "text/plain": [
       "1"
      ]
     },
     "metadata": {},
     "output_type": "display_data"
    },
    {
     "data": {
      "text/plain": [
       "tensor(3.1931)"
      ]
     },
     "metadata": {},
     "output_type": "display_data"
    },
    {
     "data": {
      "text/plain": [
       "tensor(0.0410)"
      ]
     },
     "metadata": {},
     "output_type": "display_data"
    },
    {
     "name": "stdout",
     "output_type": "stream",
     "text": [
      "\n"
     ]
    },
    {
     "data": {
      "text/plain": [
       "5843"
      ]
     },
     "metadata": {},
     "output_type": "display_data"
    },
    {
     "data": {
      "text/plain": [
       "\"Well you don't have to be a history buff to get the gags in this movie. Both lead actresses have that ditzy, aloof girl next door routine done pat and this along with the situations they accidently find themselves in makes for one heck of a re-watchable movie. I usually love DVD's that have enough content to last 10 or more viewings and this definately one of them. There are plenty of jokes or play on the word ' Dick ' in this movie and that alone is good enough to last for multiple viewings. I'm not a history buff, but you don't have to be to get how ' Walnut Leaves ' could have re-written the history books...There's to much to this movie to explain, just buy its money well spent.\""
      ]
     },
     "metadata": {},
     "output_type": "display_data"
    },
    {
     "data": {
      "text/plain": [
       "1"
      ]
     },
     "metadata": {},
     "output_type": "display_data"
    },
    {
     "data": {
      "text/plain": [
       "tensor(3.4441)"
      ]
     },
     "metadata": {},
     "output_type": "display_data"
    },
    {
     "data": {
      "text/plain": [
       "tensor(0.0319)"
      ]
     },
     "metadata": {},
     "output_type": "display_data"
    },
    {
     "name": "stdout",
     "output_type": "stream",
     "text": [
      "\n"
     ]
    },
    {
     "data": {
      "text/plain": [
       "18363"
      ]
     },
     "metadata": {},
     "output_type": "display_data"
    },
    {
     "data": {
      "text/plain": [
       "\"We are about 7 or 8 months into this water heater and have had it. We have fiddled with the temperature control enough. This weekend I am going to buy a old reliable conventional unit. We haven't had some of the horrendous problems others have reported. I think if I had, I wouldn't have put up with it for 8 minutes, let alone 8 months. But honestly, getting hot water shouldn't require all the gymnastics that are required to keep this thing adjusted - managing the flow rate, changing the temperature setting according to the seasons, resetting the little breakers when they trip - honestly. [...] If you like to tinker with the water heater all the time then maybe this is the unit for you. Especially if you like occassional cold showers in January and racing through the house bare-naked trying to see if the little red light is on. No thanks!\""
      ]
     },
     "metadata": {},
     "output_type": "display_data"
    },
    {
     "data": {
      "text/plain": [
       "0"
      ]
     },
     "metadata": {},
     "output_type": "display_data"
    },
    {
     "data": {
      "text/plain": [
       "tensor(0.0267)"
      ]
     },
     "metadata": {},
     "output_type": "display_data"
    },
    {
     "data": {
      "text/plain": [
       "tensor(0.0264)"
      ]
     },
     "metadata": {},
     "output_type": "display_data"
    },
    {
     "name": "stdout",
     "output_type": "stream",
     "text": [
      "\n"
     ]
    },
    {
     "data": {
      "text/plain": [
       "5267"
      ]
     },
     "metadata": {},
     "output_type": "display_data"
    },
    {
     "data": {
      "text/plain": [
       "\"I have used this aquarium in my daughter's crib since she was two months old. She is now 10 months and still loves it! More importantly, when we lay her down and press it on, the music signals to her that it is time for bed. She willingly rolls over to look at it and eventually falls asleep. She used to press it on herself in the middle of the night to go back to sleep(when her crib was lower and the aquarium was more accessible). I would reccommend this soothing toy to anyone and suggest to start using it early on. The only modifications I would make would be a remote control for parents to turn it on without entering the room(it only goes for 7 minutes) and maybe longer straps so that when the crib is lowered the baby can still reach it.\""
      ]
     },
     "metadata": {},
     "output_type": "display_data"
    },
    {
     "data": {
      "text/plain": [
       "1"
      ]
     },
     "metadata": {},
     "output_type": "display_data"
    },
    {
     "data": {
      "text/plain": [
       "tensor(3.3035)"
      ]
     },
     "metadata": {},
     "output_type": "display_data"
    },
    {
     "data": {
      "text/plain": [
       "tensor(0.0368)"
      ]
     },
     "metadata": {},
     "output_type": "display_data"
    },
    {
     "name": "stdout",
     "output_type": "stream",
     "text": [
      "\n"
     ]
    },
    {
     "data": {
      "text/plain": [
       "10615"
      ]
     },
     "metadata": {},
     "output_type": "display_data"
    },
    {
     "data": {
      "text/plain": [
       "\"Really tried to like this book. Premise was grand; story bobbed and weaved; conclusion was flimsy. Discursive scientific literalizations distract & disorient. Crichton breaks the rule to never stanch the flow. I dislike the quartet of scientists who investigate the outbreak; they don't come across to the reader as likeable.\""
      ]
     },
     "metadata": {},
     "output_type": "display_data"
    },
    {
     "data": {
      "text/plain": [
       "0"
      ]
     },
     "metadata": {},
     "output_type": "display_data"
    },
    {
     "data": {
      "text/plain": [
       "tensor(0.0302)"
      ]
     },
     "metadata": {},
     "output_type": "display_data"
    },
    {
     "data": {
      "text/plain": [
       "tensor(0.0297)"
      ]
     },
     "metadata": {},
     "output_type": "display_data"
    },
    {
     "name": "stdout",
     "output_type": "stream",
     "text": [
      "\n"
     ]
    },
    {
     "data": {
      "text/plain": [
       "8352"
      ]
     },
     "metadata": {},
     "output_type": "display_data"
    },
    {
     "data": {
      "text/plain": [
       "\"Yes folks, it's true. Bobby taught James everything he knows. Not to detract from the Godfather himself, but Bobby is just so underrated by most who think they know something about soul music. One must take into consideration that this is a greatest hits compilation and as such has some duds in it as filler. But when you put that first track on and hear that first guitar pickin intro and then hear James back in the sound booth just shouting to get out, it's because he knows Bobby's got soul.\""
      ]
     },
     "metadata": {},
     "output_type": "display_data"
    },
    {
     "data": {
      "text/plain": [
       "1"
      ]
     },
     "metadata": {},
     "output_type": "display_data"
    },
    {
     "data": {
      "text/plain": [
       "tensor(3.1275)"
      ]
     },
     "metadata": {},
     "output_type": "display_data"
    },
    {
     "data": {
      "text/plain": [
       "tensor(0.0438)"
      ]
     },
     "metadata": {},
     "output_type": "display_data"
    },
    {
     "name": "stdout",
     "output_type": "stream",
     "text": [
      "\n"
     ]
    },
    {
     "data": {
      "text/plain": [
       "5836"
      ]
     },
     "metadata": {},
     "output_type": "display_data"
    },
    {
     "data": {
      "text/plain": [
       "\"I am restricted to a wheelchair, and so must rely on grabbers,to assist me when reaching for things in higher areas or across wide spacess. I already had one of the ergonomically 18' grabbers in this style and really liked the light wt. and dexterity it allowed me, over many of the other styles. So, I was very disappointd when after the THIRD time I used it, I heard a click and part of the internal workings actually came through the handle, Now, it just takes up space while I try to see if I can get my money back. Needless to say, I am aggeivated and dissapointd. DONT BUY THIS PRODUCT.\""
      ]
     },
     "metadata": {},
     "output_type": "display_data"
    },
    {
     "data": {
      "text/plain": [
       "0"
      ]
     },
     "metadata": {},
     "output_type": "display_data"
    },
    {
     "data": {
      "text/plain": [
       "tensor(0.0241)"
      ]
     },
     "metadata": {},
     "output_type": "display_data"
    },
    {
     "data": {
      "text/plain": [
       "tensor(0.0238)"
      ]
     },
     "metadata": {},
     "output_type": "display_data"
    },
    {
     "name": "stdout",
     "output_type": "stream",
     "text": [
      "\n"
     ]
    },
    {
     "data": {
      "text/plain": [
       "16820"
      ]
     },
     "metadata": {},
     "output_type": "display_data"
    },
    {
     "data": {
      "text/plain": [
       "'Red Rodney\\'s \"1957\" is a great album but it is the exact same material as is on the Savoy CD \"Fiery\" (see my review). I mail-ordered this title without realizing this. Don\\'t repeat my mistake.'"
      ]
     },
     "metadata": {},
     "output_type": "display_data"
    },
    {
     "data": {
      "text/plain": [
       "1"
      ]
     },
     "metadata": {},
     "output_type": "display_data"
    },
    {
     "data": {
      "text/plain": [
       "tensor(3.2600)"
      ]
     },
     "metadata": {},
     "output_type": "display_data"
    },
    {
     "data": {
      "text/plain": [
       "tensor(0.0384)"
      ]
     },
     "metadata": {},
     "output_type": "display_data"
    },
    {
     "name": "stdout",
     "output_type": "stream",
     "text": [
      "\n"
     ]
    }
   ],
   "source": [
    "# Example of high-weight reviews\n",
    "spotlight = spotlights[1]\n",
    "weight_idx = spotlight['weights'].argsort().tolist()[::-1]\n",
    "for idx in weight_idx[:50]:\n",
    "    example = dataset[idx]\n",
    "    display(idx)\n",
    "    display(example['content'])\n",
    "    display(example['label'])\n",
    "    display(losses[idx])\n",
    "    display(outputs[idx])\n",
    "    print()"
   ]
  },
  {
   "cell_type": "code",
   "execution_count": 22,
   "id": "a1732d5c",
   "metadata": {},
   "outputs": [],
   "source": [
    "def getCommonTokens(weights, smoothing=0.01, print_first=50):\n",
    "    token_frequencies = defaultdict(float)\n",
    "    token_frequencies_spotlight = defaultdict(float)\n",
    "\n",
    "    weights_uniform = np.full_like(weights, 1 / len(weights))\n",
    "\n",
    "    num_examples = len(weights)\n",
    "    for i in tqdm(range(num_examples)):\n",
    "        for token in unique_tokens[i]:\n",
    "            token_frequencies[token.item()] += weights_uniform[i]\n",
    "            token_frequencies_spotlight[token.item()] += weights[i]\n",
    "            \n",
    "    token_lrs = {k: (smoothing+token_frequencies_spotlight[k]) / (smoothing+token_frequencies[k]) for k in token_frequencies}\n",
    "    tokens_sorted = list(map(lambda x: x[0], sorted(token_lrs.items(), key=lambda x: x[1])[::-1]))\n",
    "    for i, (token) in enumerate(tokens_sorted[:print_first]):\n",
    "        wordcloud_dict[tokenizer.decode(token)] = token_frequencies_spotlight[token]\n",
    "        print('%15s %.4f %.4f %4.2f' % (tokenizer.decode(token), token_frequencies[token], token_frequencies_spotlight[token], token_lrs[token]))"
   ]
  },
  {
   "cell_type": "code",
   "execution_count": 32,
   "id": "044b97e5",
   "metadata": {},
   "outputs": [
    {
     "name": "stderr",
     "output_type": "stream",
     "text": [
      "100%|██████████| 20000/20000 [00:03<00:00, 5414.93it/s]"
     ]
    },
    {
     "name": "stdout",
     "output_type": "stream",
     "text": [
      "         bigger 0.0035 0.0090 1.65\n",
      "          super 0.0104 0.0203 1.64\n",
      "           hang 0.0028 0.0075 1.60\n",
      "         prefer 0.0057 0.0120 1.58\n",
      "        killing 0.0028 0.0074 1.58\n",
      "            job 0.0239 0.0405 1.57\n",
      "       discover 0.0029 0.0075 1.57\n",
      "           slip 0.0026 0.0070 1.57\n",
      "            rev 0.0039 0.0089 1.56\n",
      "           easy 0.0415 0.0676 1.56\n",
      "        wearing 0.0035 0.0083 1.56\n",
      "          ##ves 0.0019 0.0058 1.56\n",
      "         ##ling 0.0059 0.0119 1.55\n",
      "             bt 0.0013 0.0048 1.54\n",
      "           heat 0.0049 0.0103 1.54\n",
      "           thus 0.0037 0.0084 1.54\n",
      "           trip 0.0090 0.0165 1.54\n",
      "            ##x 0.0118 0.0209 1.54\n",
      "          handy 0.0021 0.0059 1.53\n",
      "         source 0.0043 0.0092 1.53\n",
      "{'bigger': 0.009040637821833362, 'super': 0.020319235169222658, 'hang': 0.007536644307705075, 'prefer': 0.012026955929877764, 'killing': 0.007420818905560345, 'job': 0.04050461300650534, 'discover': 0.007484226822065342, 'slip': 0.007011891299408695, 'rev': 0.008914522076781846, 'easy': 0.06757317907448122, 'wearing': 0.008301106293469857, '##ves': 0.005811795669259308, '##ling': 0.011864032370111237, 'bt': 0.0047942995623922536, 'heat': 0.010250911854280162, 'thus': 0.008393465984680291, 'trip': 0.016532903833445585, '##x': 0.020895978024568048, 'handy': 0.005944320662046422, 'source': 0.009230833430964858}\n"
     ]
    },
    {
     "name": "stderr",
     "output_type": "stream",
     "text": [
      "\n"
     ]
    }
   ],
   "source": [
    "wordcloud_dict = {}\n",
    "getCommonTokens(spotlights[2]['weights'], 0.005, 20)\n",
    "print(wordcloud_dict)"
   ]
  },
  {
   "cell_type": "code",
   "execution_count": 33,
   "id": "942ef313-1899-4f27-a273-c2950b69f18f",
   "metadata": {},
   "outputs": [
    {
     "data": {
      "image/png": "[encoded data removed]",
      "text/plain": [
       "<Figure size 900x600 with 1 Axes>"
      ]
     },
     "metadata": {
      "needs_background": "light"
     },
     "output_type": "display_data"
    }
   ],
   "source": [
    "wordcloud = WordCloud()\n",
    "wordcloud.generate_from_frequencies(frequencies=wordcloud_dict)\n",
    "plt.figure()\n",
    "plt.imshow(wordcloud, interpolation=\"bilinear\")\n",
    "plt.axis(\"off\")\n",
    "plt.show()"
   ]
  },
  {
   "cell_type": "code",
   "execution_count": 21,
   "id": "b30fd19c",
   "metadata": {},
   "outputs": [
    {
     "name": "stderr",
     "output_type": "stream",
     "text": [
      "100%|██████████| 20000/20000 [00:03<00:00, 6399.25it/s]\n"
     ]
    },
    {
     "name": "stdout",
     "output_type": "stream",
     "text": [
      "         bigger 0.0035 0.0090 1.65\n",
      "          super 0.0104 0.0203 1.64\n",
      "           hang 0.0028 0.0075 1.60\n",
      "         prefer 0.0057 0.0120 1.58\n",
      "        killing 0.0028 0.0074 1.58\n",
      "            job 0.0239 0.0405 1.57\n",
      "       discover 0.0029 0.0075 1.57\n",
      "           slip 0.0026 0.0070 1.57\n",
      "            rev 0.0039 0.0089 1.56\n",
      "           easy 0.0415 0.0676 1.56\n",
      "        wearing 0.0035 0.0083 1.56\n",
      "          ##ves 0.0019 0.0058 1.56\n",
      "         ##ling 0.0059 0.0119 1.55\n",
      "             bt 0.0013 0.0048 1.54\n",
      "           heat 0.0049 0.0103 1.54\n",
      "           thus 0.0037 0.0084 1.54\n",
      "           trip 0.0090 0.0165 1.54\n",
      "            ##x 0.0118 0.0209 1.54\n",
      "          handy 0.0021 0.0059 1.53\n",
      "         source 0.0043 0.0092 1.53\n"
     ]
    }
   ],
   "source": [
    "getCommonTokens(spotlights[2][0], 0.005, 20)"
   ]
  },
  {
   "cell_type": "code",
   "execution_count": 22,
   "id": "c1816ead",
   "metadata": {},
   "outputs": [
    {
     "name": "stderr",
     "output_type": "stream",
     "text": [
      "100%|██████████| 20000/20000 [00:03<00:00, 6372.25it/s]"
     ]
    },
    {
     "name": "stdout",
     "output_type": "stream",
     "text": [
      "        problem 0.0279 0.0531 1.76\n",
      "        ##point 0.0113 0.0236 1.76\n",
      "      returning 0.0048 0.0120 1.73\n",
      "          ##ssa 0.0082 0.0173 1.69\n",
      "          ##und 0.0071 0.0153 1.67\n",
      "              $ 0.0234 0.0420 1.66\n",
      "         hoping 0.0092 0.0182 1.63\n",
      "       returned 0.0091 0.0180 1.63\n",
      "  unfortunately 0.0158 0.0280 1.58\n",
      "           okay 0.0088 0.0167 1.57\n",
      "         ##ware 0.0072 0.0142 1.56\n",
      "            ##0 0.0057 0.0118 1.56\n",
      "            box 0.0181 0.0310 1.55\n",
      "         unless 0.0141 0.0244 1.54\n",
      "          sadly 0.0051 0.0103 1.52\n",
      "             ok 0.0174 0.0291 1.52\n",
      "          maybe 0.0297 0.0477 1.52\n",
      "        however 0.0503 0.0788 1.52\n",
      "           half 0.0210 0.0344 1.51\n",
      "           warn 0.0022 0.0060 1.51\n"
     ]
    },
    {
     "name": "stderr",
     "output_type": "stream",
     "text": [
      "\n"
     ]
    }
   ],
   "source": [
    "getCommonTokens(spotlights[3][0], 0.005, 20)"
   ]
  },
  {
   "cell_type": "code",
   "execution_count": 144,
   "id": "9a55d0bd",
   "metadata": {},
   "outputs": [
    {
     "name": "stderr",
     "output_type": "stream",
     "text": [
      "100%|██████████| 20000/20000 [00:03<00:00, 5456.58it/s]"
     ]
    },
    {
     "name": "stdout",
     "output_type": "stream",
     "text": [
      "          ##ven 0.0025 0.0174 2.98\n",
      "            sen 0.0033 0.0174 2.71\n",
      "             64 0.0010 0.0099 2.51\n",
      "         length 0.0052 0.0199 2.42\n",
      "       outdated 0.0022 0.0124 2.42\n",
      "         potter 0.0022 0.0124 2.40\n",
      "         bubble 0.0012 0.0099 2.39\n",
      "              = 0.0024 0.0124 2.34\n",
      "            rom 0.0014 0.0099 2.33\n",
      "        contact 0.0037 0.0149 2.30\n",
      " cinematography 0.0026 0.0124 2.29\n",
      "      adjusting 0.0006 0.0074 2.22\n",
      "      functions 0.0018 0.0099 2.19\n",
      "          stock 0.0042 0.0149 2.16\n",
      "         versus 0.0008 0.0074 2.15\n",
      "             bu 0.0032 0.0124 2.14\n",
      "            fix 0.0044 0.0149 2.12\n",
      "      confirmed 0.0010 0.0074 2.09\n",
      "           wars 0.0021 0.0099 2.09\n",
      "          ##nes 0.0010 0.0074 2.07\n"
     ]
    },
    {
     "name": "stderr",
     "output_type": "stream",
     "text": [
      "\n"
     ]
    }
   ],
   "source": [
    "loss_weights = (losses > 6.13)\n",
    "loss_weights = high_loss_weights / high_loss_weights.sum()\n",
    "getCommonTokens(loss_weights, 0.005, 20)"
   ]
  },
  {
   "cell_type": "code",
   "execution_count": 20,
   "id": "0d7af5f2-470b-47c4-94ca-61a94621d4a5",
   "metadata": {},
   "outputs": [
    {
     "data": {
      "text/plain": [
       "12480"
      ]
     },
     "metadata": {},
     "output_type": "display_data"
    },
    {
     "data": {
      "text/plain": [
       "'So I ordered this with tahitian cardio, which is AMAZING. So after doing that and the tahitian hip hop (they come together) I decided to try the Cardio Hula. When i took it out of its schrink wrapped case, it definately did look a little funny. I put it in my Boyfriends XBOX 360 and it didnt recognize it as a disk. I tried it in our dvd player, and it still didnt recognise it as a dvd. I looked at the surface, to see if there was any scratches, and to my confusion it was blue, like a DVD-R. I flipped it over and looked more closely at the top and noticed that whoever printed the label needed their printer heads cleaned. I ordered if FROM amazon, I even got the supersaver shipping, which brought my bootleg DVD in record time. I only can play it on my laptop which has a TINY screen.Thanks Amazon, thanks'"
      ]
     },
     "metadata": {},
     "output_type": "display_data"
    },
    {
     "data": {
      "text/plain": [
       "0"
      ]
     },
     "metadata": {},
     "output_type": "display_data"
    },
    {
     "data": {
      "text/plain": [
       "tensor(0.0346)"
      ]
     },
     "metadata": {},
     "output_type": "display_data"
    },
    {
     "data": {
      "text/plain": [
       "tensor(0.0340)"
      ]
     },
     "metadata": {},
     "output_type": "display_data"
    },
    {
     "name": "stdout",
     "output_type": "stream",
     "text": [
      "\n"
     ]
    },
    {
     "data": {
      "text/plain": [
       "4212"
      ]
     },
     "metadata": {},
     "output_type": "display_data"
    },
    {
     "data": {
      "text/plain": [
       "\"This is LOTR light; Well written, but not nearly to the fullest extent of the literary powers Tolkein reached later with LOTR. The story too, is more for younger folks. It should however be read before LOTR because it provides necessary background. It's a quick read too - 1 day.\""
      ]
     },
     "metadata": {},
     "output_type": "display_data"
    },
    {
     "data": {
      "text/plain": [
       "1"
      ]
     },
     "metadata": {},
     "output_type": "display_data"
    },
    {
     "data": {
      "text/plain": [
       "tensor(3.2731)"
      ]
     },
     "metadata": {},
     "output_type": "display_data"
    },
    {
     "data": {
      "text/plain": [
       "tensor(0.0379)"
      ]
     },
     "metadata": {},
     "output_type": "display_data"
    },
    {
     "name": "stdout",
     "output_type": "stream",
     "text": [
      "\n"
     ]
    },
    {
     "data": {
      "text/plain": [
       "1808"
      ]
     },
     "metadata": {},
     "output_type": "display_data"
    },
    {
     "data": {
      "text/plain": [
       "\"It is my girls first year in ballet so I just wanted an inexpensive bag. If you want a really nice bag don't waste your money here. The entire bag is made of urethane and has a cheap feel. The biggest positives are the cute graphics and the straps work well.\""
      ]
     },
     "metadata": {},
     "output_type": "display_data"
    },
    {
     "data": {
      "text/plain": [
       "0"
      ]
     },
     "metadata": {},
     "output_type": "display_data"
    },
    {
     "data": {
      "text/plain": [
       "tensor(0.0412)"
      ]
     },
     "metadata": {},
     "output_type": "display_data"
    },
    {
     "data": {
      "text/plain": [
       "tensor(0.0404)"
      ]
     },
     "metadata": {},
     "output_type": "display_data"
    },
    {
     "name": "stdout",
     "output_type": "stream",
     "text": [
      "\n"
     ]
    },
    {
     "data": {
      "text/plain": [
       "3924"
      ]
     },
     "metadata": {},
     "output_type": "display_data"
    },
    {
     "data": {
      "text/plain": [
       "\"Love the quality of the movieI have a high def wide screen tvwent to the ROOT MENUthe audio had an echo like the sound in a movie theatreAdjusted the audio from Theatre to Living Room and that corrected the musicBUT I still got the echo on my tv for the talkingI played it on my computer--and worked very wellI will have to deal with my tv later! It readjusted the whole tv system.Ah the good old days before HD and all that jazz!There must be a sound adjustment I haven't adjusted yet.\""
      ]
     },
     "metadata": {},
     "output_type": "display_data"
    },
    {
     "data": {
      "text/plain": [
       "1"
      ]
     },
     "metadata": {},
     "output_type": "display_data"
    },
    {
     "data": {
      "text/plain": [
       "tensor(3.5575)"
      ]
     },
     "metadata": {},
     "output_type": "display_data"
    },
    {
     "data": {
      "text/plain": [
       "tensor(0.0285)"
      ]
     },
     "metadata": {},
     "output_type": "display_data"
    },
    {
     "name": "stdout",
     "output_type": "stream",
     "text": [
      "\n"
     ]
    },
    {
     "data": {
      "text/plain": [
       "9966"
      ]
     },
     "metadata": {},
     "output_type": "display_data"
    },
    {
     "data": {
      "text/plain": [
       "\"This book is great and all, the only problem is, you have to make sure you know the words in shorthand already. This book doesn't waste any time and goes straight to the transcription, but that may not be so good for new users. Other than that, this book is great and really goes indepth with the way to transcipt your shorthand notes.\""
      ]
     },
     "metadata": {},
     "output_type": "display_data"
    },
    {
     "data": {
      "text/plain": [
       "1"
      ]
     },
     "metadata": {},
     "output_type": "display_data"
    },
    {
     "data": {
      "text/plain": [
       "tensor(3.0550)"
      ]
     },
     "metadata": {},
     "output_type": "display_data"
    },
    {
     "data": {
      "text/plain": [
       "tensor(0.0471)"
      ]
     },
     "metadata": {},
     "output_type": "display_data"
    },
    {
     "name": "stdout",
     "output_type": "stream",
     "text": [
      "\n"
     ]
    },
    {
     "data": {
      "text/plain": [
       "19215"
      ]
     },
     "metadata": {},
     "output_type": "display_data"
    },
    {
     "data": {
      "text/plain": [
       "'Do NOT waste your money on this! I am 28 years old and have always had oily/problem skin. The benzoyl peroxide in the face wash and \"day cream\" burn and sting when you apply. Also you can\\'t realistically apply the day cream during the day as it leaves a messy white residue on your face. My face never felt clean using this product and I continued to break out. I would use the spot treatment on existing treatments and I would have to say that is the only semi good product they offer: it dries up an existing pimple faster as opposed to using nothing at all. If you expect this to stop your acne it won\\'t, benzoyle peroxide is awful for yous skin and known to cause thin skin and premature aging. As a side note I have started using Lerosett, an organic clay mask/face wash skin care line and let me tell you it is amazing! I have cystic acne and it works. If you are looking for something on the cheaper side try Aztec healing clay, does wonders. :)'"
      ]
     },
     "metadata": {},
     "output_type": "display_data"
    },
    {
     "data": {
      "text/plain": [
       "0"
      ]
     },
     "metadata": {},
     "output_type": "display_data"
    },
    {
     "data": {
      "text/plain": [
       "tensor(0.0444)"
      ]
     },
     "metadata": {},
     "output_type": "display_data"
    },
    {
     "data": {
      "text/plain": [
       "tensor(0.0434)"
      ]
     },
     "metadata": {},
     "output_type": "display_data"
    },
    {
     "name": "stdout",
     "output_type": "stream",
     "text": [
      "\n"
     ]
    },
    {
     "data": {
      "text/plain": [
       "15255"
      ]
     },
     "metadata": {},
     "output_type": "display_data"
    },
    {
     "data": {
      "text/plain": [
       "\"Very nice air hose. I store all 100 ft of it on an electrical cord spool, fits perfect. The re-enforced ends help keep it from kinking, but will still kink if not careful.Can't beat the price either.\""
      ]
     },
     "metadata": {},
     "output_type": "display_data"
    },
    {
     "data": {
      "text/plain": [
       "1"
      ]
     },
     "metadata": {},
     "output_type": "display_data"
    },
    {
     "data": {
      "text/plain": [
       "tensor(3.1833)"
      ]
     },
     "metadata": {},
     "output_type": "display_data"
    },
    {
     "data": {
      "text/plain": [
       "tensor(0.0414)"
      ]
     },
     "metadata": {},
     "output_type": "display_data"
    },
    {
     "name": "stdout",
     "output_type": "stream",
     "text": [
      "\n"
     ]
    },
    {
     "data": {
      "text/plain": [
       "9304"
      ]
     },
     "metadata": {},
     "output_type": "display_data"
    },
    {
     "data": {
      "text/plain": [
       "'I still think my kata dr 461 is better because of the added chest support strap and wider slimmer look but this will beat any shoulder bag. For long walks be it in the city or at a trail I am always looking for a small backpack to fill my needs. This little fellow was smaller than I thought but still I take it and put it to use for my backup dslr when I go out and about.'"
      ]
     },
     "metadata": {},
     "output_type": "display_data"
    },
    {
     "data": {
      "text/plain": [
       "1"
      ]
     },
     "metadata": {},
     "output_type": "display_data"
    },
    {
     "data": {
      "text/plain": [
       "tensor(3.4329)"
      ]
     },
     "metadata": {},
     "output_type": "display_data"
    },
    {
     "data": {
      "text/plain": [
       "tensor(0.0323)"
      ]
     },
     "metadata": {},
     "output_type": "display_data"
    },
    {
     "name": "stdout",
     "output_type": "stream",
     "text": [
      "\n"
     ]
    },
    {
     "data": {
      "text/plain": [
       "9137"
      ]
     },
     "metadata": {},
     "output_type": "display_data"
    },
    {
     "data": {
      "text/plain": [
       "'this is one of the few items I have ever has to return. The fan stopped working just after two days. I did get a prompt refund from amazon.'"
      ]
     },
     "metadata": {},
     "output_type": "display_data"
    },
    {
     "data": {
      "text/plain": [
       "0"
      ]
     },
     "metadata": {},
     "output_type": "display_data"
    },
    {
     "data": {
      "text/plain": [
       "tensor(0.0262)"
      ]
     },
     "metadata": {},
     "output_type": "display_data"
    },
    {
     "data": {
      "text/plain": [
       "tensor(0.0259)"
      ]
     },
     "metadata": {},
     "output_type": "display_data"
    },
    {
     "name": "stdout",
     "output_type": "stream",
     "text": [
      "\n"
     ]
    },
    {
     "data": {
      "text/plain": [
       "10543"
      ]
     },
     "metadata": {},
     "output_type": "display_data"
    },
    {
     "data": {
      "text/plain": [
       "\"I'm sure this is a great product, but my speakers are 9 foot away, and i massively can't be bothered to go and move them. I left the cable on the kitchen table.Also, the packaging has some very racial things stated in it.\""
      ]
     },
     "metadata": {},
     "output_type": "display_data"
    },
    {
     "data": {
      "text/plain": [
       "0"
      ]
     },
     "metadata": {},
     "output_type": "display_data"
    },
    {
     "data": {
      "text/plain": [
       "tensor(0.0518)"
      ]
     },
     "metadata": {},
     "output_type": "display_data"
    },
    {
     "data": {
      "text/plain": [
       "tensor(0.0505)"
      ]
     },
     "metadata": {},
     "output_type": "display_data"
    },
    {
     "name": "stdout",
     "output_type": "stream",
     "text": [
      "\n"
     ]
    },
    {
     "data": {
      "text/plain": [
       "7679"
      ]
     },
     "metadata": {},
     "output_type": "display_data"
    },
    {
     "data": {
      "text/plain": [
       "\"Great Backpack! Love the color! The only thing, is that it gets dirty easily. I got a pen mark on the pocket, and I'm not sure how to remove it :(\""
      ]
     },
     "metadata": {},
     "output_type": "display_data"
    },
    {
     "data": {
      "text/plain": [
       "1"
      ]
     },
     "metadata": {},
     "output_type": "display_data"
    },
    {
     "data": {
      "text/plain": [
       "tensor(2.8205)"
      ]
     },
     "metadata": {},
     "output_type": "display_data"
    },
    {
     "data": {
      "text/plain": [
       "tensor(0.0596)"
      ]
     },
     "metadata": {},
     "output_type": "display_data"
    },
    {
     "name": "stdout",
     "output_type": "stream",
     "text": [
      "\n"
     ]
    },
    {
     "data": {
      "text/plain": [
       "3450"
      ]
     },
     "metadata": {},
     "output_type": "display_data"
    },
    {
     "data": {
      "text/plain": [
       "\"I'm using this on a Win98SE PC to connect to an Apple AirPort Base Station. It sees the base station fine, but when the Belkin is touching the base station it transmits at 70% signal strength. My PowerBook can see the base station at 100% one floor up, 80% on the second floor up.Belkin software was easy to use and configure. Maybe my HP Pavilion causes a lot of RF interference? Unknown, but I'd try a Linksys or Hawking over the Blekin. Don't be swayed by the price.\""
      ]
     },
     "metadata": {},
     "output_type": "display_data"
    },
    {
     "data": {
      "text/plain": [
       "0"
      ]
     },
     "metadata": {},
     "output_type": "display_data"
    },
    {
     "data": {
      "text/plain": [
       "tensor(0.0434)"
      ]
     },
     "metadata": {},
     "output_type": "display_data"
    },
    {
     "data": {
      "text/plain": [
       "tensor(0.0424)"
      ]
     },
     "metadata": {},
     "output_type": "display_data"
    },
    {
     "name": "stdout",
     "output_type": "stream",
     "text": [
      "\n"
     ]
    },
    {
     "data": {
      "text/plain": [
       "14374"
      ]
     },
     "metadata": {},
     "output_type": "display_data"
    },
    {
     "data": {
      "text/plain": [
       "\"Jake Grafton has to teach marines what it's like to be on an aircraft carrier. Landing and taking off on a slipery deck, learning all the parts to a carrier and how to put up with Flap LeBeau. This book you can't put down, I couldn't.\""
      ]
     },
     "metadata": {},
     "output_type": "display_data"
    },
    {
     "data": {
      "text/plain": [
       "1"
      ]
     },
     "metadata": {},
     "output_type": "display_data"
    },
    {
     "data": {
      "text/plain": [
       "tensor(3.3566)"
      ]
     },
     "metadata": {},
     "output_type": "display_data"
    },
    {
     "data": {
      "text/plain": [
       "tensor(0.0349)"
      ]
     },
     "metadata": {},
     "output_type": "display_data"
    },
    {
     "name": "stdout",
     "output_type": "stream",
     "text": [
      "\n"
     ]
    },
    {
     "data": {
      "text/plain": [
       "11713"
      ]
     },
     "metadata": {},
     "output_type": "display_data"
    },
    {
     "data": {
      "text/plain": [
       "'Mas Amedda was always one of the more interesting aliens in the prequels. This figure gets pretty high marks. The only thing I would like to see in a future update is a soft goods outer cloak. The hard plastic works well enough but limits articulation. Also, the soft goods would probably just look even more regal.'"
      ]
     },
     "metadata": {},
     "output_type": "display_data"
    },
    {
     "data": {
      "text/plain": [
       "1"
      ]
     },
     "metadata": {},
     "output_type": "display_data"
    },
    {
     "data": {
      "text/plain": [
       "tensor(3.2424)"
      ]
     },
     "metadata": {},
     "output_type": "display_data"
    },
    {
     "data": {
      "text/plain": [
       "tensor(0.0391)"
      ]
     },
     "metadata": {},
     "output_type": "display_data"
    },
    {
     "name": "stdout",
     "output_type": "stream",
     "text": [
      "\n"
     ]
    },
    {
     "data": {
      "text/plain": [
       "14406"
      ]
     },
     "metadata": {},
     "output_type": "display_data"
    },
    {
     "data": {
      "text/plain": [
       "'this album isnt good like megadeth albums but its not so bad dave is great rythem ... guitar player but you dont see in this album guitar riffs like in megdeth rust in peace- countdown - and youatnsia if your megadet hfun buy this if your not mega fun dont buy this /.'"
      ]
     },
     "metadata": {},
     "output_type": "display_data"
    },
    {
     "data": {
      "text/plain": [
       "1"
      ]
     },
     "metadata": {},
     "output_type": "display_data"
    },
    {
     "data": {
      "text/plain": [
       "tensor(3.3459)"
      ]
     },
     "metadata": {},
     "output_type": "display_data"
    },
    {
     "data": {
      "text/plain": [
       "tensor(0.0352)"
      ]
     },
     "metadata": {},
     "output_type": "display_data"
    },
    {
     "name": "stdout",
     "output_type": "stream",
     "text": [
      "\n"
     ]
    },
    {
     "data": {
      "text/plain": [
       "15683"
      ]
     },
     "metadata": {},
     "output_type": "display_data"
    },
    {
     "data": {
      "text/plain": [
       "\"Love the functionality - being able to separate for different uses esp. meat and that they flex to enable direct frop into the pan. But mine came off color (sorta transparent) at the corners (and this wasn't a deisgn feaure since there was no pattern in all the four sheets) but still good value - not worth exchanging so I kept them. I guess mine look unique.\""
      ]
     },
     "metadata": {},
     "output_type": "display_data"
    },
    {
     "data": {
      "text/plain": [
       "1"
      ]
     },
     "metadata": {},
     "output_type": "display_data"
    },
    {
     "data": {
      "text/plain": [
       "tensor(3.2593)"
      ]
     },
     "metadata": {},
     "output_type": "display_data"
    },
    {
     "data": {
      "text/plain": [
       "tensor(0.0384)"
      ]
     },
     "metadata": {},
     "output_type": "display_data"
    },
    {
     "name": "stdout",
     "output_type": "stream",
     "text": [
      "\n"
     ]
    },
    {
     "data": {
      "text/plain": [
       "7109"
      ]
     },
     "metadata": {},
     "output_type": "display_data"
    },
    {
     "data": {
      "text/plain": [
       "'Great value for the price..... very comfortable and easy to use. The one thing I find which causes some discomfort is the foot cushioning mechanism. Being that you are actually hanging by your feet in full vertical, I feel the cushioning should have been designed in such a way in order to prevent any possibility of pain..... I do experience pain in the back of my ankles once hanging for over a minute, or after doing crunches. I\\'m 5\\'5\" tall and weight 112 lbs., so it is not due to excessive weight. Otherwise the product is a great deal.'"
      ]
     },
     "metadata": {},
     "output_type": "display_data"
    },
    {
     "data": {
      "text/plain": [
       "1"
      ]
     },
     "metadata": {},
     "output_type": "display_data"
    },
    {
     "data": {
      "text/plain": [
       "tensor(3.5391)"
      ]
     },
     "metadata": {},
     "output_type": "display_data"
    },
    {
     "data": {
      "text/plain": [
       "tensor(0.0290)"
      ]
     },
     "metadata": {},
     "output_type": "display_data"
    },
    {
     "name": "stdout",
     "output_type": "stream",
     "text": [
      "\n"
     ]
    },
    {
     "data": {
      "text/plain": [
       "8518"
      ]
     },
     "metadata": {},
     "output_type": "display_data"
    },
    {
     "data": {
      "text/plain": [
       "'I have had a shower head like this in the past so when it came time to replace the old handheld one we had, I went looking for this type. I couldn\\'t find it locally so was pleased when Amazon had it. Easy installation (no thread tape needed, uses a rubber seal to tighten against) and you can aim the water pretty much anywhere once installed. I am 6\\' 4\" and this is the only shower head that I have been able to actually get under. The rest of my family is very pleased with it too so I would recommend buying this shower head 100%.'"
      ]
     },
     "metadata": {},
     "output_type": "display_data"
    },
    {
     "data": {
      "text/plain": [
       "1"
      ]
     },
     "metadata": {},
     "output_type": "display_data"
    },
    {
     "data": {
      "text/plain": [
       "tensor(3.6631)"
      ]
     },
     "metadata": {},
     "output_type": "display_data"
    },
    {
     "data": {
      "text/plain": [
       "tensor(0.0257)"
      ]
     },
     "metadata": {},
     "output_type": "display_data"
    },
    {
     "name": "stdout",
     "output_type": "stream",
     "text": [
      "\n"
     ]
    },
    {
     "data": {
      "text/plain": [
       "18339"
      ]
     },
     "metadata": {},
     "output_type": "display_data"
    },
    {
     "data": {
      "text/plain": [
       "'If you own a Turbo Scratcher you will need to purchase replacement pads for it. Cats love these pads to sharpen their claws, but they will rip them up pretty quickly. The only downside to them is they are quite expensive for something that is nothing more than cardboard. Amazon has the best price for these replacement pads, and you will want to buy them in quantity.When your pad gets torn up you can flip it over to get additional usage out of it. Cats will enjoy them even more if you sprinkle catnip on them - our cats will roll around on top of them and lay on them.'"
      ]
     },
     "metadata": {},
     "output_type": "display_data"
    },
    {
     "data": {
      "text/plain": [
       "1"
      ]
     },
     "metadata": {},
     "output_type": "display_data"
    },
    {
     "data": {
      "text/plain": [
       "tensor(3.1822)"
      ]
     },
     "metadata": {},
     "output_type": "display_data"
    },
    {
     "data": {
      "text/plain": [
       "tensor(0.0415)"
      ]
     },
     "metadata": {},
     "output_type": "display_data"
    },
    {
     "name": "stdout",
     "output_type": "stream",
     "text": [
      "\n"
     ]
    },
    {
     "data": {
      "text/plain": [
       "2605"
      ]
     },
     "metadata": {},
     "output_type": "display_data"
    },
    {
     "data": {
      "text/plain": [
       "'I was having trouble finding a copy of this classic movie anywhere. I was eccited to see a copy on DVD Unfortunatley the word \"COPY\" is correct. It was a copy. The quality is good and the Menu looks good but the disc was definetly a copy. The case was also a copy. I am glad to have this in my collection nonetheless but was upset it was not original.'"
      ]
     },
     "metadata": {},
     "output_type": "display_data"
    },
    {
     "data": {
      "text/plain": [
       "0"
      ]
     },
     "metadata": {},
     "output_type": "display_data"
    },
    {
     "data": {
      "text/plain": [
       "tensor(0.0308)"
      ]
     },
     "metadata": {},
     "output_type": "display_data"
    },
    {
     "data": {
      "text/plain": [
       "tensor(0.0303)"
      ]
     },
     "metadata": {},
     "output_type": "display_data"
    },
    {
     "name": "stdout",
     "output_type": "stream",
     "text": [
      "\n"
     ]
    },
    {
     "data": {
      "text/plain": [
       "15353"
      ]
     },
     "metadata": {},
     "output_type": "display_data"
    },
    {
     "data": {
      "text/plain": [
       "'This is a great idea. I don\\'t have to worry about stepping on my cat when I walk around the house with the lights off. Only problem is my cat has a med size neck (from other custom collars I\\'ve ordered)and this collar is very large. I had to move the black plastic buckle to the middle of the \"plastic glow band\" in order to fit my cat. The glow part is plastic and stiff, so the buckle doesn\\'t easily adjust to fit smaller cats.'"
      ]
     },
     "metadata": {},
     "output_type": "display_data"
    },
    {
     "data": {
      "text/plain": [
       "1"
      ]
     },
     "metadata": {},
     "output_type": "display_data"
    },
    {
     "data": {
      "text/plain": [
       "tensor(3.1100)"
      ]
     },
     "metadata": {},
     "output_type": "display_data"
    },
    {
     "data": {
      "text/plain": [
       "tensor(0.0446)"
      ]
     },
     "metadata": {},
     "output_type": "display_data"
    },
    {
     "name": "stdout",
     "output_type": "stream",
     "text": [
      "\n"
     ]
    },
    {
     "data": {
      "text/plain": [
       "7896"
      ]
     },
     "metadata": {},
     "output_type": "display_data"
    },
    {
     "data": {
      "text/plain": [
       "'these head phones are great for truck drivers, the battery life is on ly about 8 hours other than that there perfect'"
      ]
     },
     "metadata": {},
     "output_type": "display_data"
    },
    {
     "data": {
      "text/plain": [
       "1"
      ]
     },
     "metadata": {},
     "output_type": "display_data"
    },
    {
     "data": {
      "text/plain": [
       "tensor(3.0363)"
      ]
     },
     "metadata": {},
     "output_type": "display_data"
    },
    {
     "data": {
      "text/plain": [
       "tensor(0.0480)"
      ]
     },
     "metadata": {},
     "output_type": "display_data"
    },
    {
     "name": "stdout",
     "output_type": "stream",
     "text": [
      "\n"
     ]
    },
    {
     "data": {
      "text/plain": [
       "2105"
      ]
     },
     "metadata": {},
     "output_type": "display_data"
    },
    {
     "data": {
      "text/plain": [
       "\"pro's :great fun, portable.con's: hard to read LED except in darkness ,no off button.As soon as I got this toy I started playing it.but then ,I found out that in bright light I could not see the LED so I went in some shade.Now thats just fine except theres no shade indoors!so I found a dull light and used it.But then I brushed the yesbutton and no button would turn it off so I had to play it though.But overall if you have a dull reading light and you are patient, buy this product.\""
      ]
     },
     "metadata": {},
     "output_type": "display_data"
    },
    {
     "data": {
      "text/plain": [
       "1"
      ]
     },
     "metadata": {},
     "output_type": "display_data"
    },
    {
     "data": {
      "text/plain": [
       "tensor(3.4328)"
      ]
     },
     "metadata": {},
     "output_type": "display_data"
    },
    {
     "data": {
      "text/plain": [
       "tensor(0.0323)"
      ]
     },
     "metadata": {},
     "output_type": "display_data"
    },
    {
     "name": "stdout",
     "output_type": "stream",
     "text": [
      "\n"
     ]
    },
    {
     "data": {
      "text/plain": [
       "6898"
      ]
     },
     "metadata": {},
     "output_type": "display_data"
    },
    {
     "data": {
      "text/plain": [
       "'I love the other films Peter Jackson has made. The best is Heavenly Creatures, if you have not seen this movie your missing out! I thought this movie was overly dramatic and to long. Had many unbeliveable moments and was so far fetched! The only cool thing about it was the natives, they were freaky.'"
      ]
     },
     "metadata": {},
     "output_type": "display_data"
    },
    {
     "data": {
      "text/plain": [
       "0"
      ]
     },
     "metadata": {},
     "output_type": "display_data"
    },
    {
     "data": {
      "text/plain": [
       "tensor(0.0314)"
      ]
     },
     "metadata": {},
     "output_type": "display_data"
    },
    {
     "data": {
      "text/plain": [
       "tensor(0.0309)"
      ]
     },
     "metadata": {},
     "output_type": "display_data"
    },
    {
     "name": "stdout",
     "output_type": "stream",
     "text": [
      "\n"
     ]
    },
    {
     "data": {
      "text/plain": [
       "14849"
      ]
     },
     "metadata": {},
     "output_type": "display_data"
    },
    {
     "data": {
      "text/plain": [
       "'The Allen wrenches are well made and come in an excellent assortment of sizes. The balldriver tip and long shaft make these wrenches particularly suited for hard-to-reach areas.I have not used the Torx wrenches, as I already have a set. The handle that the torx wrenches fold into is plastic and feels a little flimsy, but this is a \"bonus set\" and didn\\'t influence my purchase decision.'"
      ]
     },
     "metadata": {},
     "output_type": "display_data"
    },
    {
     "data": {
      "text/plain": [
       "1"
      ]
     },
     "metadata": {},
     "output_type": "display_data"
    },
    {
     "data": {
      "text/plain": [
       "tensor(2.9953)"
      ]
     },
     "metadata": {},
     "output_type": "display_data"
    },
    {
     "data": {
      "text/plain": [
       "tensor(0.0500)"
      ]
     },
     "metadata": {},
     "output_type": "display_data"
    },
    {
     "name": "stdout",
     "output_type": "stream",
     "text": [
      "\n"
     ]
    },
    {
     "data": {
      "text/plain": [
       "17507"
      ]
     },
     "metadata": {},
     "output_type": "display_data"
    },
    {
     "data": {
      "text/plain": [
       "\"There r 2 good songs on here. If you wanna find a good album by Vizzan Halen, get the third!!!! It has the singer from one of the GRIZZEATEST BANDS EVER: EXTREME! David & Sammy are DONE! You're 15 mins of fizzame are OVER, dudes! Just download the 2 good songs!\""
      ]
     },
     "metadata": {},
     "output_type": "display_data"
    },
    {
     "data": {
      "text/plain": [
       "0"
      ]
     },
     "metadata": {},
     "output_type": "display_data"
    },
    {
     "data": {
      "text/plain": [
       "tensor(0.0314)"
      ]
     },
     "metadata": {},
     "output_type": "display_data"
    },
    {
     "data": {
      "text/plain": [
       "tensor(0.0309)"
      ]
     },
     "metadata": {},
     "output_type": "display_data"
    },
    {
     "name": "stdout",
     "output_type": "stream",
     "text": [
      "\n"
     ]
    },
    {
     "data": {
      "text/plain": [
       "318"
      ]
     },
     "metadata": {},
     "output_type": "display_data"
    },
    {
     "data": {
      "text/plain": [
       "\"I try everything new, hoping to find something that will show me some results right away and give me back the glow in my skin that seems to wither away as time passes (and I'm only 36!) --Anyway, when I read about rice bran, I thought why not - this brand contains a lot of rice bran - it's like the 2nd ingredient in everything after water, and there is nothing else in it I couldn't pronounce. The stuff smells great, and goes on non-greasy, especially the face cream it's like my face is so thirsty for it that it just sucks it all in. The TrueRenu store gives you cute little pahmplets with details on all the ingredients, and insturctions (the packages are written in Japanese so you need to read their instructions) - and I even got a free gift of green tea - yum!\""
      ]
     },
     "metadata": {},
     "output_type": "display_data"
    },
    {
     "data": {
      "text/plain": [
       "1"
      ]
     },
     "metadata": {},
     "output_type": "display_data"
    },
    {
     "data": {
      "text/plain": [
       "tensor(3.1198)"
      ]
     },
     "metadata": {},
     "output_type": "display_data"
    },
    {
     "data": {
      "text/plain": [
       "tensor(0.0442)"
      ]
     },
     "metadata": {},
     "output_type": "display_data"
    },
    {
     "name": "stdout",
     "output_type": "stream",
     "text": [
      "\n"
     ]
    },
    {
     "data": {
      "text/plain": [
       "76"
      ]
     },
     "metadata": {},
     "output_type": "display_data"
    },
    {
     "data": {
      "text/plain": [
       "\"I have been looking for something to hold in my stomach that wasn't elastic based. Found this item and have to say I am pretty pleased. The hooks do take a while, but once they are all done, the waist cincher does what it says it will do. The only negative thing is what a lot of the other reviews complain about. It does tend to cause back fat to appear more prominent by your underarms. So I can't wear this with a top that is clingy. Can only wear with looser fitting shirts. Oh well, nothing is perfect.\""
      ]
     },
     "metadata": {},
     "output_type": "display_data"
    },
    {
     "data": {
      "text/plain": [
       "1"
      ]
     },
     "metadata": {},
     "output_type": "display_data"
    },
    {
     "data": {
      "text/plain": [
       "tensor(3.2000)"
      ]
     },
     "metadata": {},
     "output_type": "display_data"
    },
    {
     "data": {
      "text/plain": [
       "tensor(0.0408)"
      ]
     },
     "metadata": {},
     "output_type": "display_data"
    },
    {
     "name": "stdout",
     "output_type": "stream",
     "text": [
      "\n"
     ]
    },
    {
     "data": {
      "text/plain": [
       "8183"
      ]
     },
     "metadata": {},
     "output_type": "display_data"
    },
    {
     "data": {
      "text/plain": [
       "'The first time I put this CD into the Discman, I was feelin it. The album was pretty hot. Than I heard it again. The beats are tight, but Bone sounds like Popeye. They gotta slow down the flow.'"
      ]
     },
     "metadata": {},
     "output_type": "display_data"
    },
    {
     "data": {
      "text/plain": [
       "0"
      ]
     },
     "metadata": {},
     "output_type": "display_data"
    },
    {
     "data": {
      "text/plain": [
       "tensor(0.0475)"
      ]
     },
     "metadata": {},
     "output_type": "display_data"
    },
    {
     "data": {
      "text/plain": [
       "tensor(0.0464)"
      ]
     },
     "metadata": {},
     "output_type": "display_data"
    },
    {
     "name": "stdout",
     "output_type": "stream",
     "text": [
      "\n"
     ]
    },
    {
     "data": {
      "text/plain": [
       "14913"
      ]
     },
     "metadata": {},
     "output_type": "display_data"
    },
    {
     "data": {
      "text/plain": [
       "'I purchased two boxes of nails and was afraid to get them all busted up, after I read the other reviews. But I bet there is maybe a total of two sticks worth of pieces. I mean a couple off the ends of sticks, to total 2 complete sticks. I would say there 99.8 % useable. Great price and free freight.'"
      ]
     },
     "metadata": {},
     "output_type": "display_data"
    },
    {
     "data": {
      "text/plain": [
       "1"
      ]
     },
     "metadata": {},
     "output_type": "display_data"
    },
    {
     "data": {
      "text/plain": [
       "tensor(3.7128)"
      ]
     },
     "metadata": {},
     "output_type": "display_data"
    },
    {
     "data": {
      "text/plain": [
       "tensor(0.0244)"
      ]
     },
     "metadata": {},
     "output_type": "display_data"
    },
    {
     "name": "stdout",
     "output_type": "stream",
     "text": [
      "\n"
     ]
    },
    {
     "data": {
      "text/plain": [
       "2340"
      ]
     },
     "metadata": {},
     "output_type": "display_data"
    },
    {
     "data": {
      "text/plain": [
       "'This book is an excellent story. Lots of California history..or better..Alta California as it was known in the era.BEWARE OF THE PHYSICAL BOOK !!!!! It is about 10\"x11\"...printing of the story is VERY!!!! pale.I will keep this....but have ordered an older, normal paperback version...similar to the one I left accidentally at the San Diego airport.Terrible size and print itself. Find another book of Ramona, by Helen Hunt Jackson....and be ready to want to go to Old Town San Diego.Michaelene Gon.'"
      ]
     },
     "metadata": {},
     "output_type": "display_data"
    },
    {
     "data": {
      "text/plain": [
       "0"
      ]
     },
     "metadata": {},
     "output_type": "display_data"
    },
    {
     "data": {
      "text/plain": [
       "tensor(0.0353)"
      ]
     },
     "metadata": {},
     "output_type": "display_data"
    },
    {
     "data": {
      "text/plain": [
       "tensor(0.0347)"
      ]
     },
     "metadata": {},
     "output_type": "display_data"
    },
    {
     "name": "stdout",
     "output_type": "stream",
     "text": [
      "\n"
     ]
    },
    {
     "data": {
      "text/plain": [
       "17557"
      ]
     },
     "metadata": {},
     "output_type": "display_data"
    },
    {
     "data": {
      "text/plain": [
       "\"I chose that rating cause I truly feel that they could've done a better job showing hendrix's visionas an artist of that era. They never delved into his personal feelings about his own music and they also never mentioned how he felt trapped between his Contracts with ppx industries all of his legal problems with his record companies. And the music that wasn't hendrix was terrible.\""
      ]
     },
     "metadata": {},
     "output_type": "display_data"
    },
    {
     "data": {
      "text/plain": [
       "0"
      ]
     },
     "metadata": {},
     "output_type": "display_data"
    },
    {
     "data": {
      "text/plain": [
       "tensor(0.0292)"
      ]
     },
     "metadata": {},
     "output_type": "display_data"
    },
    {
     "data": {
      "text/plain": [
       "tensor(0.0288)"
      ]
     },
     "metadata": {},
     "output_type": "display_data"
    },
    {
     "name": "stdout",
     "output_type": "stream",
     "text": [
      "\n"
     ]
    },
    {
     "data": {
      "text/plain": [
       "6417"
      ]
     },
     "metadata": {},
     "output_type": "display_data"
    },
    {
     "data": {
      "text/plain": [
       "\"These are great songs but I agree with earlier reviewers. This is not a greatest hits album. Why so few tracks over 2 cds? Roll With It, Whatever, Stand By Me, All Around the World, Hindu Times, Stop Crying Your Heart Out, Little By Little, It's Good to Be Free and Round Are Way are all BIG omissions. Especially Little By Little.\""
      ]
     },
     "metadata": {},
     "output_type": "display_data"
    },
    {
     "data": {
      "text/plain": [
       "1"
      ]
     },
     "metadata": {},
     "output_type": "display_data"
    },
    {
     "data": {
      "text/plain": [
       "tensor(3.3776)"
      ]
     },
     "metadata": {},
     "output_type": "display_data"
    },
    {
     "data": {
      "text/plain": [
       "tensor(0.0341)"
      ]
     },
     "metadata": {},
     "output_type": "display_data"
    },
    {
     "name": "stdout",
     "output_type": "stream",
     "text": [
      "\n"
     ]
    },
    {
     "data": {
      "text/plain": [
       "6816"
      ]
     },
     "metadata": {},
     "output_type": "display_data"
    },
    {
     "data": {
      "text/plain": [
       "\"If you are one of those consumers (as I am) that will purchase products because of aesthetics, then this product is for you/your dog. We have the large version and it is almost too big for our black lab--it holds a lot of food. The bowl has a nice weight to it and non-skid feet. Please note that our turquoise bowl faded, and although this bowl is dishwasher-safe we washed it by hand. The underside of the bowl stayed bright turquoise, but the exposed side faded quite a bit in a few months. The polymer material the bowl is constructed of is heavy and sturdy, however, it is also very rigid and I discovered that if you drop the bowl it breaks into many sharp pieces. It's a great design and I would recommend purchasing it if you like the design, but expect the color to fade and handle carefully.\""
      ]
     },
     "metadata": {},
     "output_type": "display_data"
    },
    {
     "data": {
      "text/plain": [
       "1"
      ]
     },
     "metadata": {},
     "output_type": "display_data"
    },
    {
     "data": {
      "text/plain": [
       "tensor(2.8926)"
      ]
     },
     "metadata": {},
     "output_type": "display_data"
    },
    {
     "data": {
      "text/plain": [
       "tensor(0.0554)"
      ]
     },
     "metadata": {},
     "output_type": "display_data"
    },
    {
     "name": "stdout",
     "output_type": "stream",
     "text": [
      "\n"
     ]
    },
    {
     "data": {
      "text/plain": [
       "16878"
      ]
     },
     "metadata": {},
     "output_type": "display_data"
    },
    {
     "data": {
      "text/plain": [
       "'this stater is actually 20 percent stronger and last longer ive had it in my bike over a year now and as soon as i put it in i felt it had more power im bout to buy an extra one and sell this for more'"
      ]
     },
     "metadata": {},
     "output_type": "display_data"
    },
    {
     "data": {
      "text/plain": [
       "1"
      ]
     },
     "metadata": {},
     "output_type": "display_data"
    },
    {
     "data": {
      "text/plain": [
       "tensor(3.2662)"
      ]
     },
     "metadata": {},
     "output_type": "display_data"
    },
    {
     "data": {
      "text/plain": [
       "tensor(0.0381)"
      ]
     },
     "metadata": {},
     "output_type": "display_data"
    },
    {
     "name": "stdout",
     "output_type": "stream",
     "text": [
      "\n"
     ]
    },
    {
     "data": {
      "text/plain": [
       "7479"
      ]
     },
     "metadata": {},
     "output_type": "display_data"
    },
    {
     "data": {
      "text/plain": [
       "'This movie is just too good for words. It gives you as many laughs as the red green show. The slapstick shenanighans keep comming as the laughs keep rolling. I once laughed so hard i fell asleep and woke up and turned the movie off. One liners, Obesity, Gags, Puns, ensue. Go and rent this now along with once bitten.'"
      ]
     },
     "metadata": {},
     "output_type": "display_data"
    },
    {
     "data": {
      "text/plain": [
       "1"
      ]
     },
     "metadata": {},
     "output_type": "display_data"
    },
    {
     "data": {
      "text/plain": [
       "tensor(3.3703)"
      ]
     },
     "metadata": {},
     "output_type": "display_data"
    },
    {
     "data": {
      "text/plain": [
       "tensor(0.0344)"
      ]
     },
     "metadata": {},
     "output_type": "display_data"
    },
    {
     "name": "stdout",
     "output_type": "stream",
     "text": [
      "\n"
     ]
    },
    {
     "data": {
      "text/plain": [
       "12844"
      ]
     },
     "metadata": {},
     "output_type": "display_data"
    },
    {
     "data": {
      "text/plain": [
       "'I now own 3 of these Hunter made holsters. The 1090-50 crossdraw \"only\" fits Colt clones with barrels up to 7 1/2\". The 1090-40 \"two way, crossdraw or strong side use,\" fits Colt clones with barrels up to 6\". I like a crossdraw that hangs more horizontal than vertical, the 1090-40 does that more so than the 1090-50. Also, the 1090-50 has a closed end while the 1090-40 has an open end. Very basic unlined but useful, to me, holsters.'"
      ]
     },
     "metadata": {},
     "output_type": "display_data"
    },
    {
     "data": {
      "text/plain": [
       "1"
      ]
     },
     "metadata": {},
     "output_type": "display_data"
    },
    {
     "data": {
      "text/plain": [
       "tensor(3.5103)"
      ]
     },
     "metadata": {},
     "output_type": "display_data"
    },
    {
     "data": {
      "text/plain": [
       "tensor(0.0299)"
      ]
     },
     "metadata": {},
     "output_type": "display_data"
    },
    {
     "name": "stdout",
     "output_type": "stream",
     "text": [
      "\n"
     ]
    },
    {
     "data": {
      "text/plain": [
       "11324"
      ]
     },
     "metadata": {},
     "output_type": "display_data"
    },
    {
     "data": {
      "text/plain": [
       "'The book is fine for beginners in the conservation genetics.So the price, I think that is expensive, because the book is just only an introductionto conservation genetics.'"
      ]
     },
     "metadata": {},
     "output_type": "display_data"
    },
    {
     "data": {
      "text/plain": [
       "0"
      ]
     },
     "metadata": {},
     "output_type": "display_data"
    },
    {
     "data": {
      "text/plain": [
       "tensor(0.0537)"
      ]
     },
     "metadata": {},
     "output_type": "display_data"
    },
    {
     "data": {
      "text/plain": [
       "tensor(0.0523)"
      ]
     },
     "metadata": {},
     "output_type": "display_data"
    },
    {
     "name": "stdout",
     "output_type": "stream",
     "text": [
      "\n"
     ]
    },
    {
     "data": {
      "text/plain": [
       "2731"
      ]
     },
     "metadata": {},
     "output_type": "display_data"
    },
    {
     "data": {
      "text/plain": [
       "'I have moderatly curly hair and have never known how to style it. I am uncoordinated with flat irons and round brushes with hair dryers. This thing is awsome. I can easily style my hair straight and not feel like I need an extra hand. It is adjustable depending how curly your hair is. It is easily packable for traveling. Apply straightning product, if desired, after you wash, then style when your hair is about two thirds dry, or if you wash your hair at night, just dampen it a little in the AM and style.'"
      ]
     },
     "metadata": {},
     "output_type": "display_data"
    },
    {
     "data": {
      "text/plain": [
       "1"
      ]
     },
     "metadata": {},
     "output_type": "display_data"
    },
    {
     "data": {
      "text/plain": [
       "tensor(3.2149)"
      ]
     },
     "metadata": {},
     "output_type": "display_data"
    },
    {
     "data": {
      "text/plain": [
       "tensor(0.0402)"
      ]
     },
     "metadata": {},
     "output_type": "display_data"
    },
    {
     "name": "stdout",
     "output_type": "stream",
     "text": [
      "\n"
     ]
    },
    {
     "data": {
      "text/plain": [
       "14754"
      ]
     },
     "metadata": {},
     "output_type": "display_data"
    },
    {
     "data": {
      "text/plain": [
       "'I think the material in this audio book is amazing.I have a hard time getting through it because of the actor chosen to read the text.His voice and affectations are beyond annoying.I wish careful consideration would be given when it comes to choosing who is to read for the audio book!'"
      ]
     },
     "metadata": {},
     "output_type": "display_data"
    },
    {
     "data": {
      "text/plain": [
       "0"
      ]
     },
     "metadata": {},
     "output_type": "display_data"
    },
    {
     "data": {
      "text/plain": [
       "tensor(0.0441)"
      ]
     },
     "metadata": {},
     "output_type": "display_data"
    },
    {
     "data": {
      "text/plain": [
       "tensor(0.0431)"
      ]
     },
     "metadata": {},
     "output_type": "display_data"
    },
    {
     "name": "stdout",
     "output_type": "stream",
     "text": [
      "\n"
     ]
    },
    {
     "data": {
      "text/plain": [
       "5832"
      ]
     },
     "metadata": {},
     "output_type": "display_data"
    },
    {
     "data": {
      "text/plain": [
       "'I really like the product, its way smaller that I thought, 2 reason i had to send it back, 1. dead pixel, 2. had to reset 3 times in one hour. i dont know wat the heck is wrong with it. it doesnt support kingstore secure digital card, (4gb), otherwise the lcd is cristal clear, has wifi internet which is preety amazing, fast, i didnt get to see everything yet cuz i shiped it back the same day i got it, hope the one i am getting now comes with no diffects.'"
      ]
     },
     "metadata": {},
     "output_type": "display_data"
    },
    {
     "data": {
      "text/plain": [
       "1"
      ]
     },
     "metadata": {},
     "output_type": "display_data"
    },
    {
     "data": {
      "text/plain": [
       "tensor(3.5558)"
      ]
     },
     "metadata": {},
     "output_type": "display_data"
    },
    {
     "data": {
      "text/plain": [
       "tensor(0.0286)"
      ]
     },
     "metadata": {},
     "output_type": "display_data"
    },
    {
     "name": "stdout",
     "output_type": "stream",
     "text": [
      "\n"
     ]
    },
    {
     "data": {
      "text/plain": [
       "15893"
      ]
     },
     "metadata": {},
     "output_type": "display_data"
    },
    {
     "data": {
      "text/plain": [
       "\"Well, my review is a short one...I am a real fanatic of all the novels, I read the six of them 5 times, both in French and in English...BUT this movie is way too weird, most of the actors are week, it's like dune in Twin Peaks...Well, no thanks, the true fans will understand the incompatibility !!!!\""
      ]
     },
     "metadata": {},
     "output_type": "display_data"
    },
    {
     "data": {
      "text/plain": [
       "0"
      ]
     },
     "metadata": {},
     "output_type": "display_data"
    },
    {
     "data": {
      "text/plain": [
       "tensor(0.0308)"
      ]
     },
     "metadata": {},
     "output_type": "display_data"
    },
    {
     "data": {
      "text/plain": [
       "tensor(0.0304)"
      ]
     },
     "metadata": {},
     "output_type": "display_data"
    },
    {
     "name": "stdout",
     "output_type": "stream",
     "text": [
      "\n"
     ]
    },
    {
     "data": {
      "text/plain": [
       "819"
      ]
     },
     "metadata": {},
     "output_type": "display_data"
    },
    {
     "data": {
      "text/plain": [
       "\"this game is hard and I still havn't beaten it, and I have had it for two mothes. I reconmend for only skilled players play.DELTA 904thanks for youre time and patience\""
      ]
     },
     "metadata": {},
     "output_type": "display_data"
    },
    {
     "data": {
      "text/plain": [
       "1"
      ]
     },
     "metadata": {},
     "output_type": "display_data"
    },
    {
     "data": {
      "text/plain": [
       "tensor(3.1931)"
      ]
     },
     "metadata": {},
     "output_type": "display_data"
    },
    {
     "data": {
      "text/plain": [
       "tensor(0.0410)"
      ]
     },
     "metadata": {},
     "output_type": "display_data"
    },
    {
     "name": "stdout",
     "output_type": "stream",
     "text": [
      "\n"
     ]
    },
    {
     "data": {
      "text/plain": [
       "5843"
      ]
     },
     "metadata": {},
     "output_type": "display_data"
    },
    {
     "data": {
      "text/plain": [
       "\"Well you don't have to be a history buff to get the gags in this movie. Both lead actresses have that ditzy, aloof girl next door routine done pat and this along with the situations they accidently find themselves in makes for one heck of a re-watchable movie. I usually love DVD's that have enough content to last 10 or more viewings and this definately one of them. There are plenty of jokes or play on the word ' Dick ' in this movie and that alone is good enough to last for multiple viewings. I'm not a history buff, but you don't have to be to get how ' Walnut Leaves ' could have re-written the history books...There's to much to this movie to explain, just buy its money well spent.\""
      ]
     },
     "metadata": {},
     "output_type": "display_data"
    },
    {
     "data": {
      "text/plain": [
       "1"
      ]
     },
     "metadata": {},
     "output_type": "display_data"
    },
    {
     "data": {
      "text/plain": [
       "tensor(3.4441)"
      ]
     },
     "metadata": {},
     "output_type": "display_data"
    },
    {
     "data": {
      "text/plain": [
       "tensor(0.0319)"
      ]
     },
     "metadata": {},
     "output_type": "display_data"
    },
    {
     "name": "stdout",
     "output_type": "stream",
     "text": [
      "\n"
     ]
    },
    {
     "data": {
      "text/plain": [
       "18363"
      ]
     },
     "metadata": {},
     "output_type": "display_data"
    },
    {
     "data": {
      "text/plain": [
       "\"We are about 7 or 8 months into this water heater and have had it. We have fiddled with the temperature control enough. This weekend I am going to buy a old reliable conventional unit. We haven't had some of the horrendous problems others have reported. I think if I had, I wouldn't have put up with it for 8 minutes, let alone 8 months. But honestly, getting hot water shouldn't require all the gymnastics that are required to keep this thing adjusted - managing the flow rate, changing the temperature setting according to the seasons, resetting the little breakers when they trip - honestly. [...] If you like to tinker with the water heater all the time then maybe this is the unit for you. Especially if you like occassional cold showers in January and racing through the house bare-naked trying to see if the little red light is on. No thanks!\""
      ]
     },
     "metadata": {},
     "output_type": "display_data"
    },
    {
     "data": {
      "text/plain": [
       "0"
      ]
     },
     "metadata": {},
     "output_type": "display_data"
    },
    {
     "data": {
      "text/plain": [
       "tensor(0.0267)"
      ]
     },
     "metadata": {},
     "output_type": "display_data"
    },
    {
     "data": {
      "text/plain": [
       "tensor(0.0264)"
      ]
     },
     "metadata": {},
     "output_type": "display_data"
    },
    {
     "name": "stdout",
     "output_type": "stream",
     "text": [
      "\n"
     ]
    },
    {
     "data": {
      "text/plain": [
       "5267"
      ]
     },
     "metadata": {},
     "output_type": "display_data"
    },
    {
     "data": {
      "text/plain": [
       "\"I have used this aquarium in my daughter's crib since she was two months old. She is now 10 months and still loves it! More importantly, when we lay her down and press it on, the music signals to her that it is time for bed. She willingly rolls over to look at it and eventually falls asleep. She used to press it on herself in the middle of the night to go back to sleep(when her crib was lower and the aquarium was more accessible). I would reccommend this soothing toy to anyone and suggest to start using it early on. The only modifications I would make would be a remote control for parents to turn it on without entering the room(it only goes for 7 minutes) and maybe longer straps so that when the crib is lowered the baby can still reach it.\""
      ]
     },
     "metadata": {},
     "output_type": "display_data"
    },
    {
     "data": {
      "text/plain": [
       "1"
      ]
     },
     "metadata": {},
     "output_type": "display_data"
    },
    {
     "data": {
      "text/plain": [
       "tensor(3.3035)"
      ]
     },
     "metadata": {},
     "output_type": "display_data"
    },
    {
     "data": {
      "text/plain": [
       "tensor(0.0368)"
      ]
     },
     "metadata": {},
     "output_type": "display_data"
    },
    {
     "name": "stdout",
     "output_type": "stream",
     "text": [
      "\n"
     ]
    },
    {
     "data": {
      "text/plain": [
       "10615"
      ]
     },
     "metadata": {},
     "output_type": "display_data"
    },
    {
     "data": {
      "text/plain": [
       "\"Really tried to like this book. Premise was grand; story bobbed and weaved; conclusion was flimsy. Discursive scientific literalizations distract & disorient. Crichton breaks the rule to never stanch the flow. I dislike the quartet of scientists who investigate the outbreak; they don't come across to the reader as likeable.\""
      ]
     },
     "metadata": {},
     "output_type": "display_data"
    },
    {
     "data": {
      "text/plain": [
       "0"
      ]
     },
     "metadata": {},
     "output_type": "display_data"
    },
    {
     "data": {
      "text/plain": [
       "tensor(0.0302)"
      ]
     },
     "metadata": {},
     "output_type": "display_data"
    },
    {
     "data": {
      "text/plain": [
       "tensor(0.0297)"
      ]
     },
     "metadata": {},
     "output_type": "display_data"
    },
    {
     "name": "stdout",
     "output_type": "stream",
     "text": [
      "\n"
     ]
    },
    {
     "data": {
      "text/plain": [
       "8352"
      ]
     },
     "metadata": {},
     "output_type": "display_data"
    },
    {
     "data": {
      "text/plain": [
       "\"Yes folks, it's true. Bobby taught James everything he knows. Not to detract from the Godfather himself, but Bobby is just so underrated by most who think they know something about soul music. One must take into consideration that this is a greatest hits compilation and as such has some duds in it as filler. But when you put that first track on and hear that first guitar pickin intro and then hear James back in the sound booth just shouting to get out, it's because he knows Bobby's got soul.\""
      ]
     },
     "metadata": {},
     "output_type": "display_data"
    },
    {
     "data": {
      "text/plain": [
       "1"
      ]
     },
     "metadata": {},
     "output_type": "display_data"
    },
    {
     "data": {
      "text/plain": [
       "tensor(3.1275)"
      ]
     },
     "metadata": {},
     "output_type": "display_data"
    },
    {
     "data": {
      "text/plain": [
       "tensor(0.0438)"
      ]
     },
     "metadata": {},
     "output_type": "display_data"
    },
    {
     "name": "stdout",
     "output_type": "stream",
     "text": [
      "\n"
     ]
    },
    {
     "data": {
      "text/plain": [
       "5836"
      ]
     },
     "metadata": {},
     "output_type": "display_data"
    },
    {
     "data": {
      "text/plain": [
       "\"I am restricted to a wheelchair, and so must rely on grabbers,to assist me when reaching for things in higher areas or across wide spacess. I already had one of the ergonomically 18' grabbers in this style and really liked the light wt. and dexterity it allowed me, over many of the other styles. So, I was very disappointd when after the THIRD time I used it, I heard a click and part of the internal workings actually came through the handle, Now, it just takes up space while I try to see if I can get my money back. Needless to say, I am aggeivated and dissapointd. DONT BUY THIS PRODUCT.\""
      ]
     },
     "metadata": {},
     "output_type": "display_data"
    },
    {
     "data": {
      "text/plain": [
       "0"
      ]
     },
     "metadata": {},
     "output_type": "display_data"
    },
    {
     "data": {
      "text/plain": [
       "tensor(0.0241)"
      ]
     },
     "metadata": {},
     "output_type": "display_data"
    },
    {
     "data": {
      "text/plain": [
       "tensor(0.0238)"
      ]
     },
     "metadata": {},
     "output_type": "display_data"
    },
    {
     "name": "stdout",
     "output_type": "stream",
     "text": [
      "\n"
     ]
    },
    {
     "data": {
      "text/plain": [
       "16820"
      ]
     },
     "metadata": {},
     "output_type": "display_data"
    },
    {
     "data": {
      "text/plain": [
       "'Red Rodney\\'s \"1957\" is a great album but it is the exact same material as is on the Savoy CD \"Fiery\" (see my review). I mail-ordered this title without realizing this. Don\\'t repeat my mistake.'"
      ]
     },
     "metadata": {},
     "output_type": "display_data"
    },
    {
     "data": {
      "text/plain": [
       "1"
      ]
     },
     "metadata": {},
     "output_type": "display_data"
    },
    {
     "data": {
      "text/plain": [
       "tensor(3.2600)"
      ]
     },
     "metadata": {},
     "output_type": "display_data"
    },
    {
     "data": {
      "text/plain": [
       "tensor(0.0384)"
      ]
     },
     "metadata": {},
     "output_type": "display_data"
    },
    {
     "name": "stdout",
     "output_type": "stream",
     "text": [
      "\n"
     ]
    }
   ],
   "source": [
    "# word cloud\n",
    "spotlight = spotlights[1]\n",
    "weight_idx = spotlight['weights'].argsort().tolist()[::-1]\n",
    "for idx in weight_idx[:100]:\n",
    "    example = dataset[idx]\n",
    "    display(idx)\n",
    "    display(example['content'])\n",
    "    display(example['label'])\n",
    "    display(losses[idx])\n",
    "    display(outputs[idx])\n",
    "    print()"
   ]
  },
  {
   "cell_type": "code",
   "execution_count": null,
   "id": "c59eb28e-a15f-4d3c-a237-3778feb9fb01",
   "metadata": {},
   "outputs": [],
   "source": []
  },
  {
   "cell_type": "markdown",
   "id": "28828173",
   "metadata": {},
   "source": [
    "# SQuAD"
   ]
  },
  {
   "cell_type": "markdown",
   "id": "0ad844bd",
   "metadata": {},
   "source": [
    "## Dataset + tokenizer"
   ]
  },
  {
   "cell_type": "code",
   "execution_count": 28,
   "id": "9c7fb439",
   "metadata": {},
   "outputs": [],
   "source": [
    "dataset = load_from_disk(squad_dir)['validation']"
   ]
  },
  {
   "cell_type": "code",
   "execution_count": 29,
   "id": "b1e9f98d",
   "metadata": {},
   "outputs": [],
   "source": [
    "categories = list(set(dataset['title']))"
   ]
  },
  {
   "cell_type": "code",
   "execution_count": 30,
   "id": "920aa8a3",
   "metadata": {},
   "outputs": [
    {
     "ename": "ImportError",
     "evalue": "IProgress not found. Please update jupyter and ipywidgets. See https://ipywidgets.readthedocs.io/en/stable/user_install.html",
     "output_type": "error",
     "traceback": [
      "\u001b[0;31m---------------------------------------------------------------------------\u001b[0m",
      "\u001b[0;31mImportError\u001b[0m                               Traceback (most recent call last)",
      "\u001b[0;32m/tmp/pbs.2924803.pbsha.ib.sockeye/ipykernel_54231/4270594452.py\u001b[0m in \u001b[0;36m<module>\u001b[0;34m\u001b[0m\n\u001b[1;32m      5\u001b[0m     )['input_ids'])\n\u001b[1;32m      6\u001b[0m     \u001b[0;32mreturn\u001b[0m \u001b[0mexample_length\u001b[0m \u001b[0;34m<\u001b[0m \u001b[0;36m384\u001b[0m\u001b[0;34m\u001b[0m\u001b[0;34m\u001b[0m\u001b[0m\n\u001b[0;32m----> 7\u001b[0;31m \u001b[0mshort_dataset\u001b[0m \u001b[0;34m=\u001b[0m \u001b[0mdataset\u001b[0m\u001b[0;34m.\u001b[0m\u001b[0mfilter\u001b[0m\u001b[0;34m(\u001b[0m\u001b[0mfilter_short_examples\u001b[0m\u001b[0;34m)\u001b[0m\u001b[0;34m\u001b[0m\u001b[0;34m\u001b[0m\u001b[0m\n\u001b[0m",
      "\u001b[0;32m~/.local/lib/python3.7/site-packages/datasets/arrow_dataset.py\u001b[0m in \u001b[0;36mwrapper\u001b[0;34m(*args, **kwargs)\u001b[0m\n\u001b[1;32m    183\u001b[0m         }\n\u001b[1;32m    184\u001b[0m         \u001b[0;31m# apply actual function\u001b[0m\u001b[0;34m\u001b[0m\u001b[0;34m\u001b[0m\u001b[0;34m\u001b[0m\u001b[0m\n\u001b[0;32m--> 185\u001b[0;31m         \u001b[0mout\u001b[0m\u001b[0;34m:\u001b[0m \u001b[0mUnion\u001b[0m\u001b[0;34m[\u001b[0m\u001b[0;34m\"Dataset\"\u001b[0m\u001b[0;34m,\u001b[0m \u001b[0;34m\"DatasetDict\"\u001b[0m\u001b[0;34m]\u001b[0m \u001b[0;34m=\u001b[0m \u001b[0mfunc\u001b[0m\u001b[0;34m(\u001b[0m\u001b[0mself\u001b[0m\u001b[0;34m,\u001b[0m \u001b[0;34m*\u001b[0m\u001b[0margs\u001b[0m\u001b[0;34m,\u001b[0m \u001b[0;34m**\u001b[0m\u001b[0mkwargs\u001b[0m\u001b[0;34m)\u001b[0m\u001b[0;34m\u001b[0m\u001b[0;34m\u001b[0m\u001b[0m\n\u001b[0m\u001b[1;32m    186\u001b[0m         \u001b[0mdatasets\u001b[0m\u001b[0;34m:\u001b[0m \u001b[0mList\u001b[0m\u001b[0;34m[\u001b[0m\u001b[0;34m\"Dataset\"\u001b[0m\u001b[0;34m]\u001b[0m \u001b[0;34m=\u001b[0m \u001b[0mlist\u001b[0m\u001b[0;34m(\u001b[0m\u001b[0mout\u001b[0m\u001b[0;34m.\u001b[0m\u001b[0mvalues\u001b[0m\u001b[0;34m(\u001b[0m\u001b[0;34m)\u001b[0m\u001b[0;34m)\u001b[0m \u001b[0;32mif\u001b[0m \u001b[0misinstance\u001b[0m\u001b[0;34m(\u001b[0m\u001b[0mout\u001b[0m\u001b[0;34m,\u001b[0m \u001b[0mdict\u001b[0m\u001b[0;34m)\u001b[0m \u001b[0;32melse\u001b[0m \u001b[0;34m[\u001b[0m\u001b[0mout\u001b[0m\u001b[0;34m]\u001b[0m\u001b[0;34m\u001b[0m\u001b[0;34m\u001b[0m\u001b[0m\n\u001b[1;32m    187\u001b[0m         \u001b[0;31m# re-apply format to the output\u001b[0m\u001b[0;34m\u001b[0m\u001b[0;34m\u001b[0m\u001b[0;34m\u001b[0m\u001b[0m\n",
      "\u001b[0;32m~/.local/lib/python3.7/site-packages/datasets/fingerprint.py\u001b[0m in \u001b[0;36mwrapper\u001b[0;34m(*args, **kwargs)\u001b[0m\n\u001b[1;32m    396\u001b[0m             \u001b[0;31m# Call actual function\u001b[0m\u001b[0;34m\u001b[0m\u001b[0;34m\u001b[0m\u001b[0;34m\u001b[0m\u001b[0m\n\u001b[1;32m    397\u001b[0m \u001b[0;34m\u001b[0m\u001b[0m\n\u001b[0;32m--> 398\u001b[0;31m             \u001b[0mout\u001b[0m \u001b[0;34m=\u001b[0m \u001b[0mfunc\u001b[0m\u001b[0;34m(\u001b[0m\u001b[0mself\u001b[0m\u001b[0;34m,\u001b[0m \u001b[0;34m*\u001b[0m\u001b[0margs\u001b[0m\u001b[0;34m,\u001b[0m \u001b[0;34m**\u001b[0m\u001b[0mkwargs\u001b[0m\u001b[0;34m)\u001b[0m\u001b[0;34m\u001b[0m\u001b[0;34m\u001b[0m\u001b[0m\n\u001b[0m\u001b[1;32m    399\u001b[0m \u001b[0;34m\u001b[0m\u001b[0m\n\u001b[1;32m    400\u001b[0m             \u001b[0;31m# Update fingerprint of in-place transforms + update in-place history of transforms\u001b[0m\u001b[0;34m\u001b[0m\u001b[0;34m\u001b[0m\u001b[0;34m\u001b[0m\u001b[0m\n",
      "\u001b[0;32m~/.local/lib/python3.7/site-packages/datasets/arrow_dataset.py\u001b[0m in \u001b[0;36mfilter\u001b[0;34m(self, function, with_indices, input_columns, batched, batch_size, remove_columns, keep_in_memory, load_from_cache_file, cache_file_name, writer_batch_size, fn_kwargs, num_proc, suffix_template, new_fingerprint)\u001b[0m\n\u001b[1;32m   2182\u001b[0m             \u001b[0msuffix_template\u001b[0m\u001b[0;34m=\u001b[0m\u001b[0msuffix_template\u001b[0m\u001b[0;34m,\u001b[0m\u001b[0;34m\u001b[0m\u001b[0;34m\u001b[0m\u001b[0m\n\u001b[1;32m   2183\u001b[0m             \u001b[0mnew_fingerprint\u001b[0m\u001b[0;34m=\u001b[0m\u001b[0mnew_fingerprint\u001b[0m\u001b[0;34m,\u001b[0m\u001b[0;34m\u001b[0m\u001b[0;34m\u001b[0m\u001b[0m\n\u001b[0;32m-> 2184\u001b[0;31m             \u001b[0minput_columns\u001b[0m\u001b[0;34m=\u001b[0m\u001b[0minput_columns\u001b[0m\u001b[0;34m,\u001b[0m\u001b[0;34m\u001b[0m\u001b[0;34m\u001b[0m\u001b[0m\n\u001b[0m\u001b[1;32m   2185\u001b[0m         )\n\u001b[1;32m   2186\u001b[0m         \u001b[0mnew_dataset\u001b[0m \u001b[0;34m=\u001b[0m \u001b[0mcopy\u001b[0m\u001b[0;34m.\u001b[0m\u001b[0mdeepcopy\u001b[0m\u001b[0;34m(\u001b[0m\u001b[0mself\u001b[0m\u001b[0;34m)\u001b[0m\u001b[0;34m\u001b[0m\u001b[0;34m\u001b[0m\u001b[0m\n",
      "\u001b[0;32m~/.local/lib/python3.7/site-packages/datasets/arrow_dataset.py\u001b[0m in \u001b[0;36mmap\u001b[0;34m(self, function, with_indices, input_columns, batched, batch_size, drop_last_batch, remove_columns, keep_in_memory, load_from_cache_file, cache_file_name, writer_batch_size, features, disable_nullable, fn_kwargs, num_proc, suffix_template, new_fingerprint, desc)\u001b[0m\n\u001b[1;32m   1701\u001b[0m                 \u001b[0mnew_fingerprint\u001b[0m\u001b[0;34m=\u001b[0m\u001b[0mnew_fingerprint\u001b[0m\u001b[0;34m,\u001b[0m\u001b[0;34m\u001b[0m\u001b[0;34m\u001b[0m\u001b[0m\n\u001b[1;32m   1702\u001b[0m                 \u001b[0mdisable_tqdm\u001b[0m\u001b[0;34m=\u001b[0m\u001b[0mdisable_tqdm\u001b[0m\u001b[0;34m,\u001b[0m\u001b[0;34m\u001b[0m\u001b[0;34m\u001b[0m\u001b[0m\n\u001b[0;32m-> 1703\u001b[0;31m                 \u001b[0mdesc\u001b[0m\u001b[0;34m=\u001b[0m\u001b[0mdesc\u001b[0m\u001b[0;34m,\u001b[0m\u001b[0;34m\u001b[0m\u001b[0;34m\u001b[0m\u001b[0m\n\u001b[0m\u001b[1;32m   1704\u001b[0m             )\n\u001b[1;32m   1705\u001b[0m         \u001b[0;32melse\u001b[0m\u001b[0;34m:\u001b[0m\u001b[0;34m\u001b[0m\u001b[0;34m\u001b[0m\u001b[0m\n",
      "\u001b[0;32m~/.local/lib/python3.7/site-packages/datasets/arrow_dataset.py\u001b[0m in \u001b[0;36mwrapper\u001b[0;34m(*args, **kwargs)\u001b[0m\n\u001b[1;32m    183\u001b[0m         }\n\u001b[1;32m    184\u001b[0m         \u001b[0;31m# apply actual function\u001b[0m\u001b[0;34m\u001b[0m\u001b[0;34m\u001b[0m\u001b[0;34m\u001b[0m\u001b[0m\n\u001b[0;32m--> 185\u001b[0;31m         \u001b[0mout\u001b[0m\u001b[0;34m:\u001b[0m \u001b[0mUnion\u001b[0m\u001b[0;34m[\u001b[0m\u001b[0;34m\"Dataset\"\u001b[0m\u001b[0;34m,\u001b[0m \u001b[0;34m\"DatasetDict\"\u001b[0m\u001b[0;34m]\u001b[0m \u001b[0;34m=\u001b[0m \u001b[0mfunc\u001b[0m\u001b[0;34m(\u001b[0m\u001b[0mself\u001b[0m\u001b[0;34m,\u001b[0m \u001b[0;34m*\u001b[0m\u001b[0margs\u001b[0m\u001b[0;34m,\u001b[0m \u001b[0;34m**\u001b[0m\u001b[0mkwargs\u001b[0m\u001b[0;34m)\u001b[0m\u001b[0;34m\u001b[0m\u001b[0;34m\u001b[0m\u001b[0m\n\u001b[0m\u001b[1;32m    186\u001b[0m         \u001b[0mdatasets\u001b[0m\u001b[0;34m:\u001b[0m \u001b[0mList\u001b[0m\u001b[0;34m[\u001b[0m\u001b[0;34m\"Dataset\"\u001b[0m\u001b[0;34m]\u001b[0m \u001b[0;34m=\u001b[0m \u001b[0mlist\u001b[0m\u001b[0;34m(\u001b[0m\u001b[0mout\u001b[0m\u001b[0;34m.\u001b[0m\u001b[0mvalues\u001b[0m\u001b[0;34m(\u001b[0m\u001b[0;34m)\u001b[0m\u001b[0;34m)\u001b[0m \u001b[0;32mif\u001b[0m \u001b[0misinstance\u001b[0m\u001b[0;34m(\u001b[0m\u001b[0mout\u001b[0m\u001b[0;34m,\u001b[0m \u001b[0mdict\u001b[0m\u001b[0;34m)\u001b[0m \u001b[0;32melse\u001b[0m \u001b[0;34m[\u001b[0m\u001b[0mout\u001b[0m\u001b[0;34m]\u001b[0m\u001b[0;34m\u001b[0m\u001b[0;34m\u001b[0m\u001b[0m\n\u001b[1;32m    187\u001b[0m         \u001b[0;31m# re-apply format to the output\u001b[0m\u001b[0;34m\u001b[0m\u001b[0;34m\u001b[0m\u001b[0;34m\u001b[0m\u001b[0m\n",
      "\u001b[0;32m~/.local/lib/python3.7/site-packages/datasets/fingerprint.py\u001b[0m in \u001b[0;36mwrapper\u001b[0;34m(*args, **kwargs)\u001b[0m\n\u001b[1;32m    396\u001b[0m             \u001b[0;31m# Call actual function\u001b[0m\u001b[0;34m\u001b[0m\u001b[0;34m\u001b[0m\u001b[0;34m\u001b[0m\u001b[0m\n\u001b[1;32m    397\u001b[0m \u001b[0;34m\u001b[0m\u001b[0m\n\u001b[0;32m--> 398\u001b[0;31m             \u001b[0mout\u001b[0m \u001b[0;34m=\u001b[0m \u001b[0mfunc\u001b[0m\u001b[0;34m(\u001b[0m\u001b[0mself\u001b[0m\u001b[0;34m,\u001b[0m \u001b[0;34m*\u001b[0m\u001b[0margs\u001b[0m\u001b[0;34m,\u001b[0m \u001b[0;34m**\u001b[0m\u001b[0mkwargs\u001b[0m\u001b[0;34m)\u001b[0m\u001b[0;34m\u001b[0m\u001b[0;34m\u001b[0m\u001b[0m\n\u001b[0m\u001b[1;32m    399\u001b[0m \u001b[0;34m\u001b[0m\u001b[0m\n\u001b[1;32m    400\u001b[0m             \u001b[0;31m# Update fingerprint of in-place transforms + update in-place history of transforms\u001b[0m\u001b[0;34m\u001b[0m\u001b[0;34m\u001b[0m\u001b[0;34m\u001b[0m\u001b[0m\n",
      "\u001b[0;32m~/.local/lib/python3.7/site-packages/datasets/arrow_dataset.py\u001b[0m in \u001b[0;36m_map_single\u001b[0;34m(self, function, with_indices, input_columns, batched, batch_size, drop_last_batch, remove_columns, keep_in_memory, load_from_cache_file, cache_file_name, writer_batch_size, features, disable_nullable, fn_kwargs, new_fingerprint, rank, offset, disable_tqdm, desc, cache_only)\u001b[0m\n\u001b[1;32m   2024\u001b[0m                     \u001b[0mposition\u001b[0m\u001b[0;34m=\u001b[0m\u001b[0mrank\u001b[0m\u001b[0;34m,\u001b[0m\u001b[0;34m\u001b[0m\u001b[0;34m\u001b[0m\u001b[0m\n\u001b[1;32m   2025\u001b[0m                     \u001b[0munit\u001b[0m\u001b[0;34m=\u001b[0m\u001b[0mpbar_unit\u001b[0m\u001b[0;34m,\u001b[0m\u001b[0;34m\u001b[0m\u001b[0;34m\u001b[0m\u001b[0m\n\u001b[0;32m-> 2026\u001b[0;31m                     \u001b[0mdesc\u001b[0m\u001b[0;34m=\u001b[0m\u001b[0mpbar_desc\u001b[0m\u001b[0;34m,\u001b[0m\u001b[0;34m\u001b[0m\u001b[0;34m\u001b[0m\u001b[0m\n\u001b[0m\u001b[1;32m   2027\u001b[0m                 )\n\u001b[1;32m   2028\u001b[0m                 \u001b[0;32mif\u001b[0m \u001b[0;32mnot\u001b[0m \u001b[0mbatched\u001b[0m\u001b[0;34m:\u001b[0m\u001b[0;34m\u001b[0m\u001b[0;34m\u001b[0m\u001b[0m\n",
      "\u001b[0;32m~/.local/lib/python3.7/site-packages/datasets/utils/tqdm_utils.py\u001b[0m in \u001b[0;36m__call__\u001b[0;34m(self, *args, **kwargs)\u001b[0m\n\u001b[1;32m     53\u001b[0m     \u001b[0;32mdef\u001b[0m \u001b[0m__call__\u001b[0m\u001b[0;34m(\u001b[0m\u001b[0mself\u001b[0m\u001b[0;34m,\u001b[0m \u001b[0;34m*\u001b[0m\u001b[0margs\u001b[0m\u001b[0;34m,\u001b[0m \u001b[0;34m**\u001b[0m\u001b[0mkwargs\u001b[0m\u001b[0;34m)\u001b[0m\u001b[0;34m:\u001b[0m\u001b[0;34m\u001b[0m\u001b[0;34m\u001b[0m\u001b[0m\n\u001b[1;32m     54\u001b[0m         \u001b[0;32mif\u001b[0m \u001b[0m_active\u001b[0m\u001b[0;34m:\u001b[0m\u001b[0;34m\u001b[0m\u001b[0;34m\u001b[0m\u001b[0m\n\u001b[0;32m---> 55\u001b[0;31m             \u001b[0;32mreturn\u001b[0m \u001b[0mtqdm_lib\u001b[0m\u001b[0;34m.\u001b[0m\u001b[0mtqdm\u001b[0m\u001b[0;34m(\u001b[0m\u001b[0;34m*\u001b[0m\u001b[0margs\u001b[0m\u001b[0;34m,\u001b[0m \u001b[0;34m**\u001b[0m\u001b[0mkwargs\u001b[0m\u001b[0;34m)\u001b[0m\u001b[0;34m\u001b[0m\u001b[0;34m\u001b[0m\u001b[0m\n\u001b[0m\u001b[1;32m     56\u001b[0m         \u001b[0;32melse\u001b[0m\u001b[0;34m:\u001b[0m\u001b[0;34m\u001b[0m\u001b[0;34m\u001b[0m\u001b[0m\n\u001b[1;32m     57\u001b[0m             \u001b[0;32mreturn\u001b[0m \u001b[0mEmptyTqdm\u001b[0m\u001b[0;34m(\u001b[0m\u001b[0;34m*\u001b[0m\u001b[0margs\u001b[0m\u001b[0;34m,\u001b[0m \u001b[0;34m**\u001b[0m\u001b[0mkwargs\u001b[0m\u001b[0;34m)\u001b[0m\u001b[0;34m\u001b[0m\u001b[0;34m\u001b[0m\u001b[0m\n",
      "\u001b[0;32m~/.local/lib/python3.7/site-packages/tqdm/notebook.py\u001b[0m in \u001b[0;36m__init__\u001b[0;34m(self, *args, **kwargs)\u001b[0m\n\u001b[1;32m    240\u001b[0m         \u001b[0munit_scale\u001b[0m \u001b[0;34m=\u001b[0m \u001b[0;36m1\u001b[0m \u001b[0;32mif\u001b[0m \u001b[0mself\u001b[0m\u001b[0;34m.\u001b[0m\u001b[0munit_scale\u001b[0m \u001b[0;32mis\u001b[0m \u001b[0;32mTrue\u001b[0m \u001b[0;32melse\u001b[0m \u001b[0mself\u001b[0m\u001b[0;34m.\u001b[0m\u001b[0munit_scale\u001b[0m \u001b[0;32mor\u001b[0m \u001b[0;36m1\u001b[0m\u001b[0;34m\u001b[0m\u001b[0;34m\u001b[0m\u001b[0m\n\u001b[1;32m    241\u001b[0m         \u001b[0mtotal\u001b[0m \u001b[0;34m=\u001b[0m \u001b[0mself\u001b[0m\u001b[0;34m.\u001b[0m\u001b[0mtotal\u001b[0m \u001b[0;34m*\u001b[0m \u001b[0munit_scale\u001b[0m \u001b[0;32mif\u001b[0m \u001b[0mself\u001b[0m\u001b[0;34m.\u001b[0m\u001b[0mtotal\u001b[0m \u001b[0;32melse\u001b[0m \u001b[0mself\u001b[0m\u001b[0;34m.\u001b[0m\u001b[0mtotal\u001b[0m\u001b[0;34m\u001b[0m\u001b[0;34m\u001b[0m\u001b[0m\n\u001b[0;32m--> 242\u001b[0;31m         \u001b[0mself\u001b[0m\u001b[0;34m.\u001b[0m\u001b[0mcontainer\u001b[0m \u001b[0;34m=\u001b[0m \u001b[0mself\u001b[0m\u001b[0;34m.\u001b[0m\u001b[0mstatus_printer\u001b[0m\u001b[0;34m(\u001b[0m\u001b[0mself\u001b[0m\u001b[0;34m.\u001b[0m\u001b[0mfp\u001b[0m\u001b[0;34m,\u001b[0m \u001b[0mtotal\u001b[0m\u001b[0;34m,\u001b[0m \u001b[0mself\u001b[0m\u001b[0;34m.\u001b[0m\u001b[0mdesc\u001b[0m\u001b[0;34m,\u001b[0m \u001b[0mself\u001b[0m\u001b[0;34m.\u001b[0m\u001b[0mncols\u001b[0m\u001b[0;34m)\u001b[0m\u001b[0;34m\u001b[0m\u001b[0;34m\u001b[0m\u001b[0m\n\u001b[0m\u001b[1;32m    243\u001b[0m         \u001b[0mself\u001b[0m\u001b[0;34m.\u001b[0m\u001b[0mcontainer\u001b[0m\u001b[0;34m.\u001b[0m\u001b[0mpbar\u001b[0m \u001b[0;34m=\u001b[0m \u001b[0mproxy\u001b[0m\u001b[0;34m(\u001b[0m\u001b[0mself\u001b[0m\u001b[0;34m)\u001b[0m\u001b[0;34m\u001b[0m\u001b[0;34m\u001b[0m\u001b[0m\n\u001b[1;32m    244\u001b[0m         \u001b[0mself\u001b[0m\u001b[0;34m.\u001b[0m\u001b[0mdisplayed\u001b[0m \u001b[0;34m=\u001b[0m \u001b[0;32mFalse\u001b[0m\u001b[0;34m\u001b[0m\u001b[0;34m\u001b[0m\u001b[0m\n",
      "\u001b[0;32m~/.local/lib/python3.7/site-packages/tqdm/notebook.py\u001b[0m in \u001b[0;36mstatus_printer\u001b[0;34m(_, total, desc, ncols)\u001b[0m\n\u001b[1;32m    114\u001b[0m         \u001b[0;32mif\u001b[0m \u001b[0mIProgress\u001b[0m \u001b[0;32mis\u001b[0m \u001b[0;32mNone\u001b[0m\u001b[0;34m:\u001b[0m  \u001b[0;31m# #187 #451 #558 #872\u001b[0m\u001b[0;34m\u001b[0m\u001b[0;34m\u001b[0m\u001b[0m\n\u001b[1;32m    115\u001b[0m             raise ImportError(\n\u001b[0;32m--> 116\u001b[0;31m                 \u001b[0;34m\"IProgress not found. Please update jupyter and ipywidgets.\"\u001b[0m\u001b[0;34m\u001b[0m\u001b[0;34m\u001b[0m\u001b[0m\n\u001b[0m\u001b[1;32m    117\u001b[0m                 \u001b[0;34m\" See https://ipywidgets.readthedocs.io/en/stable\"\u001b[0m\u001b[0;34m\u001b[0m\u001b[0;34m\u001b[0m\u001b[0m\n\u001b[1;32m    118\u001b[0m                 \"/user_install.html\")\n",
      "\u001b[0;31mImportError\u001b[0m: IProgress not found. Please update jupyter and ipywidgets. See https://ipywidgets.readthedocs.io/en/stable/user_install.html"
     ]
    }
   ],
   "source": [
    "def filter_short_examples(example):\n",
    "    example_length = len(tokenizer(\n",
    "        example[\"question\"],\n",
    "        example[\"context\"],\n",
    "    )['input_ids'])\n",
    "    return example_length < 384\n",
    "short_dataset = dataset.filter(filter_short_examples)"
   ]
  },
  {
   "cell_type": "code",
   "execution_count": null,
   "id": "54e9b970",
   "metadata": {},
   "outputs": [],
   "source": [
    "tokenizer = AutoTokenizer.from_pretrained(\n",
    "    \"distilbert-base-uncased-distilled-squad\", \n",
    "    cache_dir=squad_model_path, \n",
    "    local_files_only=True\n",
    ")"
   ]
  },
  {
   "cell_type": "code",
   "execution_count": null,
   "id": "3a1db680",
   "metadata": {},
   "outputs": [],
   "source": [
    "unique_tokens = []\n",
    "for i in tqdm(range(len(short_dataset))):\n",
    "    example = short_dataset[i]\n",
    "    tokenized = tokenizer(example[\"question\"], example[\"context\"], return_tensors='pt')\n",
    "    unique_tokens.append(torch.unique(tokenized['input_ids']))"
   ]
  },
  {
   "cell_type": "markdown",
   "id": "aea30029",
   "metadata": {},
   "source": [
    "## Model outputs"
   ]
  },
  {
   "cell_type": "code",
   "execution_count": 265,
   "id": "859e6bf0",
   "metadata": {},
   "outputs": [],
   "source": [
    "embeddings, outputs, losses = loadInferenceResults('inference_results/squad_val_bert.pkl')"
   ]
  },
  {
   "cell_type": "code",
   "execution_count": 266,
   "id": "9c918f34",
   "metadata": {},
   "outputs": [
    {
     "data": {
      "text/plain": [
       "'Who disliked the affiliate program?'"
      ]
     },
     "metadata": {},
     "output_type": "display_data"
    },
    {
     "data": {
      "text/plain": [
       "['passed',\n",
       " 'Several University of Chicago professors',\n",
       " 'Several University of Chicago professors']"
      ]
     },
     "metadata": {},
     "output_type": "display_data"
    },
    {
     "data": {
      "text/plain": [
       "15.388167"
      ]
     },
     "metadata": {},
     "output_type": "display_data"
    },
    {
     "name": "stdout",
     "output_type": "stream",
     "text": [
      "\n"
     ]
    },
    {
     "data": {
      "text/plain": [
       "'In which year were the North and South Courts opened?'"
      ]
     },
     "metadata": {},
     "output_type": "display_data"
    },
    {
     "data": {
      "text/plain": [
       "['Secretariat Wing', 'June 1862', 'June 1862']"
      ]
     },
     "metadata": {},
     "output_type": "display_data"
    },
    {
     "data": {
      "text/plain": [
       "14.664542"
      ]
     },
     "metadata": {},
     "output_type": "display_data"
    },
    {
     "name": "stdout",
     "output_type": "stream",
     "text": [
      "\n"
     ]
    },
    {
     "data": {
      "text/plain": [
       "\"Dutch architect Janjaap Ruijssenaars's performative architecture 3D-printed building is scheduled to be built when?\""
      ]
     },
     "metadata": {},
     "output_type": "display_data"
    },
    {
     "data": {
      "text/plain": [
       "['Working versions of 3D-printing building technology are already printing',\n",
       " '2014',\n",
       " '2014']"
      ]
     },
     "metadata": {},
     "output_type": "display_data"
    },
    {
     "data": {
      "text/plain": [
       "14.02876"
      ]
     },
     "metadata": {},
     "output_type": "display_data"
    },
    {
     "name": "stdout",
     "output_type": "stream",
     "text": [
      "\n"
     ]
    },
    {
     "data": {
      "text/plain": [
       "'Did Tesla graduate from the university?'"
      ]
     },
     "metadata": {},
     "output_type": "display_data"
    },
    {
     "data": {
      "text/plain": [
       "['no', 'not', 'He never graduated']"
      ]
     },
     "metadata": {},
     "output_type": "display_data"
    },
    {
     "data": {
      "text/plain": [
       "13.218931"
      ]
     },
     "metadata": {},
     "output_type": "display_data"
    },
    {
     "name": "stdout",
     "output_type": "stream",
     "text": [
      "\n"
     ]
    },
    {
     "data": {
      "text/plain": [
       "'What position does Jerricho Cotchery play?'"
      ]
     },
     "metadata": {},
     "output_type": "display_data"
    },
    {
     "data": {
      "text/plain": [
       "['receivers', 'receivers', 'receivers']"
      ]
     },
     "metadata": {},
     "output_type": "display_data"
    },
    {
     "data": {
      "text/plain": [
       "12.920362"
      ]
     },
     "metadata": {},
     "output_type": "display_data"
    },
    {
     "name": "stdout",
     "output_type": "stream",
     "text": [
      "\n"
     ]
    },
    {
     "data": {
      "text/plain": [
       "'What is attributed to the income inequality in the United States?'"
      ]
     },
     "metadata": {},
     "output_type": "display_data"
    },
    {
     "data": {
      "text/plain": [
       "['less willing to travel or relocate',\n",
       " 'women not taking jobs due to marriage or pregnancy',\n",
       " 'not taking jobs due to marriage or pregnancy']"
      ]
     },
     "metadata": {},
     "output_type": "display_data"
    },
    {
     "data": {
      "text/plain": [
       "12.913456"
      ]
     },
     "metadata": {},
     "output_type": "display_data"
    },
    {
     "name": "stdout",
     "output_type": "stream",
     "text": [
      "\n"
     ]
    },
    {
     "data": {
      "text/plain": [
       "'Who organized the Britain Can Make It exhibition?'"
      ]
     },
     "metadata": {},
     "output_type": "display_data"
    },
    {
     "data": {
      "text/plain": [
       "['Festival of Britain (1951)',\n",
       " 'Council of Industrial Design',\n",
       " 'the Council of Industrial Design']"
      ]
     },
     "metadata": {},
     "output_type": "display_data"
    },
    {
     "data": {
      "text/plain": [
       "12.896971"
      ]
     },
     "metadata": {},
     "output_type": "display_data"
    },
    {
     "name": "stdout",
     "output_type": "stream",
     "text": [
      "\n"
     ]
    },
    {
     "data": {
      "text/plain": [
       "'If polynomial time can be utilized within an NP-complete problem, what does the imply P is equal to?'"
      ]
     },
     "metadata": {},
     "output_type": "display_data"
    },
    {
     "data": {
      "text/plain": [
       "['NP', 'NP', 'NP']"
      ]
     },
     "metadata": {},
     "output_type": "display_data"
    },
    {
     "data": {
      "text/plain": [
       "12.88658"
      ]
     },
     "metadata": {},
     "output_type": "display_data"
    },
    {
     "name": "stdout",
     "output_type": "stream",
     "text": [
      "\n"
     ]
    },
    {
     "data": {
      "text/plain": [
       "'What is one way of digital civil disobedience that can have far reaching consequences?'"
      ]
     },
     "metadata": {},
     "output_type": "display_data"
    },
    {
     "data": {
      "text/plain": [
       "['sending an email', 'email', 'Supreme Court case', 'broadcasting']"
      ]
     },
     "metadata": {},
     "output_type": "display_data"
    },
    {
     "data": {
      "text/plain": [
       "12.751001"
      ]
     },
     "metadata": {},
     "output_type": "display_data"
    },
    {
     "name": "stdout",
     "output_type": "stream",
     "text": [
      "\n"
     ]
    },
    {
     "data": {
      "text/plain": [
       "'How has civil disobedience evolved in current times?'"
      ]
     },
     "metadata": {},
     "output_type": "display_data"
    },
    {
     "data": {
      "text/plain": [
       "['code-word describing the activities of muggers, arsonists, draft evaders',\n",
       " 'utterly debased',\n",
       " 'become utterly debased',\n",
       " 'become utterly debased',\n",
       " 'become utterly debased']"
      ]
     },
     "metadata": {},
     "output_type": "display_data"
    },
    {
     "data": {
      "text/plain": [
       "12.487267"
      ]
     },
     "metadata": {},
     "output_type": "display_data"
    },
    {
     "name": "stdout",
     "output_type": "stream",
     "text": [
      "\n"
     ]
    }
   ],
   "source": [
    "# Examples of high-loss questions\n",
    "loss_idx = losses.argsort().tolist()[::-1]\n",
    "for idx in loss_idx[0:10]:\n",
    "    example = short_dataset[idx]\n",
    "#     display(example['title'])\n",
    "#     display(example['context'])\n",
    "    display(example['question'])\n",
    "    display(example['answers']['text'])\n",
    "    display(losses[idx])\n",
    "    print()"
   ]
  },
  {
   "cell_type": "markdown",
   "id": "42d497a2",
   "metadata": {},
   "source": [
    "## Spotlights"
   ]
  },
  {
   "cell_type": "code",
   "execution_count": 269,
   "id": "ddf49275",
   "metadata": {},
   "outputs": [],
   "source": [
    "spotlights = {}\n",
    "for count in np.arange(1, 6):\n",
    "    spotlights[count] = loadSpotlightResults(f'spotlight_results/squad_val_bert_0.05_spherical_{count}.pkl')"
   ]
  },
  {
   "cell_type": "markdown",
   "id": "a4c71bbb",
   "metadata": {},
   "source": [
    "### Common tokens"
   ]
  },
  {
   "cell_type": "code",
   "execution_count": 271,
   "id": "2b13037d",
   "metadata": {},
   "outputs": [
    {
     "name": "stderr",
     "output_type": "stream",
     "text": [
      "100%|██████████| 10386/10386 [00:02<00:00, 3513.94it/s]\n"
     ]
    },
    {
     "name": "stdout",
     "output_type": "stream",
     "text": [
      "         packet 0.0048 0.0114 1.67\n",
      "     networking 0.0033 0.0088 1.67\n",
      "            pad 0.0041 0.0100 1.64\n",
      "        packets 0.0032 0.0082 1.62\n",
      "      switching 0.0047 0.0105 1.60\n",
      "  communication 0.0066 0.0127 1.52\n",
      "          ##bed 0.0181 0.0290 1.47\n",
      "       messages 0.0026 0.0062 1.47\n",
      "       ignition 0.0016 0.0047 1.46\n",
      "          ##lee 0.0032 0.0068 1.45\n",
      "        circuit 0.0039 0.0079 1.44\n",
      "      bandwidth 0.0013 0.0041 1.44\n",
      "        ##ience 0.0184 0.0285 1.43\n",
      "          ##ncy 0.0020 0.0051 1.43\n",
      "       paradigm 0.0007 0.0031 1.43\n",
      "           pure 0.0053 0.0097 1.42\n",
      "      protocols 0.0016 0.0044 1.42\n",
      "          alice 0.0025 0.0056 1.41\n",
      "      energetic 0.0013 0.0038 1.41\n",
      "         inputs 0.0026 0.0057 1.40\n"
     ]
    }
   ],
   "source": [
    "getCommonTokens(spotlights[1][0], 0.005, 20)"
   ]
  },
  {
   "cell_type": "code",
   "execution_count": 272,
   "id": "e8e07d1d",
   "metadata": {},
   "outputs": [
    {
     "name": "stderr",
     "output_type": "stream",
     "text": [
      "100%|██████████| 10386/10386 [00:02<00:00, 3546.26it/s]"
     ]
    },
    {
     "name": "stdout",
     "output_type": "stream",
     "text": [
      "          ##bed 0.0181 0.0300 1.52\n",
      "            why 0.0238 0.0380 1.49\n",
      "         ##ient 0.0086 0.0151 1.48\n",
      "        ##ience 0.0184 0.0295 1.48\n",
      "           know 0.0065 0.0113 1.41\n",
      "           ##so 0.0236 0.0351 1.40\n",
      "         arrest 0.0052 0.0093 1.40\n",
      "          ##lor 0.0292 0.0427 1.40\n",
      "     collective 0.0034 0.0065 1.38\n",
      "          ##las 0.0271 0.0390 1.37\n",
      "             ch 0.0285 0.0410 1.37\n",
      "         packet 0.0048 0.0085 1.37\n",
      "          ##lak 0.0089 0.0136 1.34\n",
      "       membrane 0.0097 0.0146 1.33\n",
      "           wage 0.0042 0.0073 1.33\n",
      "        happens 0.0040 0.0070 1.33\n",
      "          might 0.0167 0.0236 1.32\n",
      "     protesters 0.0015 0.0036 1.32\n",
      "           thor 0.0056 0.0090 1.32\n",
      "         guilty 0.0034 0.0060 1.32\n"
     ]
    },
    {
     "name": "stderr",
     "output_type": "stream",
     "text": [
      "\n"
     ]
    }
   ],
   "source": [
    "getCommonTokens(spotlights[2][0], 0.005, 20)"
   ]
  },
  {
   "cell_type": "code",
   "execution_count": 273,
   "id": "87dab2c0",
   "metadata": {},
   "outputs": [
    {
     "name": "stderr",
     "output_type": "stream",
     "text": [
      "100%|██████████| 10386/10386 [00:02<00:00, 3587.59it/s]"
     ]
    },
    {
     "name": "stdout",
     "output_type": "stream",
     "text": [
      "          ##bed 0.0181 0.0257 1.33\n",
      "         packet 0.0048 0.0080 1.32\n",
      "            why 0.0238 0.0327 1.31\n",
      "        ##ience 0.0184 0.0256 1.31\n",
      "         ##ient 0.0086 0.0123 1.28\n",
      "        packets 0.0032 0.0054 1.27\n",
      "           ##so 0.0236 0.0306 1.24\n",
      "     punishment 0.0066 0.0093 1.23\n",
      "           know 0.0065 0.0092 1.23\n",
      "          ##lor 0.0292 0.0365 1.21\n",
      "         arrest 0.0052 0.0074 1.21\n",
      "       messages 0.0026 0.0042 1.21\n",
      "             ch 0.0285 0.0354 1.21\n",
      "      switching 0.0047 0.0067 1.20\n",
      "        circuit 0.0039 0.0058 1.20\n",
      "     collective 0.0034 0.0050 1.20\n",
      "          ##las 0.0271 0.0332 1.19\n",
      "          wages 0.0072 0.0096 1.19\n",
      "         guilty 0.0034 0.0050 1.19\n",
      "     networking 0.0033 0.0048 1.19\n"
     ]
    },
    {
     "name": "stderr",
     "output_type": "stream",
     "text": [
      "\n"
     ]
    }
   ],
   "source": [
    "getCommonTokens(spotlights[3][0], 0.005, 20)"
   ]
  },
  {
   "cell_type": "code",
   "execution_count": 274,
   "id": "ebb22c89",
   "metadata": {},
   "outputs": [],
   "source": [
    "# getCommonTokens(spotlights[4][0], 0.005, 20)"
   ]
  },
  {
   "cell_type": "code",
   "execution_count": 275,
   "id": "af638df4",
   "metadata": {},
   "outputs": [],
   "source": [
    "# getCommonTokens(spotlights[5][0], 0.005, 20)"
   ]
  },
  {
   "cell_type": "code",
   "execution_count": 229,
   "id": "01a06460",
   "metadata": {},
   "outputs": [
    {
     "data": {
      "text/plain": [
       "7.583634710311874"
      ]
     },
     "execution_count": 229,
     "metadata": {},
     "output_type": "execute_result"
    }
   ],
   "source": [
    "np.quantile(losses, 0.98)"
   ]
  },
  {
   "cell_type": "code",
   "execution_count": 230,
   "id": "d91d50f6",
   "metadata": {},
   "outputs": [
    {
     "name": "stderr",
     "output_type": "stream",
     "text": [
      "100%|██████████| 10386/10386 [00:02<00:00, 4065.87it/s]\n"
     ]
    },
    {
     "name": "stdout",
     "output_type": "stream",
     "text": [
      "          sacks 0.0079 0.0529 4.49\n",
      "            ##½ 0.0065 0.0433 4.18\n",
      "        tackles 0.0065 0.0433 4.18\n",
      "       confused 0.0020 0.0240 4.14\n",
      "          ##bed 0.0181 0.0865 3.96\n",
      "        ##ience 0.0184 0.0865 3.91\n",
      "          yards 0.0161 0.0769 3.89\n",
      "       behavior 0.0052 0.0337 3.79\n",
      "     touchdowns 0.0065 0.0385 3.76\n",
      "     defendants 0.0014 0.0192 3.76\n",
      "     protesters 0.0015 0.0192 3.70\n",
      "     cornerback 0.0041 0.0288 3.70\n",
      "  interceptions 0.0081 0.0433 3.69\n",
      "         fumble 0.0094 0.0481 3.68\n",
      "         ##ling 0.0057 0.0337 3.62\n",
      "         ##ient 0.0086 0.0433 3.56\n",
      "      touchdown 0.0078 0.0385 3.40\n",
      "          judge 0.0050 0.0288 3.38\n",
      "         dallas 0.0037 0.0240 3.35\n",
      "      defensive 0.0065 0.0337 3.35\n"
     ]
    }
   ],
   "source": [
    "loss_weights = (losses > 7.58)\n",
    "loss_weights = loss_weights / loss_weights.sum()\n",
    "getCommonTokens(loss_weights, 0.005, 20)"
   ]
  },
  {
   "cell_type": "markdown",
   "id": "88aa76f0",
   "metadata": {},
   "source": [
    "### Topic distributions"
   ]
  },
  {
   "cell_type": "code",
   "execution_count": 276,
   "id": "e964bac9",
   "metadata": {},
   "outputs": [],
   "source": [
    "def getTopicDistribution(weights, smoothing=0.01):\n",
    "    topic_frequencies = defaultdict(float)\n",
    "    topic_frequencies_spotlight = defaultdict(float)\n",
    "\n",
    "    weights_uniform = np.full_like(weights, 1 / len(weights))\n",
    "\n",
    "    num_examples = len(weights)\n",
    "    for i in range(num_examples):\n",
    "        example = short_dataset[i]\n",
    "        category = example['title']\n",
    "        topic_frequencies[category] += weights_uniform[i]\n",
    "        topic_frequencies_spotlight[category] += weights[i]\n",
    "        \n",
    "    topic_ratios = {c: (smoothing + topic_frequencies_spotlight[c]) / (smoothing + topic_frequencies[c]) for c in topic_frequencies}\n",
    "\n",
    "    categories_sorted = map(lambda x: x[0], sorted(topic_ratios.items(), key=lambda x: x[1], reverse=True))\n",
    "    for category in categories_sorted:\n",
    "        print('%.3f %.3f %.2f %s' % (topic_frequencies[category], topic_frequencies_spotlight[category], topic_ratios[category], category))"
   ]
  },
  {
   "cell_type": "code",
   "execution_count": 277,
   "id": "a2fc68f5",
   "metadata": {},
   "outputs": [
    {
     "name": "stdout",
     "output_type": "stream",
     "text": [
      "0.010 0.023 2.36 Packet_switching\n",
      "0.019 0.031 1.61 Computational_complexity_theory\n",
      "0.025 0.040 1.60 Teacher\n",
      "0.019 0.030 1.57 Civil_disobedience\n",
      "0.010 0.015 1.47 Intergovernmental_Panel_on_Climate_Change\n",
      "0.017 0.023 1.40 French_and_Indian_War\n",
      "0.024 0.031 1.29 Oxygen\n",
      "0.021 0.026 1.25 Huguenot\n",
      "0.020 0.025 1.24 Force\n",
      "0.012 0.015 1.23 Pharmacy\n",
      "0.010 0.012 1.19 Normans\n",
      "0.012 0.014 1.18 Victoria_(Australia)\n",
      "0.049 0.057 1.16 Nikola_Tesla\n",
      "0.046 0.053 1.16 Martin_Luther\n",
      "0.022 0.025 1.12 Kenya\n",
      "0.030 0.033 1.10 Doctor_Who\n",
      "0.010 0.011 1.08 Black_Death\n",
      "0.028 0.031 1.08 Chloroplast\n",
      "0.009 0.010 1.07 Jacksonville,_Florida\n",
      "0.017 0.018 1.06 Southern_California\n",
      "0.015 0.016 1.06 Prime_number\n",
      "0.028 0.029 1.06 Economic_inequality\n",
      "0.023 0.024 1.02 Genghis_Khan\n",
      "0.011 0.011 1.01 Private_school\n",
      "0.018 0.018 1.00 Scottish_Parliament\n",
      "0.076 0.075 0.99 Super_Bowl_50\n",
      "0.023 0.023 0.97 Apollo_program\n",
      "0.018 0.016 0.92 Imperialism\n",
      "0.010 0.009 0.90 Sky_(United_Kingdom)\n",
      "0.021 0.019 0.87 Yuan_dynasty\n",
      "0.028 0.024 0.87 Rhine\n",
      "0.017 0.014 0.86 Ctenophora\n",
      "0.021 0.018 0.85 Steam_engine\n",
      "0.019 0.016 0.83 Islamism\n",
      "0.010 0.008 0.79 1973_oil_crisis\n",
      "0.018 0.013 0.75 Amazon_rainforest\n",
      "0.011 0.008 0.74 Geology\n",
      "0.009 0.007 0.71 Construction\n",
      "0.027 0.019 0.70 Victoria_and_Albert_Museum\n",
      "0.013 0.009 0.69 Fresno,_California\n",
      "0.011 0.007 0.69 Harvard_University\n",
      "0.024 0.016 0.68 Warsaw\n",
      "0.025 0.017 0.66 Newcastle_upon_Tyne\n",
      "0.018 0.011 0.63 United_Methodist_Church\n",
      "0.017 0.010 0.58 University_of_Chicago\n",
      "0.023 0.013 0.58 Immune_system\n",
      "0.039 0.020 0.50 American_Broadcasting_Company\n",
      "0.016 0.008 0.47 European_Union_law\n"
     ]
    }
   ],
   "source": [
    "getTopicDistribution(spotlights[1][0], smoothing=0)"
   ]
  },
  {
   "cell_type": "code",
   "execution_count": 278,
   "id": "fb5857d4",
   "metadata": {},
   "outputs": [
    {
     "name": "stdout",
     "output_type": "stream",
     "text": [
      "0.019 0.032 1.67 Civil_disobedience\n",
      "0.010 0.015 1.57 Packet_switching\n",
      "0.028 0.041 1.45 Chloroplast\n",
      "0.017 0.022 1.35 French_and_Indian_War\n",
      "0.015 0.020 1.34 Prime_number\n",
      "0.012 0.016 1.33 Pharmacy\n",
      "0.010 0.013 1.24 Black_Death\n",
      "0.017 0.020 1.23 Ctenophora\n",
      "0.023 0.027 1.18 Genghis_Khan\n",
      "0.020 0.023 1.17 Force\n",
      "0.024 0.027 1.15 Oxygen\n",
      "0.028 0.032 1.15 Economic_inequality\n",
      "0.019 0.022 1.14 Computational_complexity_theory\n",
      "0.046 0.052 1.13 Martin_Luther\n",
      "0.010 0.011 1.10 Intergovernmental_Panel_on_Climate_Change\n",
      "0.022 0.024 1.09 Kenya\n",
      "0.021 0.023 1.09 Yuan_dynasty\n",
      "0.021 0.022 1.07 Huguenot\n",
      "0.009 0.010 1.07 Jacksonville,_Florida\n",
      "0.018 0.019 1.07 Imperialism\n",
      "0.025 0.025 0.99 Teacher\n",
      "0.028 0.028 0.99 Rhine\n",
      "0.030 0.029 0.99 Doctor_Who\n",
      "0.018 0.018 0.97 Scottish_Parliament\n",
      "0.011 0.011 0.96 Geology\n",
      "0.010 0.010 0.94 Sky_(United_Kingdom)\n",
      "0.011 0.010 0.93 Private_school\n",
      "0.023 0.021 0.93 Immune_system\n",
      "0.049 0.046 0.93 Nikola_Tesla\n",
      "0.023 0.021 0.92 Apollo_program\n",
      "0.010 0.009 0.91 1973_oil_crisis\n",
      "0.010 0.009 0.90 Normans\n",
      "0.027 0.024 0.90 Victoria_and_Albert_Museum\n",
      "0.019 0.017 0.89 Islamism\n",
      "0.018 0.016 0.89 Amazon_rainforest\n",
      "0.021 0.018 0.86 Steam_engine\n",
      "0.012 0.010 0.85 Victoria_(Australia)\n",
      "0.011 0.009 0.82 Harvard_University\n",
      "0.016 0.013 0.81 European_Union_law\n",
      "0.076 0.060 0.79 Super_Bowl_50\n",
      "0.024 0.019 0.79 Warsaw\n",
      "0.025 0.020 0.77 Newcastle_upon_Tyne\n",
      "0.009 0.007 0.76 Construction\n",
      "0.039 0.030 0.75 American_Broadcasting_Company\n",
      "0.013 0.009 0.75 Fresno,_California\n",
      "0.018 0.013 0.74 United_Methodist_Church\n",
      "0.017 0.013 0.74 University_of_Chicago\n",
      "0.017 0.013 0.73 Southern_California\n"
     ]
    }
   ],
   "source": [
    "getTopicDistribution(spotlights[2][0], smoothing=0)"
   ]
  },
  {
   "cell_type": "code",
   "execution_count": 280,
   "id": "c446bafa",
   "metadata": {},
   "outputs": [
    {
     "name": "stdout",
     "output_type": "stream",
     "text": [
      "0.010 0.015 1.53 Packet_switching\n",
      "0.019 0.027 1.43 Civil_disobedience\n",
      "0.012 0.015 1.24 Pharmacy\n",
      "0.028 0.035 1.24 Chloroplast\n",
      "0.019 0.023 1.22 Computational_complexity_theory\n",
      "0.017 0.020 1.22 French_and_Indian_War\n",
      "0.025 0.030 1.19 Teacher\n",
      "0.020 0.023 1.14 Force\n",
      "0.015 0.017 1.14 Prime_number\n",
      "0.010 0.011 1.13 Intergovernmental_Panel_on_Climate_Change\n",
      "0.010 0.012 1.13 Black_Death\n",
      "0.046 0.051 1.11 Martin_Luther\n",
      "0.017 0.018 1.10 Ctenophora\n",
      "0.024 0.026 1.10 Oxygen\n",
      "0.028 0.030 1.09 Economic_inequality\n",
      "0.023 0.025 1.06 Genghis_Khan\n",
      "0.022 0.024 1.06 Kenya\n",
      "0.021 0.022 1.04 Huguenot\n",
      "0.009 0.010 1.03 Jacksonville,_Florida\n",
      "0.049 0.050 1.02 Nikola_Tesla\n",
      "0.021 0.022 1.01 Yuan_dynasty\n",
      "0.018 0.018 1.01 Imperialism\n",
      "0.030 0.030 1.00 Doctor_Who\n",
      "0.018 0.018 1.00 Scottish_Parliament\n",
      "0.010 0.010 0.99 Normans\n",
      "0.012 0.012 0.96 Victoria_(Australia)\n",
      "0.010 0.010 0.95 Sky_(United_Kingdom)\n",
      "0.017 0.016 0.94 Southern_California\n",
      "0.076 0.071 0.94 Super_Bowl_50\n",
      "0.011 0.010 0.94 Private_school\n",
      "0.028 0.026 0.93 Rhine\n",
      "0.023 0.022 0.93 Apollo_program\n",
      "0.011 0.010 0.93 Geology\n",
      "0.010 0.009 0.92 1973_oil_crisis\n",
      "0.018 0.016 0.90 Amazon_rainforest\n",
      "0.019 0.017 0.89 Islamism\n",
      "0.023 0.020 0.88 Immune_system\n",
      "0.021 0.018 0.87 Steam_engine\n",
      "0.027 0.023 0.86 Victoria_and_Albert_Museum\n",
      "0.016 0.014 0.86 European_Union_law\n",
      "0.009 0.008 0.85 Construction\n",
      "0.011 0.009 0.83 Harvard_University\n",
      "0.013 0.011 0.83 Fresno,_California\n",
      "0.024 0.019 0.81 Warsaw\n",
      "0.025 0.021 0.81 Newcastle_upon_Tyne\n",
      "0.018 0.014 0.80 United_Methodist_Church\n",
      "0.017 0.013 0.76 University_of_Chicago\n",
      "0.039 0.030 0.76 American_Broadcasting_Company\n"
     ]
    }
   ],
   "source": [
    "getTopicDistribution(spotlights[3][0], smoothing=0)"
   ]
  },
  {
   "cell_type": "code",
   "execution_count": 235,
   "id": "baa2a942",
   "metadata": {},
   "outputs": [
    {
     "name": "stdout",
     "output_type": "stream",
     "text": [
      "0.019 0.091 4.82 Civil_disobedience\n",
      "0.010 0.029 2.83 1973_oil_crisis\n",
      "0.019 0.053 2.79 Computational_complexity_theory\n",
      "0.076 0.168 2.21 Super_Bowl_50\n",
      "0.018 0.038 2.15 Imperialism\n",
      "0.012 0.024 2.01 Pharmacy\n",
      "0.024 0.043 1.82 Oxygen\n",
      "0.010 0.014 1.47 Packet_switching\n",
      "0.010 0.014 1.44 Intergovernmental_Panel_on_Climate_Change\n",
      "0.027 0.038 1.43 Victoria_and_Albert_Museum\n",
      "0.017 0.024 1.42 University_of_Chicago\n",
      "0.028 0.034 1.22 Economic_inequality\n",
      "0.046 0.053 1.16 Martin_Luther\n",
      "0.013 0.014 1.14 Fresno,_California\n",
      "0.028 0.029 1.03 Rhine\n",
      "0.028 0.029 1.02 Chloroplast\n",
      "0.015 0.014 0.98 Prime_number\n",
      "0.020 0.019 0.97 Force\n",
      "0.025 0.024 0.96 Teacher\n",
      "0.010 0.010 0.92 Normans\n",
      "0.021 0.019 0.90 Yuan_dynasty\n",
      "0.011 0.010 0.88 Private_school\n",
      "0.023 0.019 0.84 Immune_system\n",
      "0.049 0.038 0.78 Nikola_Tesla\n",
      "0.021 0.014 0.69 Huguenot\n",
      "0.017 0.010 0.58 French_and_Indian_War\n",
      "0.018 0.010 0.53 United_Methodist_Church\n",
      "0.009 0.005 0.52 Jacksonville,_Florida\n",
      "0.009 0.005 0.51 Construction\n",
      "0.030 0.014 0.48 Doctor_Who\n",
      "0.010 0.005 0.46 Black_Death\n",
      "0.011 0.005 0.45 Harvard_University\n",
      "0.023 0.010 0.42 Genghis_Khan\n",
      "0.023 0.010 0.41 Apollo_program\n",
      "0.024 0.010 0.40 Warsaw\n",
      "0.012 0.005 0.40 Victoria_(Australia)\n",
      "0.025 0.010 0.38 Newcastle_upon_Tyne\n",
      "0.016 0.005 0.29 European_Union_law\n",
      "0.017 0.005 0.29 Ctenophora\n",
      "0.017 0.005 0.28 Southern_California\n",
      "0.018 0.005 0.27 Amazon_rainforest\n",
      "0.018 0.005 0.26 Scottish_Parliament\n",
      "0.019 0.005 0.25 Islamism\n",
      "0.021 0.005 0.23 Steam_engine\n",
      "0.022 0.005 0.22 Kenya\n",
      "0.010 0.000 0.00 Sky_(United_Kingdom)\n",
      "0.011 0.000 0.00 Geology\n",
      "0.039 0.000 0.00 American_Broadcasting_Company\n"
     ]
    }
   ],
   "source": [
    "loss_weights = (losses > 7.58)\n",
    "loss_weights = loss_weights / loss_weights.sum()\n",
    "getTopicDistribution(loss_weights, 0)"
   ]
  },
  {
   "cell_type": "code",
   "execution_count": null,
   "id": "ac0fc8a3",
   "metadata": {},
   "outputs": [],
   "source": []
  }
 ],
 "metadata": {
  "kernelspec": {
   "display_name": "Python 3 (ipykernel)",
   "language": "python",
   "name": "python3"
  },
  "language_info": {
   "codemirror_mode": {
    "name": "ipython",
    "version": 3
   },
   "file_extension": ".py",
   "mimetype": "text/x-python",
   "name": "python",
   "nbconvert_exporter": "python",
   "pygments_lexer": "ipython3",
   "version": "3.7.5"
  }
 },
 "nbformat": 4,
 "nbformat_minor": 5
}
