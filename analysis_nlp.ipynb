{
 "cells": [
  {
   "cell_type": "code",
   "execution_count": 1,
   "id": "dd8a6e21",
   "metadata": {},
   "outputs": [],
   "source": [
    "%load_ext autoreload\n",
    "%autoreload 2"
   ]
  },
  {
   "cell_type": "code",
   "execution_count": 2,
   "id": "f46713d0",
   "metadata": {},
   "outputs": [
    {
     "name": "stderr",
     "output_type": "stream",
     "text": [
      "Matplotlib created a temporary config/cache directory at /tmp/pbs.2925400.pbsha.ib.sockeye/matplotlib-dijnb8mr because the default path (/home/gregdeon/.config/matplotlib) is not a writable directory; it is highly recommended to set the MPLCONFIGDIR environment variable to a writable directory, in particular to speed up the import of Matplotlib and to better support multiprocessing.\n"
     ]
    }
   ],
   "source": [
    "import torch\n",
    "from datasets import load_from_disk\n",
    "from transformers import AutoTokenizer\n",
    "\n",
    "import os\n",
    "import itertools\n",
    "import json\n",
    "import numpy as np\n",
    "from tqdm import tqdm\n",
    "from collections import defaultdict\n",
    "import matplotlib.pyplot as plt"
   ]
  },
  {
   "cell_type": "code",
   "execution_count": 3,
   "id": "ed295b75",
   "metadata": {},
   "outputs": [],
   "source": [
    "# work around insane huggingface requirements\n",
    "from datasets.utils.logging import set_verbosity_error\n",
    "set_verbosity_error()"
   ]
  },
  {
   "cell_type": "code",
   "execution_count": 5,
   "id": "0b4112e8",
   "metadata": {},
   "outputs": [],
   "source": [
    "# from spotlight.datasets import *\n",
    "from torch_spotlight.utils import *\n",
    "from torch_spotlight.plot_utils import *\n",
    "\n",
    "setupPlots()"
   ]
  },
  {
   "cell_type": "code",
   "execution_count": 9,
   "id": "b0e18eba-d850-4819-a6aa-c80ad750fe9c",
   "metadata": {},
   "outputs": [],
   "source": [
    "os.environ['DATA_DIR'] = '/arc/project/st-kevinlb-1/gregdeon/spotlight/datasets'\n",
    "os.environ['MODEL_DIR'] = '/arc/project/st-kevinlb-1/gregdeon/spotlight/models'"
   ]
  },
  {
   "cell_type": "code",
   "execution_count": null,
   "id": "582e92cc-efaa-462e-badb-6a4cdb16b471",
   "metadata": {},
   "outputs": [],
   "source": [
    "model_dir = '/arc/project/st-kevinlb-1/gregdeon/spotlight/models'\n",
    "amazon_model_path = os.path.join(model_dir, 'amazon')"
   ]
  },
  {
   "cell_type": "code",
   "execution_count": 11,
   "id": "8483d262",
   "metadata": {},
   "outputs": [],
   "source": [
    "data_dir = os.environ['DATA_DIR'] \n",
    "model_dir = os.environ['MODEL_DIR'] \n",
    "amazon_dir = os.path.join(data_dir, 'amazon')\n",
    "amazon_model_path = os.path.join(model_dir, 'amazon')\n",
    "squad_dir = os.path.join(data_dir, 'squad')\n",
    "squad_model_path = os.path.join(model_dir, 'squad')"
   ]
  },
  {
   "cell_type": "markdown",
   "id": "c0b8e9ec",
   "metadata": {},
   "source": [
    "# Amazon reviews"
   ]
  },
  {
   "cell_type": "markdown",
   "id": "99236a5d",
   "metadata": {},
   "source": [
    "## Dataset + tokenizer"
   ]
  },
  {
   "cell_type": "code",
   "execution_count": 12,
   "id": "0ffc3874",
   "metadata": {},
   "outputs": [],
   "source": [
    "dataset = load_from_disk(amazon_dir)['test']"
   ]
  },
  {
   "cell_type": "code",
   "execution_count": 13,
   "id": "f34655f9-290b-4b45-a3d1-76bcdbe5c4df",
   "metadata": {},
   "outputs": [
    {
     "data": {
      "text/plain": [
       "{'content': \"Despite the fact that I have only played a small portion of the game, the music I heard (plus the connection to Chrono Trigger which was great as well) led me to purchase the soundtrack, and it remains one of my favorite albums. There is an incredible mix of fun, epic, and emotional songs. Those sad and beautiful tracks I especially like, as there's not too many of those kinds of songs in my other video game soundtracks. I must admit that one of the songs (Life-A Distant Promise) has brought tears to my eyes on many occasions.My one complaint about this soundtrack is that they use guitar fretting effects in many of the songs, which I find distracting. But even if those weren't included I would still consider the collection worth it.\",\n",
       " 'label': 1,\n",
       " 'title': \"One of the best game music soundtracks - for a game I didn't really play\"}"
      ]
     },
     "execution_count": 13,
     "metadata": {},
     "output_type": "execute_result"
    }
   ],
   "source": [
    "dataset[1]"
   ]
  },
  {
   "cell_type": "code",
   "execution_count": 14,
   "id": "c775bd01",
   "metadata": {},
   "outputs": [],
   "source": [
    "num_examples = 20000\n",
    "amazon_labels = [dataset[i]['label'] for i in range(num_examples)]"
   ]
  },
  {
   "cell_type": "code",
   "execution_count": 15,
   "id": "9c74f6ed",
   "metadata": {},
   "outputs": [],
   "source": [
    "tokenizer = AutoTokenizer.from_pretrained(\n",
    "    \"distilbert-base-uncased-finetuned-sst-2-english\", \n",
    "    cache_dir=amazon_model_path, \n",
    "    do_lower_case=True, \n",
    "    do_basic_tokenize=True,\n",
    "    local_files_only=True\n",
    ")"
   ]
  },
  {
   "cell_type": "code",
   "execution_count": 11,
   "id": "eb5f47ab",
   "metadata": {},
   "outputs": [
    {
     "name": "stderr",
     "output_type": "stream",
     "text": [
      "100%|██████████| 20000/20000 [00:09<00:00, 2015.61it/s]\n"
     ]
    }
   ],
   "source": [
    "unique_tokens = []\n",
    "for i in tqdm(range(num_examples)):\n",
    "    tokenized = tokenizer(dataset[i]['content'], padding=True, return_tensors='pt')\n",
    "    unique_tokens.append(torch.unique(tokenized['input_ids']))"
   ]
  },
  {
   "cell_type": "markdown",
   "id": "b4394114",
   "metadata": {},
   "source": [
    "## Model outputs"
   ]
  },
  {
   "cell_type": "code",
   "execution_count": 13,
   "id": "25a9d640",
   "metadata": {},
   "outputs": [],
   "source": [
    "embeddings, outputs, losses = loadInferenceResults('inference_results/amazon_train_sst_20k.pkl')"
   ]
  },
  {
   "cell_type": "code",
   "execution_count": 14,
   "id": "546978c3",
   "metadata": {},
   "outputs": [
    {
     "data": {
      "text/plain": [
       "\"This production is so awesome we can't stop watching it over and over. It is one of the finest vocal performances I have ever seen.\""
      ]
     },
     "metadata": {},
     "output_type": "display_data"
    },
    {
     "data": {
      "text/plain": [
       "0"
      ]
     },
     "metadata": {},
     "output_type": "display_data"
    },
    {
     "data": {
      "text/plain": [
       "9.071007"
      ]
     },
     "metadata": {},
     "output_type": "display_data"
    },
    {
     "name": "stdout",
     "output_type": "stream",
     "text": [
      "\n"
     ]
    },
    {
     "data": {
      "text/plain": [
       "'Very nice peridot necklace. I bought the 3-piece set for a birthday gift, and I was proud to give it as a gift.'"
      ]
     },
     "metadata": {},
     "output_type": "display_data"
    },
    {
     "data": {
      "text/plain": [
       "0"
      ]
     },
     "metadata": {},
     "output_type": "display_data"
    },
    {
     "data": {
      "text/plain": [
       "8.975364"
      ]
     },
     "metadata": {},
     "output_type": "display_data"
    },
    {
     "name": "stdout",
     "output_type": "stream",
     "text": [
      "\n"
     ]
    },
    {
     "data": {
      "text/plain": [
       "'love the movie. made me cry. I was expecting the original movie but it still is a wonderful story to watch'"
      ]
     },
     "metadata": {},
     "output_type": "display_data"
    },
    {
     "data": {
      "text/plain": [
       "0"
      ]
     },
     "metadata": {},
     "output_type": "display_data"
    },
    {
     "data": {
      "text/plain": [
       "8.92529"
      ]
     },
     "metadata": {},
     "output_type": "display_data"
    },
    {
     "name": "stdout",
     "output_type": "stream",
     "text": [
      "\n"
     ]
    },
    {
     "data": {
      "text/plain": [
       "'This was my first encounter with the magical realism style and I love it! The Buendia family is quite possibly the most intriguing I have encountered in any book. A must read.'"
      ]
     },
     "metadata": {},
     "output_type": "display_data"
    },
    {
     "data": {
      "text/plain": [
       "0"
      ]
     },
     "metadata": {},
     "output_type": "display_data"
    },
    {
     "data": {
      "text/plain": [
       "8.909518"
      ]
     },
     "metadata": {},
     "output_type": "display_data"
    },
    {
     "name": "stdout",
     "output_type": "stream",
     "text": [
      "\n"
     ]
    },
    {
     "data": {
      "text/plain": [
       "'This one gift I could give my grown daughter. I read this book over and over to her as a child. It was in wonderful condition!'"
      ]
     },
     "metadata": {},
     "output_type": "display_data"
    },
    {
     "data": {
      "text/plain": [
       "0"
      ]
     },
     "metadata": {},
     "output_type": "display_data"
    },
    {
     "data": {
      "text/plain": [
       "8.891371"
      ]
     },
     "metadata": {},
     "output_type": "display_data"
    },
    {
     "name": "stdout",
     "output_type": "stream",
     "text": [
      "\n"
     ]
    },
    {
     "data": {
      "text/plain": [
       "\"I watched the movie on Cartoon Network about two years ago. It's an excellent movie, I tell you. It's facinating!!! ^_^I loved the characters and their personalities. I seriously loved the art designs animation. It brings out the true life of the movie. In my opinion, this DVD is great! You should get this DVD and soon. It ROCKS! ^_^!\""
      ]
     },
     "metadata": {},
     "output_type": "display_data"
    },
    {
     "data": {
      "text/plain": [
       "0"
      ]
     },
     "metadata": {},
     "output_type": "display_data"
    },
    {
     "data": {
      "text/plain": [
       "8.877153"
      ]
     },
     "metadata": {},
     "output_type": "display_data"
    },
    {
     "name": "stdout",
     "output_type": "stream",
     "text": [
      "\n"
     ]
    },
    {
     "data": {
      "text/plain": [
       "'Like it. Love it. Live in Paris will always be in my top 5. She is a star with this incredible band. Some of her originals are too melancholy for me, but she is truly unique in her talents. Who else can compose, sing and play jazz piano like that? Who was the girl?'"
      ]
     },
     "metadata": {},
     "output_type": "display_data"
    },
    {
     "data": {
      "text/plain": [
       "0"
      ]
     },
     "metadata": {},
     "output_type": "display_data"
    },
    {
     "data": {
      "text/plain": [
       "8.789619"
      ]
     },
     "metadata": {},
     "output_type": "display_data"
    },
    {
     "name": "stdout",
     "output_type": "stream",
     "text": [
      "\n"
     ]
    },
    {
     "data": {
      "text/plain": [
       "'This is Hawaiian music done very well. Darnall is a master arranger and player of string instruments. Most songs could be background music. However! Over the Rainbow is pure genius. Unforgettable. I would use the word, haunting. I think Judy Garland would approve.'"
      ]
     },
     "metadata": {},
     "output_type": "display_data"
    },
    {
     "data": {
      "text/plain": [
       "0"
      ]
     },
     "metadata": {},
     "output_type": "display_data"
    },
    {
     "data": {
      "text/plain": [
       "8.738428"
      ]
     },
     "metadata": {},
     "output_type": "display_data"
    },
    {
     "name": "stdout",
     "output_type": "stream",
     "text": [
      "\n"
     ]
    },
    {
     "data": {
      "text/plain": [
       "'Jerry Garcia was a stone cold genius. The Grateful Dead was his backup band. Bob Weir\\'s solo work is easily as good as the solo work of Bill Wyman, Keith Moon, Dave Davies, and Clarence Clemmons. From a 40 year career this is the \"best\" they could come up with?'"
      ]
     },
     "metadata": {},
     "output_type": "display_data"
    },
    {
     "data": {
      "text/plain": [
       "0"
      ]
     },
     "metadata": {},
     "output_type": "display_data"
    },
    {
     "data": {
      "text/plain": [
       "8.728806"
      ]
     },
     "metadata": {},
     "output_type": "display_data"
    },
    {
     "name": "stdout",
     "output_type": "stream",
     "text": [
      "\n"
     ]
    },
    {
     "data": {
      "text/plain": [
       "'The background music is not clear and the CD was a waste of money. One star is too high.'"
      ]
     },
     "metadata": {},
     "output_type": "display_data"
    },
    {
     "data": {
      "text/plain": [
       "1"
      ]
     },
     "metadata": {},
     "output_type": "display_data"
    },
    {
     "data": {
      "text/plain": [
       "8.652259"
      ]
     },
     "metadata": {},
     "output_type": "display_data"
    },
    {
     "name": "stdout",
     "output_type": "stream",
     "text": [
      "\n"
     ]
    }
   ],
   "source": [
    "loss_idx = losses.argsort().tolist()[::-1]\n",
    "for idx in loss_idx[:10]:\n",
    "    example = dataset[idx]\n",
    "    display(example['content'])\n",
    "    display(example['label'])\n",
    "    display(losses[idx])\n",
    "    print()"
   ]
  },
  {
   "cell_type": "markdown",
   "id": "5827d066",
   "metadata": {},
   "source": [
    "## Spotlights"
   ]
  },
  {
   "cell_type": "code",
   "execution_count": 15,
   "id": "a4c42de7",
   "metadata": {},
   "outputs": [],
   "source": [
    "spotlights = {}\n",
    "for count in np.arange(1, 6):\n",
    "    spotlights[count] = loadSpotlightResults(f'spotlight_results/amazon_train_sst_20k_0.05_{count}.pkl')"
   ]
  },
  {
   "cell_type": "code",
   "execution_count": 24,
   "id": "b1ea6a73",
   "metadata": {},
   "outputs": [
    {
     "data": {
      "text/plain": [
       "5253"
      ]
     },
     "metadata": {},
     "output_type": "display_data"
    },
    {
     "data": {
      "text/plain": [
       "'I gave one star because i could not play game.Im glad i only paid $6.95.Thair is a way to get the game to play on windows 7,you have to set you boot advanced options to 1 core every time you want to play game.'"
      ]
     },
     "metadata": {},
     "output_type": "display_data"
    },
    {
     "data": {
      "text/plain": [
       "0"
      ]
     },
     "metadata": {},
     "output_type": "display_data"
    },
    {
     "data": {
      "text/plain": [
       "0.0050201556"
      ]
     },
     "metadata": {},
     "output_type": "display_data"
    },
    {
     "data": {
      "text/plain": [
       "0.0050075655"
      ]
     },
     "metadata": {},
     "output_type": "display_data"
    },
    {
     "name": "stdout",
     "output_type": "stream",
     "text": [
      "\n"
     ]
    },
    {
     "data": {
      "text/plain": [
       "5171"
      ]
     },
     "metadata": {},
     "output_type": "display_data"
    },
    {
     "data": {
      "text/plain": [
       "\"I run my own insurance business and was always inundated by a sea of paperwork. This little scanner fits into my BJC-85 printer and serves double duty - I can scan and then print with the same machine. Genius! I would have liked the ability to scan documents into a pdf format, but you can't have everything. This little scanner is the main reason I will not upgrade my BJC-85, as it is not compatible with later models.\""
      ]
     },
     "metadata": {},
     "output_type": "display_data"
    },
    {
     "data": {
      "text/plain": [
       "1"
      ]
     },
     "metadata": {},
     "output_type": "display_data"
    },
    {
     "data": {
      "text/plain": [
       "5.110242"
      ]
     },
     "metadata": {},
     "output_type": "display_data"
    },
    {
     "data": {
      "text/plain": [
       "0.006034624"
      ]
     },
     "metadata": {},
     "output_type": "display_data"
    },
    {
     "name": "stdout",
     "output_type": "stream",
     "text": [
      "\n"
     ]
    },
    {
     "data": {
      "text/plain": [
       "7564"
      ]
     },
     "metadata": {},
     "output_type": "display_data"
    },
    {
     "data": {
      "text/plain": [
       "\"I futzed with this for about a week. Had d-link tech support's number programmed into my phone (power down the router, press the reset key, replug everything, yada yada yada). I bought this router and the PCI wireless card for my desktop because of the excellent reviews I read on this item at CNET and PC Magazine. The PCI card froze my desktop EVERY time I turned the network on and the router would not connect to my laptop even when the units were a few feet apart. Exchanged for Linksys and have had not one call to tech support. I suppose this will work for a lot of people, but for me this operated as a 1 star product. Do buy from a place you can easily return (like Amazon!) because if your experience is like mine, you will get fed up talking with the tech support people and try something else!\""
      ]
     },
     "metadata": {},
     "output_type": "display_data"
    },
    {
     "data": {
      "text/plain": [
       "0"
      ]
     },
     "metadata": {},
     "output_type": "display_data"
    },
    {
     "data": {
      "text/plain": [
       "0.0053183027"
      ]
     },
     "metadata": {},
     "output_type": "display_data"
    },
    {
     "data": {
      "text/plain": [
       "0.005304181"
      ]
     },
     "metadata": {},
     "output_type": "display_data"
    },
    {
     "name": "stdout",
     "output_type": "stream",
     "text": [
      "\n"
     ]
    },
    {
     "data": {
      "text/plain": [
       "3504"
      ]
     },
     "metadata": {},
     "output_type": "display_data"
    },
    {
     "data": {
      "text/plain": [
       "'This player is great for DVDs, unfortunately I bought the player for its 5 disc cdr/mp3 playability. The player makes 2 second jumps on every song of every cdr I own. I took it in to get fixed. When I got it back, I plugged it in and still does the same thing.'"
      ]
     },
     "metadata": {},
     "output_type": "display_data"
    },
    {
     "data": {
      "text/plain": [
       "0"
      ]
     },
     "metadata": {},
     "output_type": "display_data"
    },
    {
     "data": {
      "text/plain": [
       "0.008454129"
      ]
     },
     "metadata": {},
     "output_type": "display_data"
    },
    {
     "data": {
      "text/plain": [
       "0.0084185405"
      ]
     },
     "metadata": {},
     "output_type": "display_data"
    },
    {
     "name": "stdout",
     "output_type": "stream",
     "text": [
      "\n"
     ]
    },
    {
     "data": {
      "text/plain": [
       "8227"
      ]
     },
     "metadata": {},
     "output_type": "display_data"
    },
    {
     "data": {
      "text/plain": [
       "\"The previous reviews are all correct. Inexpensive, silent and easy to load watches. However, I have had this unit overwind two watches. These are $200 Japan automatic movements so I wasn't very happy. Might be better on a swiss movement, but why would you want to risk a more expensive watch on this winder.\""
      ]
     },
     "metadata": {},
     "output_type": "display_data"
    },
    {
     "data": {
      "text/plain": [
       "0"
      ]
     },
     "metadata": {},
     "output_type": "display_data"
    },
    {
     "data": {
      "text/plain": [
       "0.0055729738"
      ]
     },
     "metadata": {},
     "output_type": "display_data"
    },
    {
     "data": {
      "text/plain": [
       "0.005557475"
      ]
     },
     "metadata": {},
     "output_type": "display_data"
    },
    {
     "name": "stdout",
     "output_type": "stream",
     "text": [
      "\n"
     ]
    },
    {
     "data": {
      "text/plain": [
       "9872"
      ]
     },
     "metadata": {},
     "output_type": "display_data"
    },
    {
     "data": {
      "text/plain": [
       "'I purchased this item last year. The first one wasn\\'t even completely assembled. The water leaked out all over the counter and floor. My husband took it apart and the hoses weren\\'t attached. It made ice once and I returned my new unit to Sunpentown for another. That one worked for several months without a problem. Then the \"needs water\" light kept coming on and it would not make ice. I did just read on another site review that if you tip it backwards, sometimes that will help. They should enclose that info in the instructions. I finally gave it away on freecycle. I love the concept of this appliance, but would like to find one that worked without have to do rocket surgery.'"
      ]
     },
     "metadata": {},
     "output_type": "display_data"
    },
    {
     "data": {
      "text/plain": [
       "0"
      ]
     },
     "metadata": {},
     "output_type": "display_data"
    },
    {
     "data": {
      "text/plain": [
       "0.004948867"
      ]
     },
     "metadata": {},
     "output_type": "display_data"
    },
    {
     "data": {
      "text/plain": [
       "0.004936638"
      ]
     },
     "metadata": {},
     "output_type": "display_data"
    },
    {
     "name": "stdout",
     "output_type": "stream",
     "text": [
      "\n"
     ]
    },
    {
     "data": {
      "text/plain": [
       "13181"
      ]
     },
     "metadata": {},
     "output_type": "display_data"
    },
    {
     "data": {
      "text/plain": [
       "\"I noticed this a while after I purchased the player and I attributed it to the CD, not the player. You know, being a Tivoli this should be Great! However now it's been two years an I barely use it because of that and using USB memory music. http://www.amazon.com/gp/product/B000083GPS/ref=cm_cr_rev_prod_title\""
      ]
     },
     "metadata": {},
     "output_type": "display_data"
    },
    {
     "data": {
      "text/plain": [
       "0"
      ]
     },
     "metadata": {},
     "output_type": "display_data"
    },
    {
     "data": {
      "text/plain": [
       "0.0085005835"
      ]
     },
     "metadata": {},
     "output_type": "display_data"
    },
    {
     "data": {
      "text/plain": [
       "0.008464535"
      ]
     },
     "metadata": {},
     "output_type": "display_data"
    },
    {
     "name": "stdout",
     "output_type": "stream",
     "text": [
      "\n"
     ]
    },
    {
     "data": {
      "text/plain": [
       "19032"
      ]
     },
     "metadata": {},
     "output_type": "display_data"
    },
    {
     "data": {
      "text/plain": [
       "\"I have always wanted a DVD of this Nutcracker ballet company. But when reading the specs they said it won't play on recordable DVD's or PC's. I have a home theater system plus another DVD recorder/player so I don't want to take a chance it could be ruined or I wouldn't be able to play. Bummer!!!\""
      ]
     },
     "metadata": {},
     "output_type": "display_data"
    },
    {
     "data": {
      "text/plain": [
       "0"
      ]
     },
     "metadata": {},
     "output_type": "display_data"
    },
    {
     "data": {
      "text/plain": [
       "0.005839313"
      ]
     },
     "metadata": {},
     "output_type": "display_data"
    },
    {
     "data": {
      "text/plain": [
       "0.0058222776"
      ]
     },
     "metadata": {},
     "output_type": "display_data"
    },
    {
     "name": "stdout",
     "output_type": "stream",
     "text": [
      "\n"
     ]
    },
    {
     "data": {
      "text/plain": [
       "14227"
      ]
     },
     "metadata": {},
     "output_type": "display_data"
    },
    {
     "data": {
      "text/plain": [
       "\"As a student chemical engineer I found the book somewhat helpful, but not really. My teacher taught the same material but in a different way and his way seemed much simpler than the books. I returned the book at the end of the semester because none of my classes 'needed' the book. Surprise! I now need the book and amazon apparently takes 1 to 3 months to ship this book...aka I'll get the book at the end of the semester.\""
      ]
     },
     "metadata": {},
     "output_type": "display_data"
    },
    {
     "data": {
      "text/plain": [
       "0"
      ]
     },
     "metadata": {},
     "output_type": "display_data"
    },
    {
     "data": {
      "text/plain": [
       "0.005284152"
      ]
     },
     "metadata": {},
     "output_type": "display_data"
    },
    {
     "data": {
      "text/plain": [
       "0.005270215"
      ]
     },
     "metadata": {},
     "output_type": "display_data"
    },
    {
     "name": "stdout",
     "output_type": "stream",
     "text": [
      "\n"
     ]
    },
    {
     "data": {
      "text/plain": [
       "9671"
      ]
     },
     "metadata": {},
     "output_type": "display_data"
    },
    {
     "data": {
      "text/plain": [
       "\"Works fine but don't buy this if you buy the seven-speed mixer. It's already included with the mixer and you only need one!\""
      ]
     },
     "metadata": {},
     "output_type": "display_data"
    },
    {
     "data": {
      "text/plain": [
       "0"
      ]
     },
     "metadata": {},
     "output_type": "display_data"
    },
    {
     "data": {
      "text/plain": [
       "0.00637853"
      ]
     },
     "metadata": {},
     "output_type": "display_data"
    },
    {
     "data": {
      "text/plain": [
       "0.006358221"
      ]
     },
     "metadata": {},
     "output_type": "display_data"
    },
    {
     "name": "stdout",
     "output_type": "stream",
     "text": [
      "\n"
     ]
    },
    {
     "data": {
      "text/plain": [
       "3496"
      ]
     },
     "metadata": {},
     "output_type": "display_data"
    },
    {
     "data": {
      "text/plain": [
       "'I bought the nailer over a year ago and use it every few weeks when I get some finish work. It is light weight and it is easy to clear jams. One day it would not fire. I took it to be rebuilt and had an estimate of $100. The guy called and told me it needs a new firing mechanism and it would cost $189. So I am ordering the Hitachi today.'"
      ]
     },
     "metadata": {},
     "output_type": "display_data"
    },
    {
     "data": {
      "text/plain": [
       "0"
      ]
     },
     "metadata": {},
     "output_type": "display_data"
    },
    {
     "data": {
      "text/plain": [
       "0.0067539504"
      ]
     },
     "metadata": {},
     "output_type": "display_data"
    },
    {
     "data": {
      "text/plain": [
       "0.006731216"
      ]
     },
     "metadata": {},
     "output_type": "display_data"
    },
    {
     "name": "stdout",
     "output_type": "stream",
     "text": [
      "\n"
     ]
    },
    {
     "data": {
      "text/plain": [
       "11586"
      ]
     },
     "metadata": {},
     "output_type": "display_data"
    },
    {
     "data": {
      "text/plain": [
       "'The Rio 800 has had some poor press, but the problem is not the player but the documentation accompanying it. The battery seems to be a major problem until you figure out that it must be calibrated several times until the screen says, \"the battery is calibrated\" and not that there are 0 minutes left to charge. By the third time, I finally got 10hrs. playing time. The sounds tends to be a little \"tinny\" but that is a headphone problem and the sound can be adjusted on the device. I\\'m not a \"tech\" type, but you just need to play with this for a while to learn what it will do. Then, you\\'ll be more than happy for the price.'"
      ]
     },
     "metadata": {},
     "output_type": "display_data"
    },
    {
     "data": {
      "text/plain": [
       "1"
      ]
     },
     "metadata": {},
     "output_type": "display_data"
    },
    {
     "data": {
      "text/plain": [
       "5.5415316"
      ]
     },
     "metadata": {},
     "output_type": "display_data"
    },
    {
     "data": {
      "text/plain": [
       "0.0039205174"
      ]
     },
     "metadata": {},
     "output_type": "display_data"
    },
    {
     "name": "stdout",
     "output_type": "stream",
     "text": [
      "\n"
     ]
    },
    {
     "data": {
      "text/plain": [
       "2364"
      ]
     },
     "metadata": {},
     "output_type": "display_data"
    },
    {
     "data": {
      "text/plain": [
       "\"The HDMI cable works OK with our plasma (someone was asking if was only for LCD before) but if you are using it with your XBOX 360 and you have a headset (Turtle Beach-type, not the regular ones) you'll also need the adaptor for audio OUT. I should have checked before, because the adaptor by itself is more expensive than cable and adaptor together, at least here in Amazon. Otherwise, no problem. Recommended, especially for the price.\""
      ]
     },
     "metadata": {},
     "output_type": "display_data"
    },
    {
     "data": {
      "text/plain": [
       "1"
      ]
     },
     "metadata": {},
     "output_type": "display_data"
    },
    {
     "data": {
      "text/plain": [
       "5.5492454"
      ]
     },
     "metadata": {},
     "output_type": "display_data"
    },
    {
     "data": {
      "text/plain": [
       "0.0038903928"
      ]
     },
     "metadata": {},
     "output_type": "display_data"
    },
    {
     "name": "stdout",
     "output_type": "stream",
     "text": [
      "\n"
     ]
    },
    {
     "data": {
      "text/plain": [
       "7263"
      ]
     },
     "metadata": {},
     "output_type": "display_data"
    },
    {
     "data": {
      "text/plain": [
       "\"I bought this book because I am working on a software project that involves Exchange 2000. However, the book's author does not use proper terminology. For example, they talk about SAM replication times but Exchange 2000 uses Active Directory. They talk about site connectors but Exchange 2000 uses Routing Group Connectors. I know this product is still in Beta, but RC2 is feature complete. This book could have been better. Only buy this if you absolutely need to implement Exchange 2000 ASAP. If you read Microsoft's documentation first, you can weed through this book for more details.\""
      ]
     },
     "metadata": {},
     "output_type": "display_data"
    },
    {
     "data": {
      "text/plain": [
       "0"
      ]
     },
     "metadata": {},
     "output_type": "display_data"
    },
    {
     "data": {
      "text/plain": [
       "0.004425731"
      ]
     },
     "metadata": {},
     "output_type": "display_data"
    },
    {
     "data": {
      "text/plain": [
       "0.004415952"
      ]
     },
     "metadata": {},
     "output_type": "display_data"
    },
    {
     "name": "stdout",
     "output_type": "stream",
     "text": [
      "\n"
     ]
    },
    {
     "data": {
      "text/plain": [
       "1237"
      ]
     },
     "metadata": {},
     "output_type": "display_data"
    },
    {
     "data": {
      "text/plain": [
       "\"I was looking for a coffee machine with a thermal caraffe. At first, the cofee was great. Then a couple of weeks later, coffee started to pour directly out of the machine onto the floor! I thought maybe I had a bad machine, so I took it back to the store and exchanged it for a new one. A month later, same problem! The coffee pours around the caraffe, not into it. I burned myself trying to clean it up, and it stained my nice kitchen floors. I'm taking it back for a different brand coffee maker, I won't be fooled three times!\""
      ]
     },
     "metadata": {},
     "output_type": "display_data"
    },
    {
     "data": {
      "text/plain": [
       "0"
      ]
     },
     "metadata": {},
     "output_type": "display_data"
    },
    {
     "data": {
      "text/plain": [
       "0.00485622"
      ]
     },
     "metadata": {},
     "output_type": "display_data"
    },
    {
     "data": {
      "text/plain": [
       "0.00484449"
      ]
     },
     "metadata": {},
     "output_type": "display_data"
    },
    {
     "name": "stdout",
     "output_type": "stream",
     "text": [
      "\n"
     ]
    },
    {
     "data": {
      "text/plain": [
       "9970"
      ]
     },
     "metadata": {},
     "output_type": "display_data"
    },
    {
     "data": {
      "text/plain": [
       "'theres probably going to be a 2-disc edition available in october or november, but im just saying that because high school musical released on 1-disc dvd and everyone bought it, and then it came out on 2-disc dvd a few monthes later.'"
      ]
     },
     "metadata": {},
     "output_type": "display_data"
    },
    {
     "data": {
      "text/plain": [
       "1"
      ]
     },
     "metadata": {},
     "output_type": "display_data"
    },
    {
     "data": {
      "text/plain": [
       "5.184576"
      ]
     },
     "metadata": {},
     "output_type": "display_data"
    },
    {
     "data": {
      "text/plain": [
       "0.0056023113"
      ]
     },
     "metadata": {},
     "output_type": "display_data"
    },
    {
     "name": "stdout",
     "output_type": "stream",
     "text": [
      "\n"
     ]
    },
    {
     "data": {
      "text/plain": [
       "2208"
      ]
     },
     "metadata": {},
     "output_type": "display_data"
    },
    {
     "data": {
      "text/plain": [
       "\"I am sorry but this album was not what I was hoping it would be. I purchased it as a child and own it now as an adult. However, the only reason I do own it was because they attached their videos on DVD. We like it (Wild & Loose) and Juicy Gothca Krazy are great songs but only in there video forms. If you are looking for those sames songs as released on video on CD you aren't going to find it. Sad to say but I feel the only reason this album really sold was because many saw the videos first and then purchased the album hoping to hear the same thing.\""
      ]
     },
     "metadata": {},
     "output_type": "display_data"
    },
    {
     "data": {
      "text/plain": [
       "0"
      ]
     },
     "metadata": {},
     "output_type": "display_data"
    },
    {
     "data": {
      "text/plain": [
       "0.0052269944"
      ]
     },
     "metadata": {},
     "output_type": "display_data"
    },
    {
     "data": {
      "text/plain": [
       "0.0052133575"
      ]
     },
     "metadata": {},
     "output_type": "display_data"
    },
    {
     "name": "stdout",
     "output_type": "stream",
     "text": [
      "\n"
     ]
    },
    {
     "data": {
      "text/plain": [
       "1651"
      ]
     },
     "metadata": {},
     "output_type": "display_data"
    },
    {
     "data": {
      "text/plain": [
       "'This eight pound bag lasts our cockatoo 2-3 months. Way more economical to buy here on Amazon than in the store. We reseal it for storage, and use it well before it goes stale (colours and smells still vibrant).'"
      ]
     },
     "metadata": {},
     "output_type": "display_data"
    },
    {
     "data": {
      "text/plain": [
       "1"
      ]
     },
     "metadata": {},
     "output_type": "display_data"
    },
    {
     "data": {
      "text/plain": [
       "5.2000904"
      ]
     },
     "metadata": {},
     "output_type": "display_data"
    },
    {
     "data": {
      "text/plain": [
       "0.0055160653"
      ]
     },
     "metadata": {},
     "output_type": "display_data"
    },
    {
     "name": "stdout",
     "output_type": "stream",
     "text": [
      "\n"
     ]
    },
    {
     "data": {
      "text/plain": [
       "18971"
      ]
     },
     "metadata": {},
     "output_type": "display_data"
    },
    {
     "data": {
      "text/plain": [
       "\"Probably I got a defective one, but was very hard tu lock/unlock, key wouldn't turn, was frustrating, I purchased it based on other people's review\""
      ]
     },
     "metadata": {},
     "output_type": "display_data"
    },
    {
     "data": {
      "text/plain": [
       "0"
      ]
     },
     "metadata": {},
     "output_type": "display_data"
    },
    {
     "data": {
      "text/plain": [
       "0.004613351"
      ]
     },
     "metadata": {},
     "output_type": "display_data"
    },
    {
     "data": {
      "text/plain": [
       "0.0046027116"
      ]
     },
     "metadata": {},
     "output_type": "display_data"
    },
    {
     "name": "stdout",
     "output_type": "stream",
     "text": [
      "\n"
     ]
    },
    {
     "data": {
      "text/plain": [
       "14270"
      ]
     },
     "metadata": {},
     "output_type": "display_data"
    },
    {
     "data": {
      "text/plain": [
       "\"Got a pack of 50 of these to burn playlists for X-Mas gifts thinking Sony would be better than the Staples or Memorex brands, which I did not recognize. WOW, did I ever go wrong. These made a racket in my CD burner before ejecting. Eventually, some worked, most didn't.Returning these tomorrow.\""
      ]
     },
     "metadata": {},
     "output_type": "display_data"
    },
    {
     "data": {
      "text/plain": [
       "0"
      ]
     },
     "metadata": {},
     "output_type": "display_data"
    },
    {
     "data": {
      "text/plain": [
       "0.0039791465"
      ]
     },
     "metadata": {},
     "output_type": "display_data"
    },
    {
     "data": {
      "text/plain": [
       "0.003971287"
      ]
     },
     "metadata": {},
     "output_type": "display_data"
    },
    {
     "name": "stdout",
     "output_type": "stream",
     "text": [
      "\n"
     ]
    },
    {
     "data": {
      "text/plain": [
       "12139"
      ]
     },
     "metadata": {},
     "output_type": "display_data"
    },
    {
     "data": {
      "text/plain": [
       "'I use my 8GB MicroSD card in a USB adapter that is roughly half the size of this device. There is a small loop for a keychain on it which is useful when pulling it out of a usb port... not to mention that pulling out the chip allows use in a cellphone or digital camera (via adapter), digital camcorder, etc...There are smaller out there, if you are looking for small you can do a bit better!'"
      ]
     },
     "metadata": {},
     "output_type": "display_data"
    },
    {
     "data": {
      "text/plain": [
       "0"
      ]
     },
     "metadata": {},
     "output_type": "display_data"
    },
    {
     "data": {
      "text/plain": [
       "0.005333006"
      ]
     },
     "metadata": {},
     "output_type": "display_data"
    },
    {
     "data": {
      "text/plain": [
       "0.0053188056"
      ]
     },
     "metadata": {},
     "output_type": "display_data"
    },
    {
     "name": "stdout",
     "output_type": "stream",
     "text": [
      "\n"
     ]
    },
    {
     "data": {
      "text/plain": [
       "9164"
      ]
     },
     "metadata": {},
     "output_type": "display_data"
    },
    {
     "data": {
      "text/plain": [
       "\"When my old Zyliss gave up the ghost I looked about for a replacement. I have other OXO products and am pleased with them, so I gave this a flyer. On the plus side, it's sturdy and very easy to operate. However, I found that most of the time, about four cans out of five, it wouldn't cut the lid completely off. I'd be left with a lid slightly immersed in the can's contents and attached by a small strand of metal. I'd then have to get a small knife or fork to pry the lid out of the can and was still left with the task of getting the lid off the can without cutting myself.Based on the other reviews I'm figuring I just got a dud, so I'll replace it with another OXO opener, but not this one.\""
      ]
     },
     "metadata": {},
     "output_type": "display_data"
    },
    {
     "data": {
      "text/plain": [
       "0"
      ]
     },
     "metadata": {},
     "output_type": "display_data"
    },
    {
     "data": {
      "text/plain": [
       "0.0071697086"
      ]
     },
     "metadata": {},
     "output_type": "display_data"
    },
    {
     "data": {
      "text/plain": [
       "0.0071441117"
      ]
     },
     "metadata": {},
     "output_type": "display_data"
    },
    {
     "name": "stdout",
     "output_type": "stream",
     "text": [
      "\n"
     ]
    },
    {
     "data": {
      "text/plain": [
       "3868"
      ]
     },
     "metadata": {},
     "output_type": "display_data"
    },
    {
     "data": {
      "text/plain": [
       "\"This brand was my 2nd Delonghi thermal carafe model in 2 months, after the first one broke after 5 weeks. This one worked wonderfully for about 4 weeks until one morning. I came in and found coffee all over the counter. I thought I had not aligned the pot properly or something. After another week of dealing with this, the electrical system shorted out due to all the coffee spills. This coffee maker made the best coffee and the carafe kept it hot all day. I don't know what happened and we couldn't get it resolved. We purchased a Cuisinart with a 3 yr warranty (not the one that grinds coffee) and has worked great for 6 weeks.\""
      ]
     },
     "metadata": {},
     "output_type": "display_data"
    },
    {
     "data": {
      "text/plain": [
       "0"
      ]
     },
     "metadata": {},
     "output_type": "display_data"
    },
    {
     "data": {
      "text/plain": [
       "0.00568772"
      ]
     },
     "metadata": {},
     "output_type": "display_data"
    },
    {
     "data": {
      "text/plain": [
       "0.0056715803"
      ]
     },
     "metadata": {},
     "output_type": "display_data"
    },
    {
     "name": "stdout",
     "output_type": "stream",
     "text": [
      "\n"
     ]
    },
    {
     "data": {
      "text/plain": [
       "496"
      ]
     },
     "metadata": {},
     "output_type": "display_data"
    },
    {
     "data": {
      "text/plain": [
       "\"I received this as a Christmas gift from a friend who knows I like hot tea. ALL of the tea was some variation on flavors of green tea. I avoid drinking caffein, which green tea contains, so I gave away all of the tea and kept the chest to fill with my own selections. The chest is kind of cheap (paper glued over something, as described by another reviewer). It's pretty, but I don't expect it to hold up.\""
      ]
     },
     "metadata": {},
     "output_type": "display_data"
    },
    {
     "data": {
      "text/plain": [
       "0"
      ]
     },
     "metadata": {},
     "output_type": "display_data"
    },
    {
     "data": {
      "text/plain": [
       "0.004648474"
      ]
     },
     "metadata": {},
     "output_type": "display_data"
    },
    {
     "data": {
      "text/plain": [
       "0.0046377284"
      ]
     },
     "metadata": {},
     "output_type": "display_data"
    },
    {
     "name": "stdout",
     "output_type": "stream",
     "text": [
      "\n"
     ]
    },
    {
     "data": {
      "text/plain": [
       "11258"
      ]
     },
     "metadata": {},
     "output_type": "display_data"
    },
    {
     "data": {
      "text/plain": [
       "\"Received as gift for holidays, and am very used to electronic handheld games and their use. This one's screen was very difficult to use or see, despite changes in the contrast. It also has no back-light, with limited instructions. Not user-friendly, don't waste your time with this one. I returned mine to the store of purchase. Thanks,\""
      ]
     },
     "metadata": {},
     "output_type": "display_data"
    },
    {
     "data": {
      "text/plain": [
       "0"
      ]
     },
     "metadata": {},
     "output_type": "display_data"
    },
    {
     "data": {
      "text/plain": [
       "0.003727276"
      ]
     },
     "metadata": {},
     "output_type": "display_data"
    },
    {
     "data": {
      "text/plain": [
       "0.0037202872"
      ]
     },
     "metadata": {},
     "output_type": "display_data"
    },
    {
     "name": "stdout",
     "output_type": "stream",
     "text": [
      "\n"
     ]
    },
    {
     "data": {
      "text/plain": [
       "16778"
      ]
     },
     "metadata": {},
     "output_type": "display_data"
    },
    {
     "data": {
      "text/plain": [
       "\"My DH's favorite TV show....so of course, I started getting him the collection. Don't know what we'll do when I've got all of the seasons...\""
      ]
     },
     "metadata": {},
     "output_type": "display_data"
    },
    {
     "data": {
      "text/plain": [
       "1"
      ]
     },
     "metadata": {},
     "output_type": "display_data"
    },
    {
     "data": {
      "text/plain": [
       "5.083794"
      ]
     },
     "metadata": {},
     "output_type": "display_data"
    },
    {
     "data": {
      "text/plain": [
       "0.0061963536"
      ]
     },
     "metadata": {},
     "output_type": "display_data"
    },
    {
     "name": "stdout",
     "output_type": "stream",
     "text": [
      "\n"
     ]
    },
    {
     "data": {
      "text/plain": [
       "8849"
      ]
     },
     "metadata": {},
     "output_type": "display_data"
    },
    {
     "data": {
      "text/plain": [
       "\"This thing scoops out rock hard ice cream so easily. I've gone through many ice cream scoopers and I stuggled with all of them. Yes, it is more like a slab of ice cream than a scoop, but if it's going in a bowl and not a cone, then so what. No more letting the ice cream sit out for 10 minutes.*UPDATE*I should have updated this a while ago, as I threw this thing out a long time ago. It's coated in some non-stick material that I noticed flakes of in my ice cream. Since it's only used for ice cream, I can't imagine what caused it to flake off. It never goes in the dishwasher, either. I still love the design, but I'm not interested in eating teflon, or whatever they use to coat this. One star, not five!\""
      ]
     },
     "metadata": {},
     "output_type": "display_data"
    },
    {
     "data": {
      "text/plain": [
       "0"
      ]
     },
     "metadata": {},
     "output_type": "display_data"
    },
    {
     "data": {
      "text/plain": [
       "0.004810902"
      ]
     },
     "metadata": {},
     "output_type": "display_data"
    },
    {
     "data": {
      "text/plain": [
       "0.0047993124"
      ]
     },
     "metadata": {},
     "output_type": "display_data"
    },
    {
     "name": "stdout",
     "output_type": "stream",
     "text": [
      "\n"
     ]
    },
    {
     "data": {
      "text/plain": [
       "11621"
      ]
     },
     "metadata": {},
     "output_type": "display_data"
    },
    {
     "data": {
      "text/plain": [
       "\"Owning a Rowenta that faied within the first year I went the nearest Target and asked for the black Rowenta 6900 man's iron, only to find that it and model D2030 were not in stock as they described.Not ready to leave I saw a Black and Decker digital advantage model. I could have bought either of the other displayed Rowenta's but I choose the B/D model w/o a box. It was a 75% off close out.Returning home I logged on to Con. Rep. site to find that this model wasa best buy. Plenty of steam at a good price. It also shuts off the steam with setting less than 4 .......1-acryllic 7.- linen.All this for $14.95 drive out!Berne AbriolaWest Columbia, Tx\""
      ]
     },
     "metadata": {},
     "output_type": "display_data"
    },
    {
     "data": {
      "text/plain": [
       "0"
      ]
     },
     "metadata": {},
     "output_type": "display_data"
    },
    {
     "data": {
      "text/plain": [
       "0.004317724"
      ]
     },
     "metadata": {},
     "output_type": "display_data"
    },
    {
     "data": {
      "text/plain": [
       "0.0043084365"
      ]
     },
     "metadata": {},
     "output_type": "display_data"
    },
    {
     "name": "stdout",
     "output_type": "stream",
     "text": [
      "\n"
     ]
    },
    {
     "data": {
      "text/plain": [
       "16539"
      ]
     },
     "metadata": {},
     "output_type": "display_data"
    },
    {
     "data": {
      "text/plain": [
       "'It took me a few days to open the package and check the memory. Outside it looked okay but when I put this memory stick into my computer, my computer would not boot. I put the original memory back in and it booted. So I do not recommend anyone to buy memory from this seller.'"
      ]
     },
     "metadata": {},
     "output_type": "display_data"
    },
    {
     "data": {
      "text/plain": [
       "0"
      ]
     },
     "metadata": {},
     "output_type": "display_data"
    },
    {
     "data": {
      "text/plain": [
       "0.0062699043"
      ]
     },
     "metadata": {},
     "output_type": "display_data"
    },
    {
     "data": {
      "text/plain": [
       "0.0062502804"
      ]
     },
     "metadata": {},
     "output_type": "display_data"
    },
    {
     "name": "stdout",
     "output_type": "stream",
     "text": [
      "\n"
     ]
    },
    {
     "data": {
      "text/plain": [
       "14501"
      ]
     },
     "metadata": {},
     "output_type": "display_data"
    },
    {
     "data": {
      "text/plain": [
       "'I loved this movie when I saw it on cable many years back, so I ordered it on BluRay from Amazon. This is the only BluRay I have ever purchased that would not play in any of my BluRay players. I returned it to Amazon and asked for a replacement, which had the same problem. This time, I gave up and asked for a refund.I would hope that Amazon would check their stock and let those of use who got bad discs know when they got good stock in.I would love to purchase a non-defective BluRay of this movie!'"
      ]
     },
     "metadata": {},
     "output_type": "display_data"
    },
    {
     "data": {
      "text/plain": [
       "1"
      ]
     },
     "metadata": {},
     "output_type": "display_data"
    },
    {
     "data": {
      "text/plain": [
       "4.973938"
      ]
     },
     "metadata": {},
     "output_type": "display_data"
    },
    {
     "data": {
      "text/plain": [
       "0.00691586"
      ]
     },
     "metadata": {},
     "output_type": "display_data"
    },
    {
     "name": "stdout",
     "output_type": "stream",
     "text": [
      "\n"
     ]
    },
    {
     "data": {
      "text/plain": [
       "6671"
      ]
     },
     "metadata": {},
     "output_type": "display_data"
    },
    {
     "data": {
      "text/plain": [
       "'This is a great book (5 star content), however, the kindle edition does not have the new redesigned cover (reason for 1 star rating). I really hope this gets fixed soon. The new covers are the only reason I am purchasing these books on the kindle. All the other WOT books I have purchased for the Kindle have the nice redesigned cover. If you want to know what the cover should look like (from the Tor Website): [...]'"
      ]
     },
     "metadata": {},
     "output_type": "display_data"
    },
    {
     "data": {
      "text/plain": [
       "0"
      ]
     },
     "metadata": {},
     "output_type": "display_data"
    },
    {
     "data": {
      "text/plain": [
       "0.007897817"
      ]
     },
     "metadata": {},
     "output_type": "display_data"
    },
    {
     "data": {
      "text/plain": [
       "0.007866734"
      ]
     },
     "metadata": {},
     "output_type": "display_data"
    },
    {
     "name": "stdout",
     "output_type": "stream",
     "text": [
      "\n"
     ]
    },
    {
     "data": {
      "text/plain": [
       "10427"
      ]
     },
     "metadata": {},
     "output_type": "display_data"
    },
    {
     "data": {
      "text/plain": [
       "'I was SO dissapointed recieving my new Swan Lake DVD; a HD DVD....I have no HD DVD player and I did not notice that is was a HD movie......I really suggest that Amazon warn about the format - HD....who has a HD DVD player these days???'"
      ]
     },
     "metadata": {},
     "output_type": "display_data"
    },
    {
     "data": {
      "text/plain": [
       "0"
      ]
     },
     "metadata": {},
     "output_type": "display_data"
    },
    {
     "data": {
      "text/plain": [
       "0.005506111"
      ]
     },
     "metadata": {},
     "output_type": "display_data"
    },
    {
     "data": {
      "text/plain": [
       "0.0054909303"
      ]
     },
     "metadata": {},
     "output_type": "display_data"
    },
    {
     "name": "stdout",
     "output_type": "stream",
     "text": [
      "\n"
     ]
    },
    {
     "data": {
      "text/plain": [
       "13228"
      ]
     },
     "metadata": {},
     "output_type": "display_data"
    },
    {
     "data": {
      "text/plain": [
       "'So this sorter is okay, but has a MAJOR PROBLEM, fortunately, it is easy to fix.The major problem is the lid won\\'t stay on, at all. Here is how you fix it:You will need: 8\" of twine or cord, 1 elastic hair band.Cut the twin in half. Tie one length into a loop with a knot going through the triangle and circle holes.Loop the hair band in on itself through the twine so they are now connected.Put the other length of twine through the hair band and blue plastic handle of the base box, and tie it into a loop going through the square and plus holes.Now the lid is held securely to the box by the tension of the elastic, and can easily be pulled open to removed the shape toys after the child puts them in.See pictures.'"
      ]
     },
     "metadata": {},
     "output_type": "display_data"
    },
    {
     "data": {
      "text/plain": [
       "0"
      ]
     },
     "metadata": {},
     "output_type": "display_data"
    },
    {
     "data": {
      "text/plain": [
       "0.0064845383"
      ]
     },
     "metadata": {},
     "output_type": "display_data"
    },
    {
     "data": {
      "text/plain": [
       "0.006463591"
      ]
     },
     "metadata": {},
     "output_type": "display_data"
    },
    {
     "name": "stdout",
     "output_type": "stream",
     "text": [
      "\n"
     ]
    },
    {
     "data": {
      "text/plain": [
       "10526"
      ]
     },
     "metadata": {},
     "output_type": "display_data"
    },
    {
     "data": {
      "text/plain": [
       "\"I got this to use it as a crimper. When I got it, I was excited to see how it worked. After I plugged it in, I forgot about it so when I went to use it, it had been heating up for about 45 minutes. It worked pretty well this time, so I thought it was a good product. However, now when I wake up in the morning, I don't have 45 minutes to wait for it to heat up. It hardly crimps my hair at all, even when I let it heat up for 30 minutes. Also, it is made of really cheap plastic.\""
      ]
     },
     "metadata": {},
     "output_type": "display_data"
    },
    {
     "data": {
      "text/plain": [
       "0"
      ]
     },
     "metadata": {},
     "output_type": "display_data"
    },
    {
     "data": {
      "text/plain": [
       "0.008441245"
      ]
     },
     "metadata": {},
     "output_type": "display_data"
    },
    {
     "data": {
      "text/plain": [
       "0.008405685"
      ]
     },
     "metadata": {},
     "output_type": "display_data"
    },
    {
     "name": "stdout",
     "output_type": "stream",
     "text": [
      "\n"
     ]
    },
    {
     "data": {
      "text/plain": [
       "649"
      ]
     },
     "metadata": {},
     "output_type": "display_data"
    },
    {
     "data": {
      "text/plain": [
       "\"Camera is only usable outside in broad daylight. Trying anything inside your home/place of business and you'll have nothing but black on your screen.I am returning the product and will probably try lifeview camera with flash to see if camera aperture allows more light in.I was in rooms that were pretty well lit up...and viewfinder is dark as night.Should never have been released as a product because of these flaws...and it doesn't have to be this way. Laptop usb cameras offer incredibly bright pictures in low light conditions.\""
      ]
     },
     "metadata": {},
     "output_type": "display_data"
    },
    {
     "data": {
      "text/plain": [
       "0"
      ]
     },
     "metadata": {},
     "output_type": "display_data"
    },
    {
     "data": {
      "text/plain": [
       "0.0038038772"
      ]
     },
     "metadata": {},
     "output_type": "display_data"
    },
    {
     "data": {
      "text/plain": [
       "0.0037967097"
      ]
     },
     "metadata": {},
     "output_type": "display_data"
    },
    {
     "name": "stdout",
     "output_type": "stream",
     "text": [
      "\n"
     ]
    },
    {
     "data": {
      "text/plain": [
       "6086"
      ]
     },
     "metadata": {},
     "output_type": "display_data"
    },
    {
     "data": {
      "text/plain": [
       "'This was a great cooler out of the box, it is silent and cooled nicely. However, it\\'s cheaply made. The power cords are very cheap, and the cooler itself is flemsy plastic. The pictures make it look much more substantial than it actually is. Our quit working after about 3 months. Targus makes a \"new & improved\" version. We tried it as well. Much better made, but it was noisey (so noisey it gave me a headache). So we opted for another brand and much happier.'"
      ]
     },
     "metadata": {},
     "output_type": "display_data"
    },
    {
     "data": {
      "text/plain": [
       "0"
      ]
     },
     "metadata": {},
     "output_type": "display_data"
    },
    {
     "data": {
      "text/plain": [
       "0.00581395"
      ]
     },
     "metadata": {},
     "output_type": "display_data"
    },
    {
     "data": {
      "text/plain": [
       "0.005797038"
      ]
     },
     "metadata": {},
     "output_type": "display_data"
    },
    {
     "name": "stdout",
     "output_type": "stream",
     "text": [
      "\n"
     ]
    },
    {
     "data": {
      "text/plain": [
       "1666"
      ]
     },
     "metadata": {},
     "output_type": "display_data"
    },
    {
     "data": {
      "text/plain": [
       "\"We outgrew our 8x8 tents with the kids, so we bought this tent preparing for our next camp trip. We test it out at our back yard right after we bought it. It's easy to set up, and roommy. However, the zippers are done in very low end quality. The window zippers work ok, but both the door zipper did not work well! The mesh zipper will open up after you zipped it. The door zipper is not well stiched on one side! And it's hard to zip it around.We are return it back to the store tomorrow!\""
      ]
     },
     "metadata": {},
     "output_type": "display_data"
    },
    {
     "data": {
      "text/plain": [
       "0"
      ]
     },
     "metadata": {},
     "output_type": "display_data"
    },
    {
     "data": {
      "text/plain": [
       "0.004966067"
      ]
     },
     "metadata": {},
     "output_type": "display_data"
    },
    {
     "data": {
      "text/plain": [
       "0.0049537085"
      ]
     },
     "metadata": {},
     "output_type": "display_data"
    },
    {
     "name": "stdout",
     "output_type": "stream",
     "text": [
      "\n"
     ]
    },
    {
     "data": {
      "text/plain": [
       "5718"
      ]
     },
     "metadata": {},
     "output_type": "display_data"
    },
    {
     "data": {
      "text/plain": [
       "'I bought this book for $250 and I also bought \"How to Create and Manage a Mutual Fund or Exchange-Traded Fund\" 9780470120552 for ~$70. This book was paper back and the \"How to create...\" book was hardback and copy written 3 years later (2008 compared to 2005 of this book.) The words are mostly the same on the mutual fund side, but they have added exchange traded funds into the book. All the graphs are updated and it is written by the same author.'"
      ]
     },
     "metadata": {},
     "output_type": "display_data"
    },
    {
     "data": {
      "text/plain": [
       "0"
      ]
     },
     "metadata": {},
     "output_type": "display_data"
    },
    {
     "data": {
      "text/plain": [
       "0.005566335"
      ]
     },
     "metadata": {},
     "output_type": "display_data"
    },
    {
     "data": {
      "text/plain": [
       "0.0055508194"
      ]
     },
     "metadata": {},
     "output_type": "display_data"
    },
    {
     "name": "stdout",
     "output_type": "stream",
     "text": [
      "\n"
     ]
    },
    {
     "data": {
      "text/plain": [
       "5012"
      ]
     },
     "metadata": {},
     "output_type": "display_data"
    },
    {
     "data": {
      "text/plain": [
       "'Bought this product after drinking great coffee in Amsterdam that was pressure brewed,[senseo one cup],and this machine is close but no cigar.The taste from this machine is better than drip machines but not as frothy as the Senseo.Senseo draw-back is buying your coffee in those pods,very expensive.This machine is low pressure,maybe the difference in taste.'"
      ]
     },
     "metadata": {},
     "output_type": "display_data"
    },
    {
     "data": {
      "text/plain": [
       "1"
      ]
     },
     "metadata": {},
     "output_type": "display_data"
    },
    {
     "data": {
      "text/plain": [
       "5.3091965"
      ]
     },
     "metadata": {},
     "output_type": "display_data"
    },
    {
     "data": {
      "text/plain": [
       "0.0049458994"
      ]
     },
     "metadata": {},
     "output_type": "display_data"
    },
    {
     "name": "stdout",
     "output_type": "stream",
     "text": [
      "\n"
     ]
    },
    {
     "data": {
      "text/plain": [
       "3934"
      ]
     },
     "metadata": {},
     "output_type": "display_data"
    },
    {
     "data": {
      "text/plain": [
       "\"my second yamaha A/V reciever my first was A 2nd from top rxv-2090 it came out on the fringe of home theatre it had a excelent amp but a little out of date as far as home theatredecoding beeing its based on 5 channels not 5.1knowing i needed a updated after hearing my girl friends get this! 300$ home theatre in a box i realized while my 2090 sounded better the timming was better on her cheep system . Still I am surprised at how much better the HTR-5590 sounded my first dolbly digital movie blew my mind don't forget i had a 1500$ 1995 model yamaha witch was very good too ,i would give it a 4.5 but no option for it here\""
      ]
     },
     "metadata": {},
     "output_type": "display_data"
    },
    {
     "data": {
      "text/plain": [
       "1"
      ]
     },
     "metadata": {},
     "output_type": "display_data"
    },
    {
     "data": {
      "text/plain": [
       "5.0957894"
      ]
     },
     "metadata": {},
     "output_type": "display_data"
    },
    {
     "data": {
      "text/plain": [
       "0.006122471"
      ]
     },
     "metadata": {},
     "output_type": "display_data"
    },
    {
     "name": "stdout",
     "output_type": "stream",
     "text": [
      "\n"
     ]
    },
    {
     "data": {
      "text/plain": [
       "17883"
      ]
     },
     "metadata": {},
     "output_type": "display_data"
    },
    {
     "data": {
      "text/plain": [
       "\"I've yet to find a soft dog toy that my Springer Spaniel won't destroy. I bought a few of these hoping they would work. My dog did love them, but he had the first one shredded within minutes of me giving it to him. It's not like I have some supper dog - he's only 45 pounds, but he had no problem chewing right through them.If you're dog isn't a big chewer then these would be a good toy, but if he chews through everything you've given him - this will be no different.\""
      ]
     },
     "metadata": {},
     "output_type": "display_data"
    },
    {
     "data": {
      "text/plain": [
       "0"
      ]
     },
     "metadata": {},
     "output_type": "display_data"
    },
    {
     "data": {
      "text/plain": [
       "0.0074094725"
      ]
     },
     "metadata": {},
     "output_type": "display_data"
    },
    {
     "data": {
      "text/plain": [
       "0.0073820935"
      ]
     },
     "metadata": {},
     "output_type": "display_data"
    },
    {
     "name": "stdout",
     "output_type": "stream",
     "text": [
      "\n"
     ]
    },
    {
     "data": {
      "text/plain": [
       "2256"
      ]
     },
     "metadata": {},
     "output_type": "display_data"
    },
    {
     "data": {
      "text/plain": [
       "'This phone was fantastic for about 8 months. I could go about 100 yards from my house while talking without any interference. However in the last month the handset started \"Channel Searching\" no matter how close I was to the base and how good the signal. Two days ago the handset went into channel search mode and literally has not stopped searching since. I have done everything I can think of including change the battery and it continues to search and while it searches the answering machine doesn\\'t seem to work. Oh well, no more Sony for me.'"
      ]
     },
     "metadata": {},
     "output_type": "display_data"
    },
    {
     "data": {
      "text/plain": [
       "0"
      ]
     },
     "metadata": {},
     "output_type": "display_data"
    },
    {
     "data": {
      "text/plain": [
       "0.0059761885"
      ]
     },
     "metadata": {},
     "output_type": "display_data"
    },
    {
     "data": {
      "text/plain": [
       "0.0059584077"
      ]
     },
     "metadata": {},
     "output_type": "display_data"
    },
    {
     "name": "stdout",
     "output_type": "stream",
     "text": [
      "\n"
     ]
    },
    {
     "data": {
      "text/plain": [
       "10171"
      ]
     },
     "metadata": {},
     "output_type": "display_data"
    },
    {
     "data": {
      "text/plain": [
       "\"Letter Factory, Talking Words Factory, Code Word Caper, Fridge Phonics, Fridge Words Magnetic Word BuilderWhen my son was 22 months old he could tell me the letters and their sounds because of this system. We started with the DVDs. Then we added Fridge Phonics. After a couple months I added the Word Builder. I only let him have about 10 or 12 letters at a time so he doesn't get overwhelmed. When I had too many out, he would knock them to the floor. He's 28 months old now. He doesn't make real words yet. But that's coming soon!But watch out for the fridge magnets. Leapfrog changed the sizes. The Word Whammer and the older Phonics with the Frog have the letters that match. The ones with Scout the Dog and the Sun match the Jet (word builder).\""
      ]
     },
     "metadata": {},
     "output_type": "display_data"
    },
    {
     "data": {
      "text/plain": [
       "1"
      ]
     },
     "metadata": {},
     "output_type": "display_data"
    },
    {
     "data": {
      "text/plain": [
       "5.5787406"
      ]
     },
     "metadata": {},
     "output_type": "display_data"
    },
    {
     "data": {
      "text/plain": [
       "0.0037773203"
      ]
     },
     "metadata": {},
     "output_type": "display_data"
    },
    {
     "name": "stdout",
     "output_type": "stream",
     "text": [
      "\n"
     ]
    },
    {
     "data": {
      "text/plain": [
       "18352"
      ]
     },
     "metadata": {},
     "output_type": "display_data"
    },
    {
     "data": {
      "text/plain": [
       "'Waiting in line to buy the new Madden every year is like waiting in line to buy a new calendar. Sure, there are enough differences to technically call it \"new\". There might be newer or prettier pictures but it\\'s still just a calendar, just like the year before - same stuff only with slight changes. I know all the Maddenphiles and football fans say that there really are additions and changes that justify another $50/$60 drop. I think they tell themselves that just so they don\\'t feel ripped off. Now that online play is a regular part of console gaming, EA should just have yearly download updates and charge $15 or so. Oh but wait, there\\'s no money in not screwing over the consumer.'"
      ]
     },
     "metadata": {},
     "output_type": "display_data"
    },
    {
     "data": {
      "text/plain": [
       "0"
      ]
     },
     "metadata": {},
     "output_type": "display_data"
    },
    {
     "data": {
      "text/plain": [
       "0.006475182"
      ]
     },
     "metadata": {},
     "output_type": "display_data"
    },
    {
     "data": {
      "text/plain": [
       "0.006454313"
      ]
     },
     "metadata": {},
     "output_type": "display_data"
    },
    {
     "name": "stdout",
     "output_type": "stream",
     "text": [
      "\n"
     ]
    },
    {
     "data": {
      "text/plain": [
       "11643"
      ]
     },
     "metadata": {},
     "output_type": "display_data"
    },
    {
     "data": {
      "text/plain": [
       "'I purchased a WAP and 2 usb adapters a year ago. It worked fine for windows 98 but on windows xp it has given me nothing but trouble. I updated the drivers and firmware on the wusb11 and have been rewarded with a non-reliable connection. I am waiting for the price to drop on 802.11a cards and wap to replace these...'"
      ]
     },
     "metadata": {},
     "output_type": "display_data"
    },
    {
     "data": {
      "text/plain": [
       "0"
      ]
     },
     "metadata": {},
     "output_type": "display_data"
    },
    {
     "data": {
      "text/plain": [
       "0.006072879"
      ]
     },
     "metadata": {},
     "output_type": "display_data"
    },
    {
     "data": {
      "text/plain": [
       "0.006054494"
      ]
     },
     "metadata": {},
     "output_type": "display_data"
    },
    {
     "name": "stdout",
     "output_type": "stream",
     "text": [
      "\n"
     ]
    },
    {
     "data": {
      "text/plain": [
       "9242"
      ]
     },
     "metadata": {},
     "output_type": "display_data"
    },
    {
     "data": {
      "text/plain": [
       "'For the price, this is a great little vacuum. The handle adjusts up and down, and when you put it down to it\\'s shortest position, you can do the stairs very quickly, going side to side. This vacuum is very powerful, and when using the attachments this is especially apparent. Great for cleaning cars with hose attachment. Works on hard surface floors, when you turn off the spinning brushes. We have cats and dogs, and lots of hair, hard wood and tile floors and I have found that instead of sweeping everywhere, I an just vacuum now, quickly, and use the attachment easily to get into corners into small places. Works great on carpets too.My only complaint- the dust accumulates towards the top of the canister, so it has to be emptied more often than it should if the dust/lint/hair would just drop into the canister. It all sort of \"cakes\" around the top. I would still buy it again. Very easy to empty canister, just push a button, it pops out, and then just dump it out.'"
      ]
     },
     "metadata": {},
     "output_type": "display_data"
    },
    {
     "data": {
      "text/plain": [
       "1"
      ]
     },
     "metadata": {},
     "output_type": "display_data"
    },
    {
     "data": {
      "text/plain": [
       "5.038231"
      ]
     },
     "metadata": {},
     "output_type": "display_data"
    },
    {
     "data": {
      "text/plain": [
       "0.006485212"
      ]
     },
     "metadata": {},
     "output_type": "display_data"
    },
    {
     "name": "stdout",
     "output_type": "stream",
     "text": [
      "\n"
     ]
    },
    {
     "data": {
      "text/plain": [
       "17645"
      ]
     },
     "metadata": {},
     "output_type": "display_data"
    },
    {
     "data": {
      "text/plain": [
       "'i was really disapointed with this product. i bought it because it was a 2 disk dvd with bonus bluray disc. but that was not so. it is a 2 disc bluray with 1 dvd packaged in the dvd packageing'"
      ]
     },
     "metadata": {},
     "output_type": "display_data"
    },
    {
     "data": {
      "text/plain": [
       "0"
      ]
     },
     "metadata": {},
     "output_type": "display_data"
    },
    {
     "data": {
      "text/plain": [
       "0.007540573"
      ]
     },
     "metadata": {},
     "output_type": "display_data"
    },
    {
     "data": {
      "text/plain": [
       "0.0075122593"
      ]
     },
     "metadata": {},
     "output_type": "display_data"
    },
    {
     "name": "stdout",
     "output_type": "stream",
     "text": [
      "\n"
     ]
    },
    {
     "data": {
      "text/plain": [
       "14119"
      ]
     },
     "metadata": {},
     "output_type": "display_data"
    },
    {
     "data": {
      "text/plain": [
       "'I SPECIFICALLY PURCHASED AN HD DVD PLAYER SO THAT I COULD ENJOY SOME OF MY FAVORITE FLICKS ON MY KILLER NEW BIG SCREEN TV, ONLY PROBLEM IS IS THAT THIS DISC DOES NOT, I REPEAT DOES NOT PLAY IN THE HD DVD PLAYER, IT IS A BRAND NEW SONY 1080 PIXEL DVD PLAYER AND THIS DISC IS MEANT TO PLAY IN IT AND IT DOES NOT, I AM HESITANT NOW TO PURCHASE ANY OTHER MOVIES WITH THE HD DVD LOGO ON THEM, I PURCHASED A COUPLE FOR CHRISTMAS WITH THE SAME LOGO AND I FEAR THEY WILL NOT PLAY EITHER, WHO DO I SEE ABOUT THIS??'"
      ]
     },
     "metadata": {},
     "output_type": "display_data"
    },
    {
     "data": {
      "text/plain": [
       "0"
      ]
     },
     "metadata": {},
     "output_type": "display_data"
    },
    {
     "data": {
      "text/plain": [
       "0.005028933"
      ]
     },
     "metadata": {},
     "output_type": "display_data"
    },
    {
     "data": {
      "text/plain": [
       "0.0050163497"
      ]
     },
     "metadata": {},
     "output_type": "display_data"
    },
    {
     "name": "stdout",
     "output_type": "stream",
     "text": [
      "\n"
     ]
    },
    {
     "data": {
      "text/plain": [
       "3513"
      ]
     },
     "metadata": {},
     "output_type": "display_data"
    },
    {
     "data": {
      "text/plain": [
       "'Received this keyboard today and was very dissapointed. I can\\'t believe IBM actually allowed Micro Innovations to put their logo on this item. When typing, the keystrokes either were not recognized or would display seconds later. Receiver \"data\" light blinks showing that are you pressing keys, however, the keystrokes are not sent to the computer.Returning item now as I type on a good/working LOGITECH wireless RF keyboard.'"
      ]
     },
     "metadata": {},
     "output_type": "display_data"
    },
    {
     "data": {
      "text/plain": [
       "0"
      ]
     },
     "metadata": {},
     "output_type": "display_data"
    },
    {
     "data": {
      "text/plain": [
       "0.004011086"
      ]
     },
     "metadata": {},
     "output_type": "display_data"
    },
    {
     "data": {
      "text/plain": [
       "0.004002994"
      ]
     },
     "metadata": {},
     "output_type": "display_data"
    },
    {
     "name": "stdout",
     "output_type": "stream",
     "text": [
      "\n"
     ]
    },
    {
     "data": {
      "text/plain": [
       "11176"
      ]
     },
     "metadata": {},
     "output_type": "display_data"
    },
    {
     "data": {
      "text/plain": [
       "\"Haven't really been able to use as hoped. Have tried on several occasions but before I really get started the nozzle clogs. Using coal slag as the media which is pretty darn fine...but the second you stop the flow of material with stop it backs up and plugs. Air flow settings are key and just haven't found the settings to make it work yet.\""
      ]
     },
     "metadata": {},
     "output_type": "display_data"
    },
    {
     "data": {
      "text/plain": [
       "0"
      ]
     },
     "metadata": {},
     "output_type": "display_data"
    },
    {
     "data": {
      "text/plain": [
       "0.004660577"
      ]
     },
     "metadata": {},
     "output_type": "display_data"
    },
    {
     "data": {
      "text/plain": [
       "0.004649722"
      ]
     },
     "metadata": {},
     "output_type": "display_data"
    },
    {
     "name": "stdout",
     "output_type": "stream",
     "text": [
      "\n"
     ]
    }
   ],
   "source": [
    "# Example of high-weight reviews\n",
    "spotlight = spotlights[3]\n",
    "weight_idx = spotlight[0].argsort().tolist()[::-1]\n",
    "for idx in weight_idx[:50]:\n",
    "    example = dataset[idx]\n",
    "    display(idx)\n",
    "    display(example['content'])\n",
    "    display(example['label'])\n",
    "    display(losses[idx])\n",
    "    display(outputs[idx])\n",
    "    print()"
   ]
  },
  {
   "cell_type": "code",
   "execution_count": 19,
   "id": "a1732d5c",
   "metadata": {},
   "outputs": [],
   "source": [
    "def getCommonTokens(weights, smoothing=0.01, print_first=50):\n",
    "    token_frequencies = defaultdict(float)\n",
    "    token_frequencies_spotlight = defaultdict(float)\n",
    "\n",
    "    weights_uniform = np.full_like(weights, 1 / len(weights))\n",
    "\n",
    "    num_examples = len(weights)\n",
    "    for i in tqdm(range(num_examples)):\n",
    "        for token in unique_tokens[i]:\n",
    "            token_frequencies[token.item()] += weights_uniform[i]\n",
    "            token_frequencies_spotlight[token.item()] += weights[i]\n",
    "            \n",
    "    token_lrs = {k: (smoothing+token_frequencies_spotlight[k]) / (smoothing+token_frequencies[k]) for k in token_frequencies}\n",
    "    tokens_sorted = list(map(lambda x: x[0], sorted(token_lrs.items(), key=lambda x: x[1])[::-1]))\n",
    "    for i, (token) in enumerate(tokens_sorted[:print_first]):\n",
    "        print('%15s %.4f %.4f %4.2f' % (tokenizer.decode(token), token_frequencies[token], token_frequencies_spotlight[token], token_lrs[token]))"
   ]
  },
  {
   "cell_type": "code",
   "execution_count": 20,
   "id": "044b97e5",
   "metadata": {},
   "outputs": [
    {
     "name": "stderr",
     "output_type": "stream",
     "text": [
      "100%|██████████| 20000/20000 [00:03<00:00, 6419.12it/s]\n"
     ]
    },
    {
     "name": "stdout",
     "output_type": "stream",
     "text": [
      "            que 0.0028 0.0112 2.08\n",
      "            est 0.0023 0.0083 1.83\n",
      "            las 0.0016 0.0069 1.80\n",
      "           como 0.0011 0.0059 1.78\n",
      "           ##as 0.0057 0.0135 1.72\n",
      "              y 0.0071 0.0153 1.68\n",
      "            tod 0.0011 0.0053 1.67\n",
      "             si 0.0045 0.0109 1.66\n",
      "             la 0.0080 0.0162 1.63\n",
      "            dry 0.0088 0.0174 1.63\n",
      "            por 0.0017 0.0059 1.62\n",
      "             es 0.0060 0.0128 1.61\n",
      "             ot 0.0015 0.0054 1.59\n",
      "        regular 0.0070 0.0138 1.57\n",
      "           ##lu 0.0034 0.0083 1.57\n",
      "        however 0.0503 0.0810 1.55\n",
      "           ##sa 0.0090 0.0168 1.55\n",
      "           tiny 0.0038 0.0086 1.54\n",
      "           para 0.0029 0.0071 1.53\n",
      "       returned 0.0091 0.0166 1.53\n"
     ]
    }
   ],
   "source": [
    "getCommonTokens(spotlights[1][0], 0.005, 20)"
   ]
  },
  {
   "cell_type": "code",
   "execution_count": 21,
   "id": "b30fd19c",
   "metadata": {},
   "outputs": [
    {
     "name": "stderr",
     "output_type": "stream",
     "text": [
      "100%|██████████| 20000/20000 [00:03<00:00, 6399.25it/s]\n"
     ]
    },
    {
     "name": "stdout",
     "output_type": "stream",
     "text": [
      "         bigger 0.0035 0.0090 1.65\n",
      "          super 0.0104 0.0203 1.64\n",
      "           hang 0.0028 0.0075 1.60\n",
      "         prefer 0.0057 0.0120 1.58\n",
      "        killing 0.0028 0.0074 1.58\n",
      "            job 0.0239 0.0405 1.57\n",
      "       discover 0.0029 0.0075 1.57\n",
      "           slip 0.0026 0.0070 1.57\n",
      "            rev 0.0039 0.0089 1.56\n",
      "           easy 0.0415 0.0676 1.56\n",
      "        wearing 0.0035 0.0083 1.56\n",
      "          ##ves 0.0019 0.0058 1.56\n",
      "         ##ling 0.0059 0.0119 1.55\n",
      "             bt 0.0013 0.0048 1.54\n",
      "           heat 0.0049 0.0103 1.54\n",
      "           thus 0.0037 0.0084 1.54\n",
      "           trip 0.0090 0.0165 1.54\n",
      "            ##x 0.0118 0.0209 1.54\n",
      "          handy 0.0021 0.0059 1.53\n",
      "         source 0.0043 0.0092 1.53\n"
     ]
    }
   ],
   "source": [
    "getCommonTokens(spotlights[2][0], 0.005, 20)"
   ]
  },
  {
   "cell_type": "code",
   "execution_count": 22,
   "id": "c1816ead",
   "metadata": {},
   "outputs": [
    {
     "name": "stderr",
     "output_type": "stream",
     "text": [
      "100%|██████████| 20000/20000 [00:03<00:00, 6372.25it/s]"
     ]
    },
    {
     "name": "stdout",
     "output_type": "stream",
     "text": [
      "        problem 0.0279 0.0531 1.76\n",
      "        ##point 0.0113 0.0236 1.76\n",
      "      returning 0.0048 0.0120 1.73\n",
      "          ##ssa 0.0082 0.0173 1.69\n",
      "          ##und 0.0071 0.0153 1.67\n",
      "              $ 0.0234 0.0420 1.66\n",
      "         hoping 0.0092 0.0182 1.63\n",
      "       returned 0.0091 0.0180 1.63\n",
      "  unfortunately 0.0158 0.0280 1.58\n",
      "           okay 0.0088 0.0167 1.57\n",
      "         ##ware 0.0072 0.0142 1.56\n",
      "            ##0 0.0057 0.0118 1.56\n",
      "            box 0.0181 0.0310 1.55\n",
      "         unless 0.0141 0.0244 1.54\n",
      "          sadly 0.0051 0.0103 1.52\n",
      "             ok 0.0174 0.0291 1.52\n",
      "          maybe 0.0297 0.0477 1.52\n",
      "        however 0.0503 0.0788 1.52\n",
      "           half 0.0210 0.0344 1.51\n",
      "           warn 0.0022 0.0060 1.51\n"
     ]
    },
    {
     "name": "stderr",
     "output_type": "stream",
     "text": [
      "\n"
     ]
    }
   ],
   "source": [
    "getCommonTokens(spotlights[3][0], 0.005, 20)"
   ]
  },
  {
   "cell_type": "code",
   "execution_count": 144,
   "id": "9a55d0bd",
   "metadata": {},
   "outputs": [
    {
     "name": "stderr",
     "output_type": "stream",
     "text": [
      "100%|██████████| 20000/20000 [00:03<00:00, 5456.58it/s]"
     ]
    },
    {
     "name": "stdout",
     "output_type": "stream",
     "text": [
      "          ##ven 0.0025 0.0174 2.98\n",
      "            sen 0.0033 0.0174 2.71\n",
      "             64 0.0010 0.0099 2.51\n",
      "         length 0.0052 0.0199 2.42\n",
      "       outdated 0.0022 0.0124 2.42\n",
      "         potter 0.0022 0.0124 2.40\n",
      "         bubble 0.0012 0.0099 2.39\n",
      "              = 0.0024 0.0124 2.34\n",
      "            rom 0.0014 0.0099 2.33\n",
      "        contact 0.0037 0.0149 2.30\n",
      " cinematography 0.0026 0.0124 2.29\n",
      "      adjusting 0.0006 0.0074 2.22\n",
      "      functions 0.0018 0.0099 2.19\n",
      "          stock 0.0042 0.0149 2.16\n",
      "         versus 0.0008 0.0074 2.15\n",
      "             bu 0.0032 0.0124 2.14\n",
      "            fix 0.0044 0.0149 2.12\n",
      "      confirmed 0.0010 0.0074 2.09\n",
      "           wars 0.0021 0.0099 2.09\n",
      "          ##nes 0.0010 0.0074 2.07\n"
     ]
    },
    {
     "name": "stderr",
     "output_type": "stream",
     "text": [
      "\n"
     ]
    }
   ],
   "source": [
    "loss_weights = (losses > 6.13)\n",
    "loss_weights = high_loss_weights / high_loss_weights.sum()\n",
    "getCommonTokens(loss_weights, 0.005, 20)"
   ]
  },
  {
   "cell_type": "markdown",
   "id": "28828173",
   "metadata": {},
   "source": [
    "# SQuAD"
   ]
  },
  {
   "cell_type": "markdown",
   "id": "0ad844bd",
   "metadata": {},
   "source": [
    "## Dataset + tokenizer"
   ]
  },
  {
   "cell_type": "code",
   "execution_count": 260,
   "id": "9c7fb439",
   "metadata": {},
   "outputs": [],
   "source": [
    "dataset = load_from_disk(squad_dir)['validation']"
   ]
  },
  {
   "cell_type": "code",
   "execution_count": 261,
   "id": "b1e9f98d",
   "metadata": {},
   "outputs": [],
   "source": [
    "categories = list(set(dataset['title']))"
   ]
  },
  {
   "cell_type": "code",
   "execution_count": 262,
   "id": "920aa8a3",
   "metadata": {},
   "outputs": [
    {
     "name": "stderr",
     "output_type": "stream",
     "text": [
      "Token indices sequence length is longer than the specified maximum sequence length for this model (629 > 512). Running this sequence through the model will result in indexing errors\n"
     ]
    }
   ],
   "source": [
    "def filter_short_examples(example):\n",
    "    example_length = len(tokenizer(\n",
    "        example[\"question\"],\n",
    "        example[\"context\"],\n",
    "    )['input_ids'])\n",
    "    return example_length < 384\n",
    "short_dataset = dataset.filter(filter_short_examples)"
   ]
  },
  {
   "cell_type": "code",
   "execution_count": 263,
   "id": "54e9b970",
   "metadata": {},
   "outputs": [],
   "source": [
    "tokenizer = AutoTokenizer.from_pretrained(\n",
    "    \"distilbert-base-uncased-distilled-squad\", \n",
    "    cache_dir=squad_model_path, \n",
    "    local_files_only=True\n",
    ")"
   ]
  },
  {
   "cell_type": "code",
   "execution_count": 264,
   "id": "3a1db680",
   "metadata": {},
   "outputs": [
    {
     "name": "stderr",
     "output_type": "stream",
     "text": [
      "100%|██████████| 10386/10386 [00:11<00:00, 934.09it/s]\n"
     ]
    }
   ],
   "source": [
    "unique_tokens = []\n",
    "for i in tqdm(range(len(short_dataset))):\n",
    "    example = short_dataset[i]\n",
    "    tokenized = tokenizer(example[\"question\"], example[\"context\"], return_tensors='pt')\n",
    "    unique_tokens.append(torch.unique(tokenized['input_ids']))"
   ]
  },
  {
   "cell_type": "markdown",
   "id": "aea30029",
   "metadata": {},
   "source": [
    "## Model outputs"
   ]
  },
  {
   "cell_type": "code",
   "execution_count": 265,
   "id": "859e6bf0",
   "metadata": {},
   "outputs": [],
   "source": [
    "embeddings, outputs, losses = loadInferenceResults('inference_results/squad_val_bert.pkl')"
   ]
  },
  {
   "cell_type": "code",
   "execution_count": 266,
   "id": "9c918f34",
   "metadata": {},
   "outputs": [
    {
     "data": {
      "text/plain": [
       "'Who disliked the affiliate program?'"
      ]
     },
     "metadata": {},
     "output_type": "display_data"
    },
    {
     "data": {
      "text/plain": [
       "['passed',\n",
       " 'Several University of Chicago professors',\n",
       " 'Several University of Chicago professors']"
      ]
     },
     "metadata": {},
     "output_type": "display_data"
    },
    {
     "data": {
      "text/plain": [
       "15.388167"
      ]
     },
     "metadata": {},
     "output_type": "display_data"
    },
    {
     "name": "stdout",
     "output_type": "stream",
     "text": [
      "\n"
     ]
    },
    {
     "data": {
      "text/plain": [
       "'In which year were the North and South Courts opened?'"
      ]
     },
     "metadata": {},
     "output_type": "display_data"
    },
    {
     "data": {
      "text/plain": [
       "['Secretariat Wing', 'June 1862', 'June 1862']"
      ]
     },
     "metadata": {},
     "output_type": "display_data"
    },
    {
     "data": {
      "text/plain": [
       "14.664542"
      ]
     },
     "metadata": {},
     "output_type": "display_data"
    },
    {
     "name": "stdout",
     "output_type": "stream",
     "text": [
      "\n"
     ]
    },
    {
     "data": {
      "text/plain": [
       "\"Dutch architect Janjaap Ruijssenaars's performative architecture 3D-printed building is scheduled to be built when?\""
      ]
     },
     "metadata": {},
     "output_type": "display_data"
    },
    {
     "data": {
      "text/plain": [
       "['Working versions of 3D-printing building technology are already printing',\n",
       " '2014',\n",
       " '2014']"
      ]
     },
     "metadata": {},
     "output_type": "display_data"
    },
    {
     "data": {
      "text/plain": [
       "14.02876"
      ]
     },
     "metadata": {},
     "output_type": "display_data"
    },
    {
     "name": "stdout",
     "output_type": "stream",
     "text": [
      "\n"
     ]
    },
    {
     "data": {
      "text/plain": [
       "'Did Tesla graduate from the university?'"
      ]
     },
     "metadata": {},
     "output_type": "display_data"
    },
    {
     "data": {
      "text/plain": [
       "['no', 'not', 'He never graduated']"
      ]
     },
     "metadata": {},
     "output_type": "display_data"
    },
    {
     "data": {
      "text/plain": [
       "13.218931"
      ]
     },
     "metadata": {},
     "output_type": "display_data"
    },
    {
     "name": "stdout",
     "output_type": "stream",
     "text": [
      "\n"
     ]
    },
    {
     "data": {
      "text/plain": [
       "'What position does Jerricho Cotchery play?'"
      ]
     },
     "metadata": {},
     "output_type": "display_data"
    },
    {
     "data": {
      "text/plain": [
       "['receivers', 'receivers', 'receivers']"
      ]
     },
     "metadata": {},
     "output_type": "display_data"
    },
    {
     "data": {
      "text/plain": [
       "12.920362"
      ]
     },
     "metadata": {},
     "output_type": "display_data"
    },
    {
     "name": "stdout",
     "output_type": "stream",
     "text": [
      "\n"
     ]
    },
    {
     "data": {
      "text/plain": [
       "'What is attributed to the income inequality in the United States?'"
      ]
     },
     "metadata": {},
     "output_type": "display_data"
    },
    {
     "data": {
      "text/plain": [
       "['less willing to travel or relocate',\n",
       " 'women not taking jobs due to marriage or pregnancy',\n",
       " 'not taking jobs due to marriage or pregnancy']"
      ]
     },
     "metadata": {},
     "output_type": "display_data"
    },
    {
     "data": {
      "text/plain": [
       "12.913456"
      ]
     },
     "metadata": {},
     "output_type": "display_data"
    },
    {
     "name": "stdout",
     "output_type": "stream",
     "text": [
      "\n"
     ]
    },
    {
     "data": {
      "text/plain": [
       "'Who organized the Britain Can Make It exhibition?'"
      ]
     },
     "metadata": {},
     "output_type": "display_data"
    },
    {
     "data": {
      "text/plain": [
       "['Festival of Britain (1951)',\n",
       " 'Council of Industrial Design',\n",
       " 'the Council of Industrial Design']"
      ]
     },
     "metadata": {},
     "output_type": "display_data"
    },
    {
     "data": {
      "text/plain": [
       "12.896971"
      ]
     },
     "metadata": {},
     "output_type": "display_data"
    },
    {
     "name": "stdout",
     "output_type": "stream",
     "text": [
      "\n"
     ]
    },
    {
     "data": {
      "text/plain": [
       "'If polynomial time can be utilized within an NP-complete problem, what does the imply P is equal to?'"
      ]
     },
     "metadata": {},
     "output_type": "display_data"
    },
    {
     "data": {
      "text/plain": [
       "['NP', 'NP', 'NP']"
      ]
     },
     "metadata": {},
     "output_type": "display_data"
    },
    {
     "data": {
      "text/plain": [
       "12.88658"
      ]
     },
     "metadata": {},
     "output_type": "display_data"
    },
    {
     "name": "stdout",
     "output_type": "stream",
     "text": [
      "\n"
     ]
    },
    {
     "data": {
      "text/plain": [
       "'What is one way of digital civil disobedience that can have far reaching consequences?'"
      ]
     },
     "metadata": {},
     "output_type": "display_data"
    },
    {
     "data": {
      "text/plain": [
       "['sending an email', 'email', 'Supreme Court case', 'broadcasting']"
      ]
     },
     "metadata": {},
     "output_type": "display_data"
    },
    {
     "data": {
      "text/plain": [
       "12.751001"
      ]
     },
     "metadata": {},
     "output_type": "display_data"
    },
    {
     "name": "stdout",
     "output_type": "stream",
     "text": [
      "\n"
     ]
    },
    {
     "data": {
      "text/plain": [
       "'How has civil disobedience evolved in current times?'"
      ]
     },
     "metadata": {},
     "output_type": "display_data"
    },
    {
     "data": {
      "text/plain": [
       "['code-word describing the activities of muggers, arsonists, draft evaders',\n",
       " 'utterly debased',\n",
       " 'become utterly debased',\n",
       " 'become utterly debased',\n",
       " 'become utterly debased']"
      ]
     },
     "metadata": {},
     "output_type": "display_data"
    },
    {
     "data": {
      "text/plain": [
       "12.487267"
      ]
     },
     "metadata": {},
     "output_type": "display_data"
    },
    {
     "name": "stdout",
     "output_type": "stream",
     "text": [
      "\n"
     ]
    }
   ],
   "source": [
    "# Examples of high-loss questions\n",
    "loss_idx = losses.argsort().tolist()[::-1]\n",
    "for idx in loss_idx[0:10]:\n",
    "    example = short_dataset[idx]\n",
    "#     display(example['title'])\n",
    "#     display(example['context'])\n",
    "    display(example['question'])\n",
    "    display(example['answers']['text'])\n",
    "    display(losses[idx])\n",
    "    print()"
   ]
  },
  {
   "cell_type": "markdown",
   "id": "42d497a2",
   "metadata": {},
   "source": [
    "## Spotlights"
   ]
  },
  {
   "cell_type": "code",
   "execution_count": 269,
   "id": "ddf49275",
   "metadata": {},
   "outputs": [],
   "source": [
    "spotlights = {}\n",
    "for count in np.arange(1, 6):\n",
    "    spotlights[count] = loadSpotlightResults(f'spotlight_results/squad_val_bert_0.05_spherical_{count}.pkl')"
   ]
  },
  {
   "cell_type": "markdown",
   "id": "a4c71bbb",
   "metadata": {},
   "source": [
    "### Common tokens"
   ]
  },
  {
   "cell_type": "code",
   "execution_count": 271,
   "id": "2b13037d",
   "metadata": {},
   "outputs": [
    {
     "name": "stderr",
     "output_type": "stream",
     "text": [
      "100%|██████████| 10386/10386 [00:02<00:00, 3513.94it/s]\n"
     ]
    },
    {
     "name": "stdout",
     "output_type": "stream",
     "text": [
      "         packet 0.0048 0.0114 1.67\n",
      "     networking 0.0033 0.0088 1.67\n",
      "            pad 0.0041 0.0100 1.64\n",
      "        packets 0.0032 0.0082 1.62\n",
      "      switching 0.0047 0.0105 1.60\n",
      "  communication 0.0066 0.0127 1.52\n",
      "          ##bed 0.0181 0.0290 1.47\n",
      "       messages 0.0026 0.0062 1.47\n",
      "       ignition 0.0016 0.0047 1.46\n",
      "          ##lee 0.0032 0.0068 1.45\n",
      "        circuit 0.0039 0.0079 1.44\n",
      "      bandwidth 0.0013 0.0041 1.44\n",
      "        ##ience 0.0184 0.0285 1.43\n",
      "          ##ncy 0.0020 0.0051 1.43\n",
      "       paradigm 0.0007 0.0031 1.43\n",
      "           pure 0.0053 0.0097 1.42\n",
      "      protocols 0.0016 0.0044 1.42\n",
      "          alice 0.0025 0.0056 1.41\n",
      "      energetic 0.0013 0.0038 1.41\n",
      "         inputs 0.0026 0.0057 1.40\n"
     ]
    }
   ],
   "source": [
    "getCommonTokens(spotlights[1][0], 0.005, 20)"
   ]
  },
  {
   "cell_type": "code",
   "execution_count": 272,
   "id": "e8e07d1d",
   "metadata": {},
   "outputs": [
    {
     "name": "stderr",
     "output_type": "stream",
     "text": [
      "100%|██████████| 10386/10386 [00:02<00:00, 3546.26it/s]"
     ]
    },
    {
     "name": "stdout",
     "output_type": "stream",
     "text": [
      "          ##bed 0.0181 0.0300 1.52\n",
      "            why 0.0238 0.0380 1.49\n",
      "         ##ient 0.0086 0.0151 1.48\n",
      "        ##ience 0.0184 0.0295 1.48\n",
      "           know 0.0065 0.0113 1.41\n",
      "           ##so 0.0236 0.0351 1.40\n",
      "         arrest 0.0052 0.0093 1.40\n",
      "          ##lor 0.0292 0.0427 1.40\n",
      "     collective 0.0034 0.0065 1.38\n",
      "          ##las 0.0271 0.0390 1.37\n",
      "             ch 0.0285 0.0410 1.37\n",
      "         packet 0.0048 0.0085 1.37\n",
      "          ##lak 0.0089 0.0136 1.34\n",
      "       membrane 0.0097 0.0146 1.33\n",
      "           wage 0.0042 0.0073 1.33\n",
      "        happens 0.0040 0.0070 1.33\n",
      "          might 0.0167 0.0236 1.32\n",
      "     protesters 0.0015 0.0036 1.32\n",
      "           thor 0.0056 0.0090 1.32\n",
      "         guilty 0.0034 0.0060 1.32\n"
     ]
    },
    {
     "name": "stderr",
     "output_type": "stream",
     "text": [
      "\n"
     ]
    }
   ],
   "source": [
    "getCommonTokens(spotlights[2][0], 0.005, 20)"
   ]
  },
  {
   "cell_type": "code",
   "execution_count": 273,
   "id": "87dab2c0",
   "metadata": {},
   "outputs": [
    {
     "name": "stderr",
     "output_type": "stream",
     "text": [
      "100%|██████████| 10386/10386 [00:02<00:00, 3587.59it/s]"
     ]
    },
    {
     "name": "stdout",
     "output_type": "stream",
     "text": [
      "          ##bed 0.0181 0.0257 1.33\n",
      "         packet 0.0048 0.0080 1.32\n",
      "            why 0.0238 0.0327 1.31\n",
      "        ##ience 0.0184 0.0256 1.31\n",
      "         ##ient 0.0086 0.0123 1.28\n",
      "        packets 0.0032 0.0054 1.27\n",
      "           ##so 0.0236 0.0306 1.24\n",
      "     punishment 0.0066 0.0093 1.23\n",
      "           know 0.0065 0.0092 1.23\n",
      "          ##lor 0.0292 0.0365 1.21\n",
      "         arrest 0.0052 0.0074 1.21\n",
      "       messages 0.0026 0.0042 1.21\n",
      "             ch 0.0285 0.0354 1.21\n",
      "      switching 0.0047 0.0067 1.20\n",
      "        circuit 0.0039 0.0058 1.20\n",
      "     collective 0.0034 0.0050 1.20\n",
      "          ##las 0.0271 0.0332 1.19\n",
      "          wages 0.0072 0.0096 1.19\n",
      "         guilty 0.0034 0.0050 1.19\n",
      "     networking 0.0033 0.0048 1.19\n"
     ]
    },
    {
     "name": "stderr",
     "output_type": "stream",
     "text": [
      "\n"
     ]
    }
   ],
   "source": [
    "getCommonTokens(spotlights[3][0], 0.005, 20)"
   ]
  },
  {
   "cell_type": "code",
   "execution_count": 274,
   "id": "ebb22c89",
   "metadata": {},
   "outputs": [],
   "source": [
    "# getCommonTokens(spotlights[4][0], 0.005, 20)"
   ]
  },
  {
   "cell_type": "code",
   "execution_count": 275,
   "id": "af638df4",
   "metadata": {},
   "outputs": [],
   "source": [
    "# getCommonTokens(spotlights[5][0], 0.005, 20)"
   ]
  },
  {
   "cell_type": "code",
   "execution_count": 229,
   "id": "01a06460",
   "metadata": {},
   "outputs": [
    {
     "data": {
      "text/plain": [
       "7.583634710311874"
      ]
     },
     "execution_count": 229,
     "metadata": {},
     "output_type": "execute_result"
    }
   ],
   "source": [
    "np.quantile(losses, 0.98)"
   ]
  },
  {
   "cell_type": "code",
   "execution_count": 230,
   "id": "d91d50f6",
   "metadata": {},
   "outputs": [
    {
     "name": "stderr",
     "output_type": "stream",
     "text": [
      "100%|██████████| 10386/10386 [00:02<00:00, 4065.87it/s]\n"
     ]
    },
    {
     "name": "stdout",
     "output_type": "stream",
     "text": [
      "          sacks 0.0079 0.0529 4.49\n",
      "            ##½ 0.0065 0.0433 4.18\n",
      "        tackles 0.0065 0.0433 4.18\n",
      "       confused 0.0020 0.0240 4.14\n",
      "          ##bed 0.0181 0.0865 3.96\n",
      "        ##ience 0.0184 0.0865 3.91\n",
      "          yards 0.0161 0.0769 3.89\n",
      "       behavior 0.0052 0.0337 3.79\n",
      "     touchdowns 0.0065 0.0385 3.76\n",
      "     defendants 0.0014 0.0192 3.76\n",
      "     protesters 0.0015 0.0192 3.70\n",
      "     cornerback 0.0041 0.0288 3.70\n",
      "  interceptions 0.0081 0.0433 3.69\n",
      "         fumble 0.0094 0.0481 3.68\n",
      "         ##ling 0.0057 0.0337 3.62\n",
      "         ##ient 0.0086 0.0433 3.56\n",
      "      touchdown 0.0078 0.0385 3.40\n",
      "          judge 0.0050 0.0288 3.38\n",
      "         dallas 0.0037 0.0240 3.35\n",
      "      defensive 0.0065 0.0337 3.35\n"
     ]
    }
   ],
   "source": [
    "loss_weights = (losses > 7.58)\n",
    "loss_weights = loss_weights / loss_weights.sum()\n",
    "getCommonTokens(loss_weights, 0.005, 20)"
   ]
  },
  {
   "cell_type": "markdown",
   "id": "88aa76f0",
   "metadata": {},
   "source": [
    "### Topic distributions"
   ]
  },
  {
   "cell_type": "code",
   "execution_count": 276,
   "id": "e964bac9",
   "metadata": {},
   "outputs": [],
   "source": [
    "def getTopicDistribution(weights, smoothing=0.01):\n",
    "    topic_frequencies = defaultdict(float)\n",
    "    topic_frequencies_spotlight = defaultdict(float)\n",
    "\n",
    "    weights_uniform = np.full_like(weights, 1 / len(weights))\n",
    "\n",
    "    num_examples = len(weights)\n",
    "    for i in range(num_examples):\n",
    "        example = short_dataset[i]\n",
    "        category = example['title']\n",
    "        topic_frequencies[category] += weights_uniform[i]\n",
    "        topic_frequencies_spotlight[category] += weights[i]\n",
    "        \n",
    "    topic_ratios = {c: (smoothing + topic_frequencies_spotlight[c]) / (smoothing + topic_frequencies[c]) for c in topic_frequencies}\n",
    "\n",
    "    categories_sorted = map(lambda x: x[0], sorted(topic_ratios.items(), key=lambda x: x[1], reverse=True))\n",
    "    for category in categories_sorted:\n",
    "        print('%.3f %.3f %.2f %s' % (topic_frequencies[category], topic_frequencies_spotlight[category], topic_ratios[category], category))"
   ]
  },
  {
   "cell_type": "code",
   "execution_count": 277,
   "id": "a2fc68f5",
   "metadata": {},
   "outputs": [
    {
     "name": "stdout",
     "output_type": "stream",
     "text": [
      "0.010 0.023 2.36 Packet_switching\n",
      "0.019 0.031 1.61 Computational_complexity_theory\n",
      "0.025 0.040 1.60 Teacher\n",
      "0.019 0.030 1.57 Civil_disobedience\n",
      "0.010 0.015 1.47 Intergovernmental_Panel_on_Climate_Change\n",
      "0.017 0.023 1.40 French_and_Indian_War\n",
      "0.024 0.031 1.29 Oxygen\n",
      "0.021 0.026 1.25 Huguenot\n",
      "0.020 0.025 1.24 Force\n",
      "0.012 0.015 1.23 Pharmacy\n",
      "0.010 0.012 1.19 Normans\n",
      "0.012 0.014 1.18 Victoria_(Australia)\n",
      "0.049 0.057 1.16 Nikola_Tesla\n",
      "0.046 0.053 1.16 Martin_Luther\n",
      "0.022 0.025 1.12 Kenya\n",
      "0.030 0.033 1.10 Doctor_Who\n",
      "0.010 0.011 1.08 Black_Death\n",
      "0.028 0.031 1.08 Chloroplast\n",
      "0.009 0.010 1.07 Jacksonville,_Florida\n",
      "0.017 0.018 1.06 Southern_California\n",
      "0.015 0.016 1.06 Prime_number\n",
      "0.028 0.029 1.06 Economic_inequality\n",
      "0.023 0.024 1.02 Genghis_Khan\n",
      "0.011 0.011 1.01 Private_school\n",
      "0.018 0.018 1.00 Scottish_Parliament\n",
      "0.076 0.075 0.99 Super_Bowl_50\n",
      "0.023 0.023 0.97 Apollo_program\n",
      "0.018 0.016 0.92 Imperialism\n",
      "0.010 0.009 0.90 Sky_(United_Kingdom)\n",
      "0.021 0.019 0.87 Yuan_dynasty\n",
      "0.028 0.024 0.87 Rhine\n",
      "0.017 0.014 0.86 Ctenophora\n",
      "0.021 0.018 0.85 Steam_engine\n",
      "0.019 0.016 0.83 Islamism\n",
      "0.010 0.008 0.79 1973_oil_crisis\n",
      "0.018 0.013 0.75 Amazon_rainforest\n",
      "0.011 0.008 0.74 Geology\n",
      "0.009 0.007 0.71 Construction\n",
      "0.027 0.019 0.70 Victoria_and_Albert_Museum\n",
      "0.013 0.009 0.69 Fresno,_California\n",
      "0.011 0.007 0.69 Harvard_University\n",
      "0.024 0.016 0.68 Warsaw\n",
      "0.025 0.017 0.66 Newcastle_upon_Tyne\n",
      "0.018 0.011 0.63 United_Methodist_Church\n",
      "0.017 0.010 0.58 University_of_Chicago\n",
      "0.023 0.013 0.58 Immune_system\n",
      "0.039 0.020 0.50 American_Broadcasting_Company\n",
      "0.016 0.008 0.47 European_Union_law\n"
     ]
    }
   ],
   "source": [
    "getTopicDistribution(spotlights[1][0], smoothing=0)"
   ]
  },
  {
   "cell_type": "code",
   "execution_count": 278,
   "id": "fb5857d4",
   "metadata": {},
   "outputs": [
    {
     "name": "stdout",
     "output_type": "stream",
     "text": [
      "0.019 0.032 1.67 Civil_disobedience\n",
      "0.010 0.015 1.57 Packet_switching\n",
      "0.028 0.041 1.45 Chloroplast\n",
      "0.017 0.022 1.35 French_and_Indian_War\n",
      "0.015 0.020 1.34 Prime_number\n",
      "0.012 0.016 1.33 Pharmacy\n",
      "0.010 0.013 1.24 Black_Death\n",
      "0.017 0.020 1.23 Ctenophora\n",
      "0.023 0.027 1.18 Genghis_Khan\n",
      "0.020 0.023 1.17 Force\n",
      "0.024 0.027 1.15 Oxygen\n",
      "0.028 0.032 1.15 Economic_inequality\n",
      "0.019 0.022 1.14 Computational_complexity_theory\n",
      "0.046 0.052 1.13 Martin_Luther\n",
      "0.010 0.011 1.10 Intergovernmental_Panel_on_Climate_Change\n",
      "0.022 0.024 1.09 Kenya\n",
      "0.021 0.023 1.09 Yuan_dynasty\n",
      "0.021 0.022 1.07 Huguenot\n",
      "0.009 0.010 1.07 Jacksonville,_Florida\n",
      "0.018 0.019 1.07 Imperialism\n",
      "0.025 0.025 0.99 Teacher\n",
      "0.028 0.028 0.99 Rhine\n",
      "0.030 0.029 0.99 Doctor_Who\n",
      "0.018 0.018 0.97 Scottish_Parliament\n",
      "0.011 0.011 0.96 Geology\n",
      "0.010 0.010 0.94 Sky_(United_Kingdom)\n",
      "0.011 0.010 0.93 Private_school\n",
      "0.023 0.021 0.93 Immune_system\n",
      "0.049 0.046 0.93 Nikola_Tesla\n",
      "0.023 0.021 0.92 Apollo_program\n",
      "0.010 0.009 0.91 1973_oil_crisis\n",
      "0.010 0.009 0.90 Normans\n",
      "0.027 0.024 0.90 Victoria_and_Albert_Museum\n",
      "0.019 0.017 0.89 Islamism\n",
      "0.018 0.016 0.89 Amazon_rainforest\n",
      "0.021 0.018 0.86 Steam_engine\n",
      "0.012 0.010 0.85 Victoria_(Australia)\n",
      "0.011 0.009 0.82 Harvard_University\n",
      "0.016 0.013 0.81 European_Union_law\n",
      "0.076 0.060 0.79 Super_Bowl_50\n",
      "0.024 0.019 0.79 Warsaw\n",
      "0.025 0.020 0.77 Newcastle_upon_Tyne\n",
      "0.009 0.007 0.76 Construction\n",
      "0.039 0.030 0.75 American_Broadcasting_Company\n",
      "0.013 0.009 0.75 Fresno,_California\n",
      "0.018 0.013 0.74 United_Methodist_Church\n",
      "0.017 0.013 0.74 University_of_Chicago\n",
      "0.017 0.013 0.73 Southern_California\n"
     ]
    }
   ],
   "source": [
    "getTopicDistribution(spotlights[2][0], smoothing=0)"
   ]
  },
  {
   "cell_type": "code",
   "execution_count": 280,
   "id": "c446bafa",
   "metadata": {},
   "outputs": [
    {
     "name": "stdout",
     "output_type": "stream",
     "text": [
      "0.010 0.015 1.53 Packet_switching\n",
      "0.019 0.027 1.43 Civil_disobedience\n",
      "0.012 0.015 1.24 Pharmacy\n",
      "0.028 0.035 1.24 Chloroplast\n",
      "0.019 0.023 1.22 Computational_complexity_theory\n",
      "0.017 0.020 1.22 French_and_Indian_War\n",
      "0.025 0.030 1.19 Teacher\n",
      "0.020 0.023 1.14 Force\n",
      "0.015 0.017 1.14 Prime_number\n",
      "0.010 0.011 1.13 Intergovernmental_Panel_on_Climate_Change\n",
      "0.010 0.012 1.13 Black_Death\n",
      "0.046 0.051 1.11 Martin_Luther\n",
      "0.017 0.018 1.10 Ctenophora\n",
      "0.024 0.026 1.10 Oxygen\n",
      "0.028 0.030 1.09 Economic_inequality\n",
      "0.023 0.025 1.06 Genghis_Khan\n",
      "0.022 0.024 1.06 Kenya\n",
      "0.021 0.022 1.04 Huguenot\n",
      "0.009 0.010 1.03 Jacksonville,_Florida\n",
      "0.049 0.050 1.02 Nikola_Tesla\n",
      "0.021 0.022 1.01 Yuan_dynasty\n",
      "0.018 0.018 1.01 Imperialism\n",
      "0.030 0.030 1.00 Doctor_Who\n",
      "0.018 0.018 1.00 Scottish_Parliament\n",
      "0.010 0.010 0.99 Normans\n",
      "0.012 0.012 0.96 Victoria_(Australia)\n",
      "0.010 0.010 0.95 Sky_(United_Kingdom)\n",
      "0.017 0.016 0.94 Southern_California\n",
      "0.076 0.071 0.94 Super_Bowl_50\n",
      "0.011 0.010 0.94 Private_school\n",
      "0.028 0.026 0.93 Rhine\n",
      "0.023 0.022 0.93 Apollo_program\n",
      "0.011 0.010 0.93 Geology\n",
      "0.010 0.009 0.92 1973_oil_crisis\n",
      "0.018 0.016 0.90 Amazon_rainforest\n",
      "0.019 0.017 0.89 Islamism\n",
      "0.023 0.020 0.88 Immune_system\n",
      "0.021 0.018 0.87 Steam_engine\n",
      "0.027 0.023 0.86 Victoria_and_Albert_Museum\n",
      "0.016 0.014 0.86 European_Union_law\n",
      "0.009 0.008 0.85 Construction\n",
      "0.011 0.009 0.83 Harvard_University\n",
      "0.013 0.011 0.83 Fresno,_California\n",
      "0.024 0.019 0.81 Warsaw\n",
      "0.025 0.021 0.81 Newcastle_upon_Tyne\n",
      "0.018 0.014 0.80 United_Methodist_Church\n",
      "0.017 0.013 0.76 University_of_Chicago\n",
      "0.039 0.030 0.76 American_Broadcasting_Company\n"
     ]
    }
   ],
   "source": [
    "getTopicDistribution(spotlights[3][0], smoothing=0)"
   ]
  },
  {
   "cell_type": "code",
   "execution_count": 235,
   "id": "baa2a942",
   "metadata": {},
   "outputs": [
    {
     "name": "stdout",
     "output_type": "stream",
     "text": [
      "0.019 0.091 4.82 Civil_disobedience\n",
      "0.010 0.029 2.83 1973_oil_crisis\n",
      "0.019 0.053 2.79 Computational_complexity_theory\n",
      "0.076 0.168 2.21 Super_Bowl_50\n",
      "0.018 0.038 2.15 Imperialism\n",
      "0.012 0.024 2.01 Pharmacy\n",
      "0.024 0.043 1.82 Oxygen\n",
      "0.010 0.014 1.47 Packet_switching\n",
      "0.010 0.014 1.44 Intergovernmental_Panel_on_Climate_Change\n",
      "0.027 0.038 1.43 Victoria_and_Albert_Museum\n",
      "0.017 0.024 1.42 University_of_Chicago\n",
      "0.028 0.034 1.22 Economic_inequality\n",
      "0.046 0.053 1.16 Martin_Luther\n",
      "0.013 0.014 1.14 Fresno,_California\n",
      "0.028 0.029 1.03 Rhine\n",
      "0.028 0.029 1.02 Chloroplast\n",
      "0.015 0.014 0.98 Prime_number\n",
      "0.020 0.019 0.97 Force\n",
      "0.025 0.024 0.96 Teacher\n",
      "0.010 0.010 0.92 Normans\n",
      "0.021 0.019 0.90 Yuan_dynasty\n",
      "0.011 0.010 0.88 Private_school\n",
      "0.023 0.019 0.84 Immune_system\n",
      "0.049 0.038 0.78 Nikola_Tesla\n",
      "0.021 0.014 0.69 Huguenot\n",
      "0.017 0.010 0.58 French_and_Indian_War\n",
      "0.018 0.010 0.53 United_Methodist_Church\n",
      "0.009 0.005 0.52 Jacksonville,_Florida\n",
      "0.009 0.005 0.51 Construction\n",
      "0.030 0.014 0.48 Doctor_Who\n",
      "0.010 0.005 0.46 Black_Death\n",
      "0.011 0.005 0.45 Harvard_University\n",
      "0.023 0.010 0.42 Genghis_Khan\n",
      "0.023 0.010 0.41 Apollo_program\n",
      "0.024 0.010 0.40 Warsaw\n",
      "0.012 0.005 0.40 Victoria_(Australia)\n",
      "0.025 0.010 0.38 Newcastle_upon_Tyne\n",
      "0.016 0.005 0.29 European_Union_law\n",
      "0.017 0.005 0.29 Ctenophora\n",
      "0.017 0.005 0.28 Southern_California\n",
      "0.018 0.005 0.27 Amazon_rainforest\n",
      "0.018 0.005 0.26 Scottish_Parliament\n",
      "0.019 0.005 0.25 Islamism\n",
      "0.021 0.005 0.23 Steam_engine\n",
      "0.022 0.005 0.22 Kenya\n",
      "0.010 0.000 0.00 Sky_(United_Kingdom)\n",
      "0.011 0.000 0.00 Geology\n",
      "0.039 0.000 0.00 American_Broadcasting_Company\n"
     ]
    }
   ],
   "source": [
    "loss_weights = (losses > 7.58)\n",
    "loss_weights = loss_weights / loss_weights.sum()\n",
    "getTopicDistribution(loss_weights, 0)"
   ]
  },
  {
   "cell_type": "code",
   "execution_count": null,
   "id": "ac0fc8a3",
   "metadata": {},
   "outputs": [],
   "source": []
  }
 ],
 "metadata": {
  "kernelspec": {
   "display_name": "Python 3",
   "language": "python",
   "name": "python3"
  },
  "language_info": {
   "codemirror_mode": {
    "name": "ipython",
    "version": 3
   },
   "file_extension": ".py",
   "mimetype": "text/x-python",
   "name": "python",
   "nbconvert_exporter": "python",
   "pygments_lexer": "ipython3",
   "version": "3.7.5"
  }
 },
 "nbformat": 4,
 "nbformat_minor": 5
}
