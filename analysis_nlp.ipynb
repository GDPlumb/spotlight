{
 "cells": [
  {
   "cell_type": "code",
   "execution_count": 1,
   "id": "3ea8ad05",
   "metadata": {},
   "outputs": [],
   "source": [
    "%load_ext autoreload\n",
    "%autoreload 2"
   ]
  },
  {
   "cell_type": "code",
   "execution_count": 2,
   "id": "1a4ef422",
   "metadata": {},
   "outputs": [
    {
     "name": "stderr",
     "output_type": "stream",
     "text": [
      "Matplotlib created a temporary config/cache directory at /tmp/pbs.3067811.pbsha.ib.sockeye/matplotlib-5shwz1vk because the default path (/home/gregdeon/.config/matplotlib) is not a writable directory; it is highly recommended to set the MPLCONFIGDIR environment variable to a writable directory, in particular to speed up the import of Matplotlib and to better support multiprocessing.\n"
     ]
    }
   ],
   "source": [
    "import torch\n",
    "from datasets import load_from_disk\n",
    "from transformers import AutoTokenizer\n",
    "\n",
    "import os\n",
    "import itertools\n",
    "import json\n",
    "import numpy as np\n",
    "from tqdm import tqdm\n",
    "from collections import defaultdict\n",
    "import matplotlib.pyplot as plt"
   ]
  },
  {
   "cell_type": "code",
   "execution_count": 3,
   "id": "4192fec8",
   "metadata": {},
   "outputs": [],
   "source": [
    "# work around crazy huggingface requirements\n",
    "from datasets.utils.logging import set_verbosity_error\n",
    "set_verbosity_error()"
   ]
  },
  {
   "cell_type": "code",
   "execution_count": 4,
   "id": "5f11e58a",
   "metadata": {},
   "outputs": [],
   "source": [
    "# from spotlight.datasets import *\n",
    "from torch_spotlight.utils import *\n",
    "from torch_spotlight.plot_utils import *\n",
    "\n",
    "setupPlots()"
   ]
  },
  {
   "cell_type": "code",
   "execution_count": 5,
   "id": "77cf51e0-c770-45ff-bc76-2b95231db064",
   "metadata": {},
   "outputs": [],
   "source": [
    "# on our cluster, use tmpdir for data and models\n",
    "os.environ['DATA_DIR'] = os.environ['TMPDIR']\n",
    "os.environ['MODEL_DIR'] = os.environ['TMPDIR']"
   ]
  },
  {
   "cell_type": "code",
   "execution_count": 6,
   "id": "6097000e",
   "metadata": {},
   "outputs": [],
   "source": [
    "data_dir = os.environ['DATA_DIR'] \n",
    "model_dir = os.environ['MODEL_DIR'] \n",
    "amazon_dir = os.path.join(data_dir, 'amazon')\n",
    "amazon_model_path = os.path.join(model_dir, 'amazon')\n",
    "squad_dir = os.path.join(data_dir, 'squad')\n",
    "squad_model_path = os.path.join(model_dir, 'squad')"
   ]
  },
  {
   "cell_type": "markdown",
   "id": "a5cc147a",
   "metadata": {},
   "source": [
    "# Amazon reviews"
   ]
  },
  {
   "cell_type": "markdown",
   "id": "a7064eab",
   "metadata": {},
   "source": [
    "## Dataset + tokenizer"
   ]
  },
  {
   "cell_type": "code",
   "execution_count": 7,
   "id": "02e1c34c",
   "metadata": {},
   "outputs": [],
   "source": [
    "dataset = load_from_disk(amazon_dir)['test']"
   ]
  },
  {
   "cell_type": "code",
   "execution_count": 8,
   "id": "7cc00872",
   "metadata": {},
   "outputs": [],
   "source": [
    "num_examples = 20000\n",
    "amazon_labels = [dataset[i]['label'] for i in range(num_examples)]"
   ]
  },
  {
   "cell_type": "code",
   "execution_count": 9,
   "id": "9298c0ae",
   "metadata": {},
   "outputs": [],
   "source": [
    "tokenizer = AutoTokenizer.from_pretrained(\n",
    "    \"distilbert-base-uncased-finetuned-sst-2-english\", \n",
    "    cache_dir=amazon_model_path, \n",
    "    do_lower_case=True, \n",
    "    do_basic_tokenize=True,\n",
    "    local_files_only=True\n",
    ")"
   ]
  },
  {
   "cell_type": "code",
   "execution_count": 10,
   "id": "85907e5e",
   "metadata": {},
   "outputs": [
    {
     "name": "stderr",
     "output_type": "stream",
     "text": [
      "100%|██████████| 20000/20000 [00:13<00:00, 1518.79it/s]\n"
     ]
    }
   ],
   "source": [
    "tokens = []\n",
    "unique_tokens = []\n",
    "for i in tqdm(range(num_examples)):\n",
    "    tokenized = tokenizer(dataset[i]['content'], padding=True, return_tensors='pt')\n",
    "    tokens.append(tokenized['input_ids'].flatten())\n",
    "    unique_tokens.append(torch.unique(tokenized['input_ids']))"
   ]
  },
  {
   "cell_type": "code",
   "execution_count": 16,
   "id": "713dbb05-33e7-4942-bbcd-8339c6a12ac5",
   "metadata": {},
   "outputs": [
    {
     "name": "stderr",
     "output_type": "stream",
     "text": [
      "100%|██████████| 20000/20000 [00:01<00:00, 17057.46it/s]\n"
     ]
    }
   ],
   "source": [
    "review_lengths = []\n",
    "for i in tqdm(range(num_examples)):\n",
    "    review_lengths.append(len(dataset[i]['content'].split()))\n",
    "review_lengths = np.array(review_lengths)"
   ]
  },
  {
   "cell_type": "code",
   "execution_count": 17,
   "id": "c4b175f0-2dd3-462e-935c-1d540f216795",
   "metadata": {},
   "outputs": [
    {
     "data": {
      "text/plain": [
       "(array([2509., 3849., 3416., 2773., 2325., 1927., 1384., 1150.,  568.,\n",
       "          99.]),\n",
       " array([  8. ,  27.4,  46.8,  66.2,  85.6, 105. , 124.4, 143.8, 163.2,\n",
       "        182.6, 202. ]),\n",
       " <BarContainer object of 10 artists>)"
      ]
     },
     "execution_count": 17,
     "metadata": {},
     "output_type": "execute_result"
    },
    {
     "data": {
      "image/png": "[encoded data removed]",
      "text/plain": [
       "<Figure size 900x600 with 1 Axes>"
      ]
     },
     "metadata": {
      "needs_background": "light"
     },
     "output_type": "display_data"
    }
   ],
   "source": [
    "plt.hist(review_lengths)"
   ]
  },
  {
   "cell_type": "code",
   "execution_count": 23,
   "id": "68ee0fdc-2109-41d8-ba79-8cb6d5e94b54",
   "metadata": {},
   "outputs": [],
   "source": [
    "def getAverageReviewLength(weights):\n",
    "    return weights @ review_lengths / (weights.sum()) "
   ]
  },
  {
   "cell_type": "markdown",
   "id": "ca9114d4",
   "metadata": {},
   "source": [
    "## Model outputs"
   ]
  },
  {
   "cell_type": "code",
   "execution_count": 18,
   "id": "fbba6bd1",
   "metadata": {},
   "outputs": [],
   "source": [
    "inference = loadResults('inference_results/amazon_test_sst.pkl')\n",
    "embeddings = inference.embeddings\n",
    "outputs = inference.outputs \n",
    "losses = inference.losses"
   ]
  },
  {
   "cell_type": "code",
   "execution_count": 25,
   "id": "ade872d6",
   "metadata": {},
   "outputs": [],
   "source": [
    "def displayReviews(idx_list):\n",
    "    for idx in idx_list:\n",
    "        example = dataset[idx]\n",
    "        display(example['content'])\n",
    "        display(example['label'])\n",
    "        display(losses[idx])\n",
    "        print()\n",
    "        \n",
    "def getCommonTokens(weights, smoothing=0.01, print_first=50):\n",
    "    token_frequencies = defaultdict(float)\n",
    "    token_frequencies_spotlight = defaultdict(float)\n",
    "\n",
    "    weights_uniform = np.full_like(weights, 1 / len(weights))\n",
    "\n",
    "    num_examples = len(weights)\n",
    "    for i in tqdm(range(num_examples)):\n",
    "        for token in unique_tokens[i]:\n",
    "            token_frequencies[token.item()] += weights_uniform[i]\n",
    "            token_frequencies_spotlight[token.item()] += weights[i]\n",
    "            \n",
    "    token_lrs = {k: (smoothing+token_frequencies_spotlight[k]) / (smoothing+token_frequencies[k]) for k in token_frequencies}\n",
    "    tokens_sorted = list(map(lambda x: x[0], sorted(token_lrs.items(), key=lambda x: x[1])[::-1]))\n",
    "    for i, (token) in enumerate(tokens_sorted[:print_first]):\n",
    "        print('%15s %.4f %.4f %4.2f' % (tokenizer.decode(token), token_frequencies[token], token_frequencies_spotlight[token], token_lrs[token]))"
   ]
  },
  {
   "cell_type": "code",
   "execution_count": 20,
   "id": "f925a239-def8-4443-9a7b-c5339a59e631",
   "metadata": {},
   "outputs": [
    {
     "data": {
      "text/plain": [
       "\"This production is so awesome we can't stop watching it over and over. It is one of the finest vocal performances I have ever seen.\""
      ]
     },
     "metadata": {},
     "output_type": "display_data"
    },
    {
     "data": {
      "text/plain": [
       "0"
      ]
     },
     "metadata": {},
     "output_type": "display_data"
    },
    {
     "data": {
      "text/plain": [
       "tensor(9.0710)"
      ]
     },
     "metadata": {},
     "output_type": "display_data"
    },
    {
     "name": "stdout",
     "output_type": "stream",
     "text": [
      "\n"
     ]
    },
    {
     "data": {
      "text/plain": [
       "'Very nice peridot necklace. I bought the 3-piece set for a birthday gift, and I was proud to give it as a gift.'"
      ]
     },
     "metadata": {},
     "output_type": "display_data"
    },
    {
     "data": {
      "text/plain": [
       "0"
      ]
     },
     "metadata": {},
     "output_type": "display_data"
    },
    {
     "data": {
      "text/plain": [
       "tensor(8.9754)"
      ]
     },
     "metadata": {},
     "output_type": "display_data"
    },
    {
     "name": "stdout",
     "output_type": "stream",
     "text": [
      "\n"
     ]
    },
    {
     "data": {
      "text/plain": [
       "'love the movie. made me cry. I was expecting the original movie but it still is a wonderful story to watch'"
      ]
     },
     "metadata": {},
     "output_type": "display_data"
    },
    {
     "data": {
      "text/plain": [
       "0"
      ]
     },
     "metadata": {},
     "output_type": "display_data"
    },
    {
     "data": {
      "text/plain": [
       "tensor(8.9253)"
      ]
     },
     "metadata": {},
     "output_type": "display_data"
    },
    {
     "name": "stdout",
     "output_type": "stream",
     "text": [
      "\n"
     ]
    },
    {
     "data": {
      "text/plain": [
       "'This was my first encounter with the magical realism style and I love it! The Buendia family is quite possibly the most intriguing I have encountered in any book. A must read.'"
      ]
     },
     "metadata": {},
     "output_type": "display_data"
    },
    {
     "data": {
      "text/plain": [
       "0"
      ]
     },
     "metadata": {},
     "output_type": "display_data"
    },
    {
     "data": {
      "text/plain": [
       "tensor(8.9095)"
      ]
     },
     "metadata": {},
     "output_type": "display_data"
    },
    {
     "name": "stdout",
     "output_type": "stream",
     "text": [
      "\n"
     ]
    },
    {
     "data": {
      "text/plain": [
       "'This one gift I could give my grown daughter. I read this book over and over to her as a child. It was in wonderful condition!'"
      ]
     },
     "metadata": {},
     "output_type": "display_data"
    },
    {
     "data": {
      "text/plain": [
       "0"
      ]
     },
     "metadata": {},
     "output_type": "display_data"
    },
    {
     "data": {
      "text/plain": [
       "tensor(8.8914)"
      ]
     },
     "metadata": {},
     "output_type": "display_data"
    },
    {
     "name": "stdout",
     "output_type": "stream",
     "text": [
      "\n"
     ]
    },
    {
     "data": {
      "text/plain": [
       "\"I watched the movie on Cartoon Network about two years ago. It's an excellent movie, I tell you. It's facinating!!! ^_^I loved the characters and their personalities. I seriously loved the art designs animation. It brings out the true life of the movie. In my opinion, this DVD is great! You should get this DVD and soon. It ROCKS! ^_^!\""
      ]
     },
     "metadata": {},
     "output_type": "display_data"
    },
    {
     "data": {
      "text/plain": [
       "0"
      ]
     },
     "metadata": {},
     "output_type": "display_data"
    },
    {
     "data": {
      "text/plain": [
       "tensor(8.8772)"
      ]
     },
     "metadata": {},
     "output_type": "display_data"
    },
    {
     "name": "stdout",
     "output_type": "stream",
     "text": [
      "\n"
     ]
    },
    {
     "data": {
      "text/plain": [
       "'Like it. Love it. Live in Paris will always be in my top 5. She is a star with this incredible band. Some of her originals are too melancholy for me, but she is truly unique in her talents. Who else can compose, sing and play jazz piano like that? Who was the girl?'"
      ]
     },
     "metadata": {},
     "output_type": "display_data"
    },
    {
     "data": {
      "text/plain": [
       "0"
      ]
     },
     "metadata": {},
     "output_type": "display_data"
    },
    {
     "data": {
      "text/plain": [
       "tensor(8.7896)"
      ]
     },
     "metadata": {},
     "output_type": "display_data"
    },
    {
     "name": "stdout",
     "output_type": "stream",
     "text": [
      "\n"
     ]
    },
    {
     "data": {
      "text/plain": [
       "'This is Hawaiian music done very well. Darnall is a master arranger and player of string instruments. Most songs could be background music. However! Over the Rainbow is pure genius. Unforgettable. I would use the word, haunting. I think Judy Garland would approve.'"
      ]
     },
     "metadata": {},
     "output_type": "display_data"
    },
    {
     "data": {
      "text/plain": [
       "0"
      ]
     },
     "metadata": {},
     "output_type": "display_data"
    },
    {
     "data": {
      "text/plain": [
       "tensor(8.7384)"
      ]
     },
     "metadata": {},
     "output_type": "display_data"
    },
    {
     "name": "stdout",
     "output_type": "stream",
     "text": [
      "\n"
     ]
    },
    {
     "data": {
      "text/plain": [
       "'Jerry Garcia was a stone cold genius. The Grateful Dead was his backup band. Bob Weir\\'s solo work is easily as good as the solo work of Bill Wyman, Keith Moon, Dave Davies, and Clarence Clemmons. From a 40 year career this is the \"best\" they could come up with?'"
      ]
     },
     "metadata": {},
     "output_type": "display_data"
    },
    {
     "data": {
      "text/plain": [
       "0"
      ]
     },
     "metadata": {},
     "output_type": "display_data"
    },
    {
     "data": {
      "text/plain": [
       "tensor(8.7288)"
      ]
     },
     "metadata": {},
     "output_type": "display_data"
    },
    {
     "name": "stdout",
     "output_type": "stream",
     "text": [
      "\n"
     ]
    },
    {
     "data": {
      "text/plain": [
       "'The background music is not clear and the CD was a waste of money. One star is too high.'"
      ]
     },
     "metadata": {},
     "output_type": "display_data"
    },
    {
     "data": {
      "text/plain": [
       "1"
      ]
     },
     "metadata": {},
     "output_type": "display_data"
    },
    {
     "data": {
      "text/plain": [
       "tensor(8.6523)"
      ]
     },
     "metadata": {},
     "output_type": "display_data"
    },
    {
     "name": "stdout",
     "output_type": "stream",
     "text": [
      "\n"
     ]
    }
   ],
   "source": [
    "displayReviews(losses.argsort().tolist()[::-1][:10])"
   ]
  },
  {
   "cell_type": "code",
   "execution_count": 24,
   "id": "790308e3-cfef-418c-8f4b-7459b1f67239",
   "metadata": {},
   "outputs": [
    {
     "data": {
      "text/plain": [
       "75.74699999999997"
      ]
     },
     "execution_count": 24,
     "metadata": {},
     "output_type": "execute_result"
    }
   ],
   "source": [
    "getAverageReviewLength(np.ones(len(review_lengths)) / len(review_lengths))"
   ]
  },
  {
   "cell_type": "code",
   "execution_count": 26,
   "id": "9d2593df-5a85-4661-a034-c861f3d56be0",
   "metadata": {},
   "outputs": [
    {
     "data": {
      "text/plain": [
       "tensor(0.0495)"
      ]
     },
     "execution_count": 26,
     "metadata": {},
     "output_type": "execute_result"
    }
   ],
   "source": [
    "(losses > 4.5).float().mean()"
   ]
  },
  {
   "cell_type": "code",
   "execution_count": 27,
   "id": "91227f98-d473-4b22-8129-a5ca50cfe54e",
   "metadata": {},
   "outputs": [
    {
     "data": {
      "text/plain": [
       "tensor(68.7889, dtype=torch.float64)"
      ]
     },
     "execution_count": 27,
     "metadata": {},
     "output_type": "execute_result"
    }
   ],
   "source": [
    "high_loss_idx = (losses > 4.5)\n",
    "high_loss_weights = high_loss_idx / high_loss_idx.sum()\n",
    "getAverageReviewLength(high_loss_weights)"
   ]
  },
  {
   "cell_type": "code",
   "execution_count": 33,
   "id": "5841b604-d613-48ec-b8b5-d385eb73b7cb",
   "metadata": {},
   "outputs": [
    {
     "name": "stderr",
     "output_type": "stream",
     "text": [
      "100%|██████████| 20000/20000 [00:10<00:00, 1838.91it/s]\n"
     ]
    },
    {
     "name": "stdout",
     "output_type": "stream",
     "text": [
      "            ##4 0.0044 0.0141 2.03\n",
      "         potter 0.0022 0.0091 1.94\n",
      "          ##ven 0.0025 0.0091 1.88\n",
      "            gas 0.0025 0.0091 1.87\n",
      "           cold 0.0064 0.0162 1.86\n",
      "         access 0.0026 0.0091 1.85\n",
      "          ##hen 0.0022 0.0081 1.80\n",
      "           ##ia 0.0068 0.0162 1.79\n",
      "          adapt 0.0058 0.0141 1.77\n",
      "       electric 0.0024 0.0081 1.77\n",
      "        problem 0.0279 0.0525 1.75\n",
      "             bu 0.0031 0.0091 1.73\n",
      "            rom 0.0014 0.0061 1.73\n",
      "        teacher 0.0044 0.0111 1.71\n",
      "         rating 0.0086 0.0182 1.70\n",
      "            ##8 0.0027 0.0081 1.70\n",
      "          harry 0.0033 0.0091 1.70\n",
      "      otherwise 0.0104 0.0212 1.70\n",
      "             64 0.0009 0.0051 1.69\n",
      "           wars 0.0021 0.0071 1.69\n"
     ]
    }
   ],
   "source": [
    "loss_weights = (losses > 4.5)\n",
    "loss_weights = loss_weights / loss_weights.sum()\n",
    "getCommonTokens(loss_weights, 0.005, 20)"
   ]
  },
  {
   "cell_type": "markdown",
   "id": "e2b59827",
   "metadata": {},
   "source": [
    "## Spotlights"
   ]
  },
  {
   "cell_type": "code",
   "execution_count": 21,
   "id": "b2b8194c",
   "metadata": {},
   "outputs": [],
   "source": [
    "spotlights = {}\n",
    "for count in np.arange(1, 6):\n",
    "    spotlights[count] = loadResults(f'spotlight_results/amazon_test_sst_0.05_spherical_{count}.pkl')"
   ]
  },
  {
   "cell_type": "code",
   "execution_count": 22,
   "id": "2fc29c80-9af2-4d16-8d4b-9d94744a51c7",
   "metadata": {},
   "outputs": [
    {
     "data": {
      "text/plain": [
       "'The holiday music is very enjoyable but I purchased this CD to download to my IPOD and it will not download to iTunes and you cannot burn a CD from it.'"
      ]
     },
     "metadata": {},
     "output_type": "display_data"
    },
    {
     "data": {
      "text/plain": [
       "0"
      ]
     },
     "metadata": {},
     "output_type": "display_data"
    },
    {
     "data": {
      "text/plain": [
       "tensor(0.0493)"
      ]
     },
     "metadata": {},
     "output_type": "display_data"
    },
    {
     "name": "stdout",
     "output_type": "stream",
     "text": [
      "\n"
     ]
    },
    {
     "data": {
      "text/plain": [
       "\"I'm sure this is a great product, but my speakers are 9 foot away, and i massively can't be bothered to go and move them. I left the cable on the kitchen table.Also, the packaging has some very racial things stated in it.\""
      ]
     },
     "metadata": {},
     "output_type": "display_data"
    },
    {
     "data": {
      "text/plain": [
       "0"
      ]
     },
     "metadata": {},
     "output_type": "display_data"
    },
    {
     "data": {
      "text/plain": [
       "tensor(0.0518)"
      ]
     },
     "metadata": {},
     "output_type": "display_data"
    },
    {
     "name": "stdout",
     "output_type": "stream",
     "text": [
      "\n"
     ]
    },
    {
     "data": {
      "text/plain": [
       "\"Jake Grafton has to teach marines what it's like to be on an aircraft carrier. Landing and taking off on a slipery deck, learning all the parts to a carrier and how to put up with Flap LeBeau. This book you can't put down, I couldn't.\""
      ]
     },
     "metadata": {},
     "output_type": "display_data"
    },
    {
     "data": {
      "text/plain": [
       "1"
      ]
     },
     "metadata": {},
     "output_type": "display_data"
    },
    {
     "data": {
      "text/plain": [
       "tensor(3.3566)"
      ]
     },
     "metadata": {},
     "output_type": "display_data"
    },
    {
     "name": "stdout",
     "output_type": "stream",
     "text": [
      "\n"
     ]
    },
    {
     "data": {
      "text/plain": [
       "\"I'm using this on a Win98SE PC to connect to an Apple AirPort Base Station. It sees the base station fine, but when the Belkin is touching the base station it transmits at 70% signal strength. My PowerBook can see the base station at 100% one floor up, 80% on the second floor up.Belkin software was easy to use and configure. Maybe my HP Pavilion causes a lot of RF interference? Unknown, but I'd try a Linksys or Hawking over the Blekin. Don't be swayed by the price.\""
      ]
     },
     "metadata": {},
     "output_type": "display_data"
    },
    {
     "data": {
      "text/plain": [
       "0"
      ]
     },
     "metadata": {},
     "output_type": "display_data"
    },
    {
     "data": {
      "text/plain": [
       "tensor(0.0434)"
      ]
     },
     "metadata": {},
     "output_type": "display_data"
    },
    {
     "name": "stdout",
     "output_type": "stream",
     "text": [
      "\n"
     ]
    },
    {
     "data": {
      "text/plain": [
       "'these head phones are great for truck drivers, the battery life is on ly about 8 hours other than that there perfect'"
      ]
     },
     "metadata": {},
     "output_type": "display_data"
    },
    {
     "data": {
      "text/plain": [
       "1"
      ]
     },
     "metadata": {},
     "output_type": "display_data"
    },
    {
     "data": {
      "text/plain": [
       "tensor(3.0363)"
      ]
     },
     "metadata": {},
     "output_type": "display_data"
    },
    {
     "name": "stdout",
     "output_type": "stream",
     "text": [
      "\n"
     ]
    },
    {
     "data": {
      "text/plain": [
       "'So I ordered this with tahitian cardio, which is AMAZING. So after doing that and the tahitian hip hop (they come together) I decided to try the Cardio Hula. When i took it out of its schrink wrapped case, it definately did look a little funny. I put it in my Boyfriends XBOX 360 and it didnt recognize it as a disk. I tried it in our dvd player, and it still didnt recognise it as a dvd. I looked at the surface, to see if there was any scratches, and to my confusion it was blue, like a DVD-R. I flipped it over and looked more closely at the top and noticed that whoever printed the label needed their printer heads cleaned. I ordered if FROM amazon, I even got the supersaver shipping, which brought my bootleg DVD in record time. I only can play it on my laptop which has a TINY screen.Thanks Amazon, thanks'"
      ]
     },
     "metadata": {},
     "output_type": "display_data"
    },
    {
     "data": {
      "text/plain": [
       "0"
      ]
     },
     "metadata": {},
     "output_type": "display_data"
    },
    {
     "data": {
      "text/plain": [
       "tensor(0.0346)"
      ]
     },
     "metadata": {},
     "output_type": "display_data"
    },
    {
     "name": "stdout",
     "output_type": "stream",
     "text": [
      "\n"
     ]
    },
    {
     "data": {
      "text/plain": [
       "'I paid less and got the exact same Tivo wireless adapter as sold by Tivo. I have had no problems and now I get updates and download shows to my computer without any cables..'"
      ]
     },
     "metadata": {},
     "output_type": "display_data"
    },
    {
     "data": {
      "text/plain": [
       "1"
      ]
     },
     "metadata": {},
     "output_type": "display_data"
    },
    {
     "data": {
      "text/plain": [
       "tensor(3.5884)"
      ]
     },
     "metadata": {},
     "output_type": "display_data"
    },
    {
     "name": "stdout",
     "output_type": "stream",
     "text": [
      "\n"
     ]
    },
    {
     "data": {
      "text/plain": [
       "\"Great Backpack! Love the color! The only thing, is that it gets dirty easily. I got a pen mark on the pocket, and I'm not sure how to remove it :(\""
      ]
     },
     "metadata": {},
     "output_type": "display_data"
    },
    {
     "data": {
      "text/plain": [
       "1"
      ]
     },
     "metadata": {},
     "output_type": "display_data"
    },
    {
     "data": {
      "text/plain": [
       "tensor(2.8205)"
      ]
     },
     "metadata": {},
     "output_type": "display_data"
    },
    {
     "name": "stdout",
     "output_type": "stream",
     "text": [
      "\n"
     ]
    },
    {
     "data": {
      "text/plain": [
       "'The new ipods do not charge with the pioneer cable, and this was the solution to the problem. Now my 4th gen nano charges no problem!'"
      ]
     },
     "metadata": {},
     "output_type": "display_data"
    },
    {
     "data": {
      "text/plain": [
       "1"
      ]
     },
     "metadata": {},
     "output_type": "display_data"
    },
    {
     "data": {
      "text/plain": [
       "tensor(3.1895)"
      ]
     },
     "metadata": {},
     "output_type": "display_data"
    },
    {
     "name": "stdout",
     "output_type": "stream",
     "text": [
      "\n"
     ]
    },
    {
     "data": {
      "text/plain": [
       "'I BOUGHT THIS PRODUCT FOR MY DDP KIT AND I HAVE A WATER PURIFIER SO I CAN DROP A TAB IN MY WATER AND DRINK IT WITH NO WORRIES'"
      ]
     },
     "metadata": {},
     "output_type": "display_data"
    },
    {
     "data": {
      "text/plain": [
       "1"
      ]
     },
     "metadata": {},
     "output_type": "display_data"
    },
    {
     "data": {
      "text/plain": [
       "tensor(3.3242)"
      ]
     },
     "metadata": {},
     "output_type": "display_data"
    },
    {
     "name": "stdout",
     "output_type": "stream",
     "text": [
      "\n"
     ]
    },
    {
     "data": {
      "text/plain": [
       "\"This product is good for UK only. To play in USA you need to find a DVD player which has capability for changing Region Code to UK and that you may be able to do it on computer but not on DVD player in USA. I order it in USA, prodact came from Uk and I couldn't play it on my most advanced DVD player.\""
      ]
     },
     "metadata": {},
     "output_type": "display_data"
    },
    {
     "data": {
      "text/plain": [
       "0"
      ]
     },
     "metadata": {},
     "output_type": "display_data"
    },
    {
     "data": {
      "text/plain": [
       "tensor(0.0384)"
      ]
     },
     "metadata": {},
     "output_type": "display_data"
    },
    {
     "name": "stdout",
     "output_type": "stream",
     "text": [
      "\n"
     ]
    },
    {
     "data": {
      "text/plain": [
       "'The first time I put this CD into the Discman, I was feelin it. The album was pretty hot. Than I heard it again. The beats are tight, but Bone sounds like Popeye. They gotta slow down the flow.'"
      ]
     },
     "metadata": {},
     "output_type": "display_data"
    },
    {
     "data": {
      "text/plain": [
       "0"
      ]
     },
     "metadata": {},
     "output_type": "display_data"
    },
    {
     "data": {
      "text/plain": [
       "tensor(0.0475)"
      ]
     },
     "metadata": {},
     "output_type": "display_data"
    },
    {
     "name": "stdout",
     "output_type": "stream",
     "text": [
      "\n"
     ]
    },
    {
     "data": {
      "text/plain": [
       "'Les recomiendo que siempre tengan 2 baterías, la original con la que viene la cámara, en mi caso la Panasonic Lumix DMC-TZ5K, y otra de reemplazo para que nunca se pierdan ningún momento por tener la batería descargada. Carga perfectamente en el cargador original de la cámara y su precio es muy muy bajo... comparen y verán.'"
      ]
     },
     "metadata": {},
     "output_type": "display_data"
    },
    {
     "data": {
      "text/plain": [
       "1"
      ]
     },
     "metadata": {},
     "output_type": "display_data"
    },
    {
     "data": {
      "text/plain": [
       "tensor(3.0603)"
      ]
     },
     "metadata": {},
     "output_type": "display_data"
    },
    {
     "name": "stdout",
     "output_type": "stream",
     "text": [
      "\n"
     ]
    },
    {
     "data": {
      "text/plain": [
       "'muy buen producto. rapido facil y a tiempo la entrega. sin contratiempos en todo el proceso. lo recomiendo a a'"
      ]
     },
     "metadata": {},
     "output_type": "display_data"
    },
    {
     "data": {
      "text/plain": [
       "1"
      ]
     },
     "metadata": {},
     "output_type": "display_data"
    },
    {
     "data": {
      "text/plain": [
       "tensor(3.1159)"
      ]
     },
     "metadata": {},
     "output_type": "display_data"
    },
    {
     "name": "stdout",
     "output_type": "stream",
     "text": [
      "\n"
     ]
    },
    {
     "data": {
      "text/plain": [
       "'I was very excited to get this movie on dvd which did arrive very promptly. Unfortunately, this disk from Movie Mars will not play on my dvd player. When I press play, the message CANNOT PLAY is displayed. I have ordered many dvds from Amazon and have never had this problem.'"
      ]
     },
     "metadata": {},
     "output_type": "display_data"
    },
    {
     "data": {
      "text/plain": [
       "0"
      ]
     },
     "metadata": {},
     "output_type": "display_data"
    },
    {
     "data": {
      "text/plain": [
       "tensor(0.0251)"
      ]
     },
     "metadata": {},
     "output_type": "display_data"
    },
    {
     "name": "stdout",
     "output_type": "stream",
     "text": [
      "\n"
     ]
    },
    {
     "data": {
      "text/plain": [
       "\"Check out Maha Energy's website. Their Powerex MH-C204F charger works in 100 minutes for rapid charge, with option for slower charge (better for batteries). And they have 2200 mAh batteries.\""
      ]
     },
     "metadata": {},
     "output_type": "display_data"
    },
    {
     "data": {
      "text/plain": [
       "1"
      ]
     },
     "metadata": {},
     "output_type": "display_data"
    },
    {
     "data": {
      "text/plain": [
       "tensor(3.9011)"
      ]
     },
     "metadata": {},
     "output_type": "display_data"
    },
    {
     "name": "stdout",
     "output_type": "stream",
     "text": [
      "\n"
     ]
    },
    {
     "data": {
      "text/plain": [
       "'Me recordó aquellos libros de la Generación Kronen: un libro muy pop donde ha calado el lenguaje cinematográfico para presentar la trama. Personajes bien definidos. Un libro entre Yorkshire y la nostalgia del Levante español. Sorprendente y entretenido.'"
      ]
     },
     "metadata": {},
     "output_type": "display_data"
    },
    {
     "data": {
      "text/plain": [
       "1"
      ]
     },
     "metadata": {},
     "output_type": "display_data"
    },
    {
     "data": {
      "text/plain": [
       "tensor(3.0348)"
      ]
     },
     "metadata": {},
     "output_type": "display_data"
    },
    {
     "name": "stdout",
     "output_type": "stream",
     "text": [
      "\n"
     ]
    },
    {
     "data": {
      "text/plain": [
       "'Great workout earphones, stays put and withstands all the sweating I do! Only wish the cord was so squirmy.'"
      ]
     },
     "metadata": {},
     "output_type": "display_data"
    },
    {
     "data": {
      "text/plain": [
       "1"
      ]
     },
     "metadata": {},
     "output_type": "display_data"
    },
    {
     "data": {
      "text/plain": [
       "tensor(2.5699)"
      ]
     },
     "metadata": {},
     "output_type": "display_data"
    },
    {
     "name": "stdout",
     "output_type": "stream",
     "text": [
      "\n"
     ]
    },
    {
     "data": {
      "text/plain": [
       "'These are a great way to keep your multiple remotes organized and your tabletop clutter free. I bought 2 of the black.'"
      ]
     },
     "metadata": {},
     "output_type": "display_data"
    },
    {
     "data": {
      "text/plain": [
       "1"
      ]
     },
     "metadata": {},
     "output_type": "display_data"
    },
    {
     "data": {
      "text/plain": [
       "tensor(3.4635)"
      ]
     },
     "metadata": {},
     "output_type": "display_data"
    },
    {
     "name": "stdout",
     "output_type": "stream",
     "text": [
      "\n"
     ]
    },
    {
     "data": {
      "text/plain": [
       "\"The shoe seemed nice. I purchased the 2E version since I read in another review that they can be tight. Unfortunately, the top of the tongue bit into my ankle when I tied the shoe. Didn't matter which sock I wore. I had to return.\""
      ]
     },
     "metadata": {},
     "output_type": "display_data"
    },
    {
     "data": {
      "text/plain": [
       "0"
      ]
     },
     "metadata": {},
     "output_type": "display_data"
    },
    {
     "data": {
      "text/plain": [
       "tensor(0.0433)"
      ]
     },
     "metadata": {},
     "output_type": "display_data"
    },
    {
     "name": "stdout",
     "output_type": "stream",
     "text": [
      "\n"
     ]
    }
   ],
   "source": [
    "displayReviews(spotlights[1].weights.argsort().tolist()[::-1][:20])"
   ]
  },
  {
   "cell_type": "code",
   "execution_count": 93,
   "id": "509b5e3d-eba6-4f5d-be83-21f6553aa294",
   "metadata": {},
   "outputs": [
    {
     "data": {
      "text/plain": [
       "79.0616454849033"
      ]
     },
     "execution_count": 93,
     "metadata": {},
     "output_type": "execute_result"
    }
   ],
   "source": [
    "getAverageReviewLength(spotlights[1].weights)"
   ]
  },
  {
   "cell_type": "code",
   "execution_count": 28,
   "id": "776e2e30-a65e-4367-9611-2d6ea2dafc85",
   "metadata": {},
   "outputs": [
    {
     "name": "stderr",
     "output_type": "stream",
     "text": [
      "100%|██████████| 20000/20000 [00:04<00:00, 4329.97it/s]\n"
     ]
    },
    {
     "name": "stdout",
     "output_type": "stream",
     "text": [
      "            que 0.0028 0.0153 2.60\n",
      "            est 0.0023 0.0112 2.22\n",
      "           como 0.0011 0.0077 2.08\n",
      "              y 0.0071 0.0200 2.07\n",
      "            las 0.0016 0.0087 2.05\n",
      "            tod 0.0011 0.0073 2.00\n",
      "             es 0.0060 0.0166 1.96\n",
      "             la 0.0080 0.0198 1.90\n",
      "             si 0.0045 0.0129 1.87\n",
      "            por 0.0017 0.0076 1.86\n",
      "           ##as 0.0057 0.0149 1.85\n",
      "           para 0.0029 0.0094 1.83\n",
      "             ot 0.0015 0.0069 1.82\n",
      "           este 0.0014 0.0063 1.75\n",
      "            los 0.0022 0.0073 1.71\n",
      "             el 0.0060 0.0136 1.69\n",
      "          ##ros 0.0015 0.0058 1.66\n",
      "          ##bro 0.0015 0.0057 1.64\n",
      "         ##cion 0.0012 0.0051 1.64\n",
      "             mu 0.0083 0.0168 1.63\n"
     ]
    }
   ],
   "source": [
    "getCommonTokens(spotlights[1].weights, 0.005, 20)"
   ]
  },
  {
   "cell_type": "code",
   "execution_count": 30,
   "id": "438b8cf8-e5bc-4d3a-8e38-374f810707cd",
   "metadata": {},
   "outputs": [
    {
     "data": {
      "text/plain": [
       "88.72059491905526"
      ]
     },
     "execution_count": 30,
     "metadata": {},
     "output_type": "execute_result"
    }
   ],
   "source": [
    "getAverageReviewLength(spotlights[2].weights)"
   ]
  },
  {
   "cell_type": "code",
   "execution_count": 29,
   "id": "0d682578-0400-4f21-aff9-97e3de3a9da8",
   "metadata": {},
   "outputs": [
    {
     "name": "stderr",
     "output_type": "stream",
     "text": [
      "100%|██████████| 20000/20000 [00:04<00:00, 4161.77it/s]"
     ]
    },
    {
     "name": "stdout",
     "output_type": "stream",
     "text": [
      "          super 0.0104 0.0210 1.69\n",
      "        wearing 0.0035 0.0093 1.68\n",
      "            job 0.0239 0.0435 1.68\n",
      "         prefer 0.0057 0.0130 1.67\n",
      "         bigger 0.0035 0.0092 1.67\n",
      "            rev 0.0039 0.0098 1.67\n",
      "           hang 0.0028 0.0080 1.65\n",
      "       discover 0.0029 0.0080 1.64\n",
      "        killing 0.0028 0.0078 1.63\n",
      "         ##ling 0.0059 0.0128 1.63\n",
      "           slip 0.0026 0.0075 1.63\n",
      "         source 0.0043 0.0101 1.63\n",
      "       compared 0.0086 0.0171 1.62\n",
      "            ##x 0.0118 0.0222 1.61\n",
      "         pushed 0.0013 0.0052 1.61\n",
      "           thus 0.0037 0.0090 1.61\n",
      "             aw 0.0023 0.0067 1.59\n",
      "         harder 0.0015 0.0054 1.59\n",
      "             bt 0.0013 0.0051 1.59\n",
      "        intense 0.0023 0.0067 1.59\n"
     ]
    },
    {
     "name": "stderr",
     "output_type": "stream",
     "text": [
      "\n"
     ]
    }
   ],
   "source": [
    "getCommonTokens(spotlights[2].weights, 0.005, 20)"
   ]
  },
  {
   "cell_type": "code",
   "execution_count": 31,
   "id": "69349ed9-a2cb-4b33-82be-9962cca0f493",
   "metadata": {},
   "outputs": [
    {
     "data": {
      "text/plain": [
       "80.69196854125622"
      ]
     },
     "execution_count": 31,
     "metadata": {},
     "output_type": "execute_result"
    }
   ],
   "source": [
    "getAverageReviewLength(spotlights[3].weights)"
   ]
  },
  {
   "cell_type": "code",
   "execution_count": 32,
   "id": "6542f518",
   "metadata": {},
   "outputs": [
    {
     "name": "stderr",
     "output_type": "stream",
     "text": [
      "100%|██████████| 20000/20000 [00:04<00:00, 4056.87it/s]"
     ]
    },
    {
     "name": "stdout",
     "output_type": "stream",
     "text": [
      "        problem 0.0279 0.0476 1.60\n",
      "       returned 0.0091 0.0173 1.58\n",
      "            que 0.0028 0.0070 1.54\n",
      "         hoping 0.0092 0.0169 1.54\n",
      "             ok 0.0174 0.0294 1.53\n",
      "  unfortunately 0.0158 0.0269 1.53\n",
      "        ##point 0.0113 0.0199 1.53\n",
      "          ##ssa 0.0082 0.0150 1.51\n",
      "      returning 0.0048 0.0096 1.49\n",
      "        however 0.0503 0.0772 1.49\n",
      "            las 0.0016 0.0049 1.48\n",
      "              $ 0.0234 0.0370 1.48\n",
      "          maybe 0.0297 0.0461 1.47\n",
      "          ##und 0.0071 0.0128 1.46\n",
      "            est 0.0023 0.0056 1.45\n",
      "           okay 0.0088 0.0150 1.44\n",
      "         unless 0.0141 0.0225 1.44\n",
      "         wouldn 0.0182 0.0284 1.44\n",
      "           ##as 0.0057 0.0105 1.44\n",
      "            dry 0.0088 0.0147 1.43\n"
     ]
    },
    {
     "name": "stderr",
     "output_type": "stream",
     "text": [
      "\n"
     ]
    }
   ],
   "source": [
    "getCommonTokens(spotlights[3].weights, 0.005, 20)"
   ]
  },
  {
   "cell_type": "markdown",
   "id": "fed4b3e2",
   "metadata": {},
   "source": [
    "# SQuAD"
   ]
  },
  {
   "cell_type": "markdown",
   "id": "8053cff2",
   "metadata": {},
   "source": [
    "## Dataset + tokenizer"
   ]
  },
  {
   "cell_type": "code",
   "execution_count": 36,
   "id": "af4fa8a7",
   "metadata": {},
   "outputs": [],
   "source": [
    "dataset = load_from_disk(squad_dir)['validation']"
   ]
  },
  {
   "cell_type": "code",
   "execution_count": 37,
   "id": "ce304708",
   "metadata": {},
   "outputs": [],
   "source": [
    "categories = list(set(dataset['title']))"
   ]
  },
  {
   "cell_type": "code",
   "execution_count": 38,
   "id": "b215612d",
   "metadata": {},
   "outputs": [
    {
     "name": "stderr",
     "output_type": "stream",
     "text": [
      "Token indices sequence length is longer than the specified maximum sequence length for this model (629 > 512). Running this sequence through the model will result in indexing errors\n"
     ]
    }
   ],
   "source": [
    "def filter_short_examples(example):\n",
    "    example_length = len(tokenizer(\n",
    "        example[\"question\"],\n",
    "        example[\"context\"],\n",
    "    )['input_ids'])\n",
    "    return example_length < 384\n",
    "short_dataset = dataset.filter(filter_short_examples)"
   ]
  },
  {
   "cell_type": "code",
   "execution_count": 39,
   "id": "fcb39589",
   "metadata": {},
   "outputs": [],
   "source": [
    "tokenizer = AutoTokenizer.from_pretrained(\n",
    "    \"distilbert-base-uncased-distilled-squad\", \n",
    "    cache_dir=squad_model_path, \n",
    "    local_files_only=True\n",
    ")"
   ]
  },
  {
   "cell_type": "code",
   "execution_count": 40,
   "id": "c0ed23d6",
   "metadata": {},
   "outputs": [
    {
     "name": "stderr",
     "output_type": "stream",
     "text": [
      "100%|██████████| 10386/10386 [00:10<00:00, 971.55it/s]\n"
     ]
    }
   ],
   "source": [
    "unique_tokens = []\n",
    "for i in tqdm(range(len(short_dataset))):\n",
    "    example = short_dataset[i]\n",
    "    tokenized = tokenizer(example[\"question\"], example[\"context\"], return_tensors='pt')\n",
    "    unique_tokens.append(torch.unique(tokenized['input_ids']))"
   ]
  },
  {
   "cell_type": "markdown",
   "id": "fdbeb510",
   "metadata": {},
   "source": [
    "## Model outputs"
   ]
  },
  {
   "cell_type": "code",
   "execution_count": 41,
   "id": "93bbeefb",
   "metadata": {},
   "outputs": [],
   "source": [
    "inf_results = loadResults('inference_results/squad_val_bert_cls.pkl')\n",
    "embeddings = inf_results.embeddings\n",
    "outputs = inf_results.outputs\n",
    "losses = inf_results.losses"
   ]
  },
  {
   "cell_type": "code",
   "execution_count": 50,
   "id": "73d3e1a8-3d30-4b5d-8daf-e809d1e8af12",
   "metadata": {},
   "outputs": [],
   "source": [
    "def displayReviews(idx_list):\n",
    "    for idx in idx_list:\n",
    "        example = short_dataset[idx]\n",
    "        display(example['question'])\n",
    "        display(example['answers']['text'])\n",
    "        display(losses[idx])\n",
    "        print()\n",
    "        \n",
    "def getCommonTokens(weights, smoothing=0.01, print_first=50):\n",
    "    token_frequencies = defaultdict(float)\n",
    "    token_frequencies_spotlight = defaultdict(float)\n",
    "\n",
    "    weights_uniform = np.full_like(weights, 1 / len(weights))\n",
    "\n",
    "    num_examples = len(weights)\n",
    "    for i in tqdm(range(num_examples)):\n",
    "        for token in unique_tokens[i]:\n",
    "            token_frequencies[token.item()] += weights_uniform[i]\n",
    "            token_frequencies_spotlight[token.item()] += weights[i]\n",
    "            \n",
    "    token_lrs = {k: (smoothing+token_frequencies_spotlight[k]) / (smoothing+token_frequencies[k]) for k in token_frequencies}\n",
    "    tokens_sorted = list(map(lambda x: x[0], sorted(token_lrs.items(), key=lambda x: x[1])[::-1]))\n",
    "    for i, (token) in enumerate(tokens_sorted[:print_first]):\n",
    "        print('%15s %.4f %.4f %4.2f' % (tokenizer.decode(token), token_frequencies[token], token_frequencies_spotlight[token], token_lrs[token]))\n",
    "        \n",
    "def getTopicDistribution(weights, smoothing=0.01):\n",
    "    topic_frequencies = defaultdict(float)\n",
    "    topic_frequencies_spotlight = defaultdict(float)\n",
    "\n",
    "    weights_uniform = np.full_like(weights, 1 / len(weights))\n",
    "\n",
    "    num_examples = len(weights)\n",
    "    for i in range(num_examples):\n",
    "        example = short_dataset[i]\n",
    "        category = example['title']\n",
    "        topic_frequencies[category] += weights_uniform[i]\n",
    "        topic_frequencies_spotlight[category] += weights[i]\n",
    "        \n",
    "    topic_ratios = {c: (smoothing + topic_frequencies_spotlight[c]) / (smoothing + topic_frequencies[c]) for c in topic_frequencies}\n",
    "\n",
    "    categories_sorted = map(lambda x: x[0], sorted(topic_ratios.items(), key=lambda x: x[1], reverse=True))\n",
    "    for category in categories_sorted:\n",
    "        print('%.3f %.3f %.2f %s' % (topic_frequencies[category], topic_frequencies_spotlight[category], topic_ratios[category], category))"
   ]
  },
  {
   "cell_type": "code",
   "execution_count": 51,
   "id": "a111aaeb-f0ef-45f5-a889-9992de8fdf89",
   "metadata": {},
   "outputs": [
    {
     "data": {
      "text/plain": [
       "'Who disliked the affiliate program?'"
      ]
     },
     "metadata": {},
     "output_type": "display_data"
    },
    {
     "data": {
      "text/plain": [
       "['passed',\n",
       " 'Several University of Chicago professors',\n",
       " 'Several University of Chicago professors']"
      ]
     },
     "metadata": {},
     "output_type": "display_data"
    },
    {
     "data": {
      "text/plain": [
       "tensor(15.3882)"
      ]
     },
     "metadata": {},
     "output_type": "display_data"
    },
    {
     "name": "stdout",
     "output_type": "stream",
     "text": [
      "\n"
     ]
    },
    {
     "data": {
      "text/plain": [
       "'In which year were the North and South Courts opened?'"
      ]
     },
     "metadata": {},
     "output_type": "display_data"
    },
    {
     "data": {
      "text/plain": [
       "['Secretariat Wing', 'June 1862', 'June 1862']"
      ]
     },
     "metadata": {},
     "output_type": "display_data"
    },
    {
     "data": {
      "text/plain": [
       "tensor(14.6645)"
      ]
     },
     "metadata": {},
     "output_type": "display_data"
    },
    {
     "name": "stdout",
     "output_type": "stream",
     "text": [
      "\n"
     ]
    },
    {
     "data": {
      "text/plain": [
       "\"Dutch architect Janjaap Ruijssenaars's performative architecture 3D-printed building is scheduled to be built when?\""
      ]
     },
     "metadata": {},
     "output_type": "display_data"
    },
    {
     "data": {
      "text/plain": [
       "['Working versions of 3D-printing building technology are already printing',\n",
       " '2014',\n",
       " '2014']"
      ]
     },
     "metadata": {},
     "output_type": "display_data"
    },
    {
     "data": {
      "text/plain": [
       "tensor(14.0288)"
      ]
     },
     "metadata": {},
     "output_type": "display_data"
    },
    {
     "name": "stdout",
     "output_type": "stream",
     "text": [
      "\n"
     ]
    },
    {
     "data": {
      "text/plain": [
       "'Did Tesla graduate from the university?'"
      ]
     },
     "metadata": {},
     "output_type": "display_data"
    },
    {
     "data": {
      "text/plain": [
       "['no', 'not', 'He never graduated']"
      ]
     },
     "metadata": {},
     "output_type": "display_data"
    },
    {
     "data": {
      "text/plain": [
       "tensor(13.2189)"
      ]
     },
     "metadata": {},
     "output_type": "display_data"
    },
    {
     "name": "stdout",
     "output_type": "stream",
     "text": [
      "\n"
     ]
    },
    {
     "data": {
      "text/plain": [
       "'What position does Jerricho Cotchery play?'"
      ]
     },
     "metadata": {},
     "output_type": "display_data"
    },
    {
     "data": {
      "text/plain": [
       "['receivers', 'receivers', 'receivers']"
      ]
     },
     "metadata": {},
     "output_type": "display_data"
    },
    {
     "data": {
      "text/plain": [
       "tensor(12.9204)"
      ]
     },
     "metadata": {},
     "output_type": "display_data"
    },
    {
     "name": "stdout",
     "output_type": "stream",
     "text": [
      "\n"
     ]
    },
    {
     "data": {
      "text/plain": [
       "'What is attributed to the income inequality in the United States?'"
      ]
     },
     "metadata": {},
     "output_type": "display_data"
    },
    {
     "data": {
      "text/plain": [
       "['less willing to travel or relocate',\n",
       " 'women not taking jobs due to marriage or pregnancy',\n",
       " 'not taking jobs due to marriage or pregnancy']"
      ]
     },
     "metadata": {},
     "output_type": "display_data"
    },
    {
     "data": {
      "text/plain": [
       "tensor(12.9135)"
      ]
     },
     "metadata": {},
     "output_type": "display_data"
    },
    {
     "name": "stdout",
     "output_type": "stream",
     "text": [
      "\n"
     ]
    },
    {
     "data": {
      "text/plain": [
       "'Who organized the Britain Can Make It exhibition?'"
      ]
     },
     "metadata": {},
     "output_type": "display_data"
    },
    {
     "data": {
      "text/plain": [
       "['Festival of Britain (1951)',\n",
       " 'Council of Industrial Design',\n",
       " 'the Council of Industrial Design']"
      ]
     },
     "metadata": {},
     "output_type": "display_data"
    },
    {
     "data": {
      "text/plain": [
       "tensor(12.8970)"
      ]
     },
     "metadata": {},
     "output_type": "display_data"
    },
    {
     "name": "stdout",
     "output_type": "stream",
     "text": [
      "\n"
     ]
    },
    {
     "data": {
      "text/plain": [
       "'If polynomial time can be utilized within an NP-complete problem, what does the imply P is equal to?'"
      ]
     },
     "metadata": {},
     "output_type": "display_data"
    },
    {
     "data": {
      "text/plain": [
       "['NP', 'NP', 'NP']"
      ]
     },
     "metadata": {},
     "output_type": "display_data"
    },
    {
     "data": {
      "text/plain": [
       "tensor(12.8866)"
      ]
     },
     "metadata": {},
     "output_type": "display_data"
    },
    {
     "name": "stdout",
     "output_type": "stream",
     "text": [
      "\n"
     ]
    },
    {
     "data": {
      "text/plain": [
       "'What is one way of digital civil disobedience that can have far reaching consequences?'"
      ]
     },
     "metadata": {},
     "output_type": "display_data"
    },
    {
     "data": {
      "text/plain": [
       "['sending an email', 'email', 'Supreme Court case', 'broadcasting']"
      ]
     },
     "metadata": {},
     "output_type": "display_data"
    },
    {
     "data": {
      "text/plain": [
       "tensor(12.7510)"
      ]
     },
     "metadata": {},
     "output_type": "display_data"
    },
    {
     "name": "stdout",
     "output_type": "stream",
     "text": [
      "\n"
     ]
    },
    {
     "data": {
      "text/plain": [
       "'How has civil disobedience evolved in current times?'"
      ]
     },
     "metadata": {},
     "output_type": "display_data"
    },
    {
     "data": {
      "text/plain": [
       "['code-word describing the activities of muggers, arsonists, draft evaders',\n",
       " 'utterly debased',\n",
       " 'become utterly debased',\n",
       " 'become utterly debased',\n",
       " 'become utterly debased']"
      ]
     },
     "metadata": {},
     "output_type": "display_data"
    },
    {
     "data": {
      "text/plain": [
       "tensor(12.4873)"
      ]
     },
     "metadata": {},
     "output_type": "display_data"
    },
    {
     "name": "stdout",
     "output_type": "stream",
     "text": [
      "\n"
     ]
    }
   ],
   "source": [
    "displayReviews(losses.argsort().tolist()[::-1][:10])"
   ]
  },
  {
   "cell_type": "code",
   "execution_count": 52,
   "id": "c707a65f-a3cd-4237-9229-692d586a886e",
   "metadata": {},
   "outputs": [
    {
     "data": {
      "text/plain": [
       "7.583634710311875"
      ]
     },
     "execution_count": 52,
     "metadata": {},
     "output_type": "execute_result"
    }
   ],
   "source": [
    "# Get top 2% losses\n",
    "np.quantile(losses, 0.98)"
   ]
  },
  {
   "cell_type": "code",
   "execution_count": 49,
   "id": "b1fcbf70-0e4d-48ec-958d-5895fb50dea5",
   "metadata": {},
   "outputs": [
    {
     "name": "stderr",
     "output_type": "stream",
     "text": [
      "100%|██████████| 10386/10386 [00:08<00:00, 1288.97it/s]\n"
     ]
    },
    {
     "name": "stdout",
     "output_type": "stream",
     "text": [
      "          sacks 0.0079 0.0529 4.49\n",
      "            ##½ 0.0065 0.0433 4.18\n",
      "        tackles 0.0065 0.0433 4.18\n",
      "       confused 0.0020 0.0240 4.14\n",
      "          ##bed 0.0181 0.0865 3.96\n",
      "        ##ience 0.0184 0.0865 3.91\n",
      "          yards 0.0161 0.0769 3.89\n",
      "       behavior 0.0052 0.0337 3.79\n",
      "     touchdowns 0.0065 0.0385 3.76\n",
      "     defendants 0.0014 0.0192 3.76\n",
      "     protesters 0.0015 0.0192 3.70\n",
      "     cornerback 0.0041 0.0288 3.70\n",
      "  interceptions 0.0081 0.0433 3.69\n",
      "         fumble 0.0094 0.0481 3.68\n",
      "         ##ling 0.0057 0.0337 3.62\n",
      "         ##ient 0.0086 0.0433 3.56\n",
      "      touchdown 0.0078 0.0385 3.40\n",
      "          judge 0.0050 0.0288 3.38\n",
      "         dallas 0.0037 0.0240 3.35\n",
      "      defensive 0.0065 0.0337 3.35\n"
     ]
    }
   ],
   "source": [
    "loss_weights = (losses > 7.58)\n",
    "loss_weights = loss_weights / loss_weights.sum()\n",
    "getCommonTokens(loss_weights, 0.005, 20)"
   ]
  },
  {
   "cell_type": "markdown",
   "id": "b1235ada",
   "metadata": {},
   "source": [
    "## Spotlights"
   ]
  },
  {
   "cell_type": "code",
   "execution_count": 47,
   "id": "0006b9f2",
   "metadata": {},
   "outputs": [],
   "source": [
    "spotlights = {}\n",
    "for count in np.arange(1, 6):\n",
    "    spotlights[count] = loadResults(f'spotlight_results/squad_val_bert_cls_0.05_spherical_{count}.pkl')"
   ]
  },
  {
   "cell_type": "markdown",
   "id": "a3c33066",
   "metadata": {},
   "source": [
    "### Common tokens"
   ]
  },
  {
   "cell_type": "code",
   "execution_count": 53,
   "id": "1200b814",
   "metadata": {},
   "outputs": [
    {
     "name": "stderr",
     "output_type": "stream",
     "text": [
      "100%|██████████| 10386/10386 [00:03<00:00, 2862.73it/s]"
     ]
    },
    {
     "name": "stdout",
     "output_type": "stream",
     "text": [
      "         packet 0.0048 0.0236 2.91\n",
      "          ##bed 0.0181 0.0578 2.72\n",
      "        ##ience 0.0184 0.0556 2.59\n",
      "        packets 0.0032 0.0160 2.57\n",
      "      switching 0.0047 0.0191 2.48\n",
      "        circuit 0.0039 0.0166 2.41\n",
      "             np 0.0058 0.0209 2.40\n",
      "            pad 0.0041 0.0168 2.38\n",
      "         ##ient 0.0086 0.0268 2.34\n",
      "           ##so 0.0236 0.0616 2.33\n",
      "       messages 0.0026 0.0122 2.26\n",
      "       dialogue 0.0016 0.0097 2.21\n",
      "            aim 0.0030 0.0126 2.20\n",
      "     networking 0.0033 0.0132 2.20\n",
      "            why 0.0238 0.0581 2.19\n",
      "        protest 0.0064 0.0197 2.18\n",
      "          ##lee 0.0032 0.0127 2.17\n",
      "     complexity 0.0147 0.0370 2.13\n",
      "  communication 0.0066 0.0198 2.13\n",
      "      algorithm 0.0094 0.0254 2.11\n"
     ]
    },
    {
     "name": "stderr",
     "output_type": "stream",
     "text": [
      "\n"
     ]
    }
   ],
   "source": [
    "getCommonTokens(spotlights[1].weights, 0.005, 20)"
   ]
  },
  {
   "cell_type": "code",
   "execution_count": 54,
   "id": "8588100f",
   "metadata": {},
   "outputs": [
    {
     "name": "stderr",
     "output_type": "stream",
     "text": [
      "100%|██████████| 10386/10386 [00:03<00:00, 2719.83it/s]"
     ]
    },
    {
     "name": "stdout",
     "output_type": "stream",
     "text": [
      "     touchdowns 0.0065 0.0429 4.15\n",
      "         passes 0.0117 0.0580 3.76\n",
      "        offense 0.0052 0.0333 3.75\n",
      "          yards 0.0161 0.0740 3.75\n",
      "     receptions 0.0057 0.0335 3.61\n",
      "         rating 0.0065 0.0362 3.60\n",
      "       anderson 0.0064 0.0348 3.51\n",
      "       receiver 0.0111 0.0498 3.41\n",
      "           punt 0.0105 0.0470 3.36\n",
      "     selections 0.0084 0.0395 3.33\n",
      "         caught 0.0068 0.0344 3.33\n",
      "  interceptions 0.0081 0.0382 3.30\n",
      "            gin 0.0054 0.0292 3.29\n",
      "       throwing 0.0038 0.0238 3.29\n",
      "           ward 0.0054 0.0283 3.21\n",
      "        sanders 0.0050 0.0259 3.08\n",
      "           josh 0.0028 0.0189 3.07\n",
      "          sacks 0.0079 0.0339 3.02\n",
      "        scoring 0.0077 0.0331 3.00\n",
      "     cornerback 0.0041 0.0223 2.98\n"
     ]
    },
    {
     "name": "stderr",
     "output_type": "stream",
     "text": [
      "\n"
     ]
    }
   ],
   "source": [
    "getCommonTokens(spotlights[2].weights, 0.005, 20)"
   ]
  },
  {
   "cell_type": "code",
   "execution_count": 55,
   "id": "6b3ee1a7",
   "metadata": {},
   "outputs": [
    {
     "name": "stderr",
     "output_type": "stream",
     "text": [
      "100%|██████████| 10386/10386 [00:03<00:00, 2883.62it/s]"
     ]
    },
    {
     "name": "stdout",
     "output_type": "stream",
     "text": [
      "     networking 0.0033 0.0125 2.12\n",
      "          alice 0.0025 0.0104 2.05\n",
      "       capacity 0.0046 0.0130 1.87\n",
      "    consequence 0.0032 0.0100 1.83\n",
      "      combining 0.0009 0.0056 1.81\n",
      "          teach 0.0088 0.0197 1.79\n",
      "         ##asse 0.0013 0.0064 1.79\n",
      "          views 0.0071 0.0167 1.79\n",
      "        protest 0.0064 0.0152 1.78\n",
      "   acceleration 0.0047 0.0120 1.75\n",
      " multiplication 0.0020 0.0072 1.74\n",
      "      switching 0.0047 0.0118 1.73\n",
      "        colbert 0.0007 0.0048 1.73\n",
      "           cord 0.0007 0.0048 1.73\n",
      "      classroom 0.0058 0.0135 1.72\n",
      "      discourse 0.0011 0.0054 1.71\n",
      "     pertaining 0.0017 0.0065 1.71\n",
      "        teenage 0.0018 0.0066 1.70\n",
      "       messages 0.0026 0.0079 1.70\n",
      "           scan 0.0016 0.0062 1.69\n"
     ]
    },
    {
     "name": "stderr",
     "output_type": "stream",
     "text": [
      "\n"
     ]
    }
   ],
   "source": [
    "getCommonTokens(spotlights[3].weights, 0.005, 20)"
   ]
  },
  {
   "cell_type": "code",
   "execution_count": 55,
   "id": "550c20e6-879a-48c5-bcbf-c18cab67ca59",
   "metadata": {},
   "outputs": [
    {
     "name": "stdout",
     "output_type": "stream",
     "text": [
      "2.757  102 Packet_switching\n",
      "2.679  197 Civil_disobedience\n",
      "1.990  172 French_and_Indian_War\n",
      "1.886  197 Computational_complexity_theory\n",
      "1.592  124 Pharmacy\n",
      "1.580  104 Intergovernmental_Panel_on_Climate_Change\n",
      "1.502  186 Imperialism\n",
      "1.473  247 Oxygen\n",
      "1.442  108 Black_Death\n",
      "1.436  106 1973_oil_crisis\n",
      "1.414  295 Chloroplast\n",
      "1.342  231 Kenya\n",
      "1.340  153 Prime_number\n",
      "1.330  474 Martin_Luther\n",
      "1.294  287 Economic_inequality\n",
      "1.256  206 Force\n",
      "1.214  790 Super_Bowl_50\n",
      "1.197  259 Teacher\n",
      "1.112  124 Victoria_(Australia)\n",
      "1.085  172 Ctenophora\n",
      "1.082  291 Rhine\n",
      "1.075  113 Private_school\n",
      "1.053  112 Harvard_University\n",
      "1.041  511 Nikola_Tesla\n",
      "1.036  242 Apollo_program\n",
      "1.027  109 Normans\n",
      "1.023  189 Scottish_Parliament\n",
      "1.023  183 Amazon_rainforest\n",
      "0.991   96 Jacksonville,_Florida\n",
      "0.975  240 Genghis_Khan\n",
      "0.970  280 Victoria_and_Albert_Museum\n",
      "0.960  217 Huguenot\n",
      "0.883  176 University_of_Chicago\n",
      "0.860  247 Warsaw\n",
      "0.842  223 Yuan_dynasty\n",
      "0.834  200 Islamism\n",
      "0.831  116 Geology\n",
      "0.813  309 Doctor_Who\n",
      "0.792  180 Southern_California\n",
      "0.787  264 Newcastle_upon_Tyne\n",
      "0.777  238 Immune_system\n",
      "0.745  170 European_Union_law\n",
      "0.743  131 Fresno,_California\n",
      "0.686  215 Steam_engine\n",
      "0.662  187 United_Methodist_Church\n",
      "0.635   98 Construction\n",
      "0.566  108 Sky_(United_Kingdom)\n",
      "0.484  407 American_Broadcasting_Company\n"
     ]
    }
   ],
   "source": [
    "topic_counts = defaultdict(float)\n",
    "topic_losses = defaultdict(float)\n",
    "\n",
    "num_examples = len(losses)\n",
    "for i in range(num_examples):\n",
    "    example = short_dataset[i]\n",
    "    category = example['title']\n",
    "    topic_counts[category] += 1\n",
    "    topic_losses[category] += losses[i]\n",
    "        \n",
    "        \n",
    "topic_avg_losses = {t: topic_losses[t] / topic_counts[t] for t in topic_counts}\n",
    "categories_sorted = map(lambda x: x[0], sorted(topic_avg_losses.items(), key=lambda x: x[1], reverse=True))\n",
    "for category in categories_sorted:\n",
    "    print('%.3f %4d %s' % (topic_avg_losses[category], topic_counts[category], category))"
   ]
  },
  {
   "cell_type": "code",
   "execution_count": null,
   "id": "215f8386-7bf0-4727-8d59-cab66a282e0f",
   "metadata": {},
   "outputs": [],
   "source": []
  },
  {
   "cell_type": "code",
   "execution_count": 56,
   "id": "be3490b7",
   "metadata": {},
   "outputs": [],
   "source": []
  },
  {
   "cell_type": "code",
   "execution_count": 57,
   "id": "d4a116f1",
   "metadata": {},
   "outputs": [
    {
     "name": "stdout",
     "output_type": "stream",
     "text": [
      "0.010 0.040 4.08 Packet_switching\n",
      "0.019 0.060 3.16 Civil_disobedience\n",
      "0.019 0.048 2.55 Computational_complexity_theory\n",
      "0.017 0.038 2.32 French_and_Indian_War\n",
      "0.010 0.023 2.25 Intergovernmental_Panel_on_Climate_Change\n",
      "0.028 0.061 2.13 Chloroplast\n",
      "0.015 0.030 2.06 Prime_number\n",
      "0.012 0.022 1.83 Pharmacy\n",
      "0.022 0.037 1.65 Kenya\n",
      "0.024 0.037 1.57 Oxygen\n",
      "0.020 0.031 1.55 Force\n",
      "0.010 0.016 1.53 Black_Death\n",
      "0.023 0.035 1.52 Genghis_Khan\n",
      "0.025 0.037 1.47 Teacher\n",
      "0.028 0.039 1.40 Economic_inequality\n",
      "0.046 0.061 1.34 Martin_Luther\n",
      "0.021 0.027 1.31 Huguenot\n",
      "0.010 0.013 1.21 Normans\n",
      "0.017 0.019 1.17 Ctenophora\n",
      "0.018 0.019 1.06 Imperialism\n",
      "0.021 0.021 0.97 Yuan_dynasty\n",
      "0.028 0.026 0.92 Rhine\n",
      "0.049 0.045 0.91 Nikola_Tesla\n",
      "0.010 0.009 0.85 Sky_(United_Kingdom)\n",
      "0.011 0.009 0.82 Private_school\n",
      "0.018 0.014 0.77 Scottish_Parliament\n",
      "0.019 0.014 0.72 Islamism\n",
      "0.030 0.021 0.70 Doctor_Who\n",
      "0.012 0.008 0.69 Victoria_(Australia)\n",
      "0.023 0.015 0.66 Apollo_program\n",
      "0.009 0.006 0.65 Jacksonville,_Florida\n",
      "0.027 0.015 0.55 Victoria_and_Albert_Museum\n",
      "0.010 0.006 0.55 1973_oil_crisis\n",
      "0.023 0.012 0.54 Immune_system\n",
      "0.021 0.011 0.53 Steam_engine\n",
      "0.011 0.005 0.47 Geology\n",
      "0.018 0.007 0.38 Amazon_rainforest\n",
      "0.076 0.026 0.34 Super_Bowl_50\n",
      "0.011 0.004 0.33 Harvard_University\n",
      "0.024 0.008 0.32 Warsaw\n",
      "0.009 0.003 0.27 Construction\n",
      "0.018 0.005 0.26 United_Methodist_Church\n",
      "0.017 0.004 0.24 Southern_California\n",
      "0.016 0.004 0.22 European_Union_law\n",
      "0.025 0.005 0.18 Newcastle_upon_Tyne\n",
      "0.017 0.003 0.17 University_of_Chicago\n",
      "0.013 0.002 0.13 Fresno,_California\n",
      "0.039 0.003 0.07 American_Broadcasting_Company\n"
     ]
    }
   ],
   "source": [
    "getTopicDistribution(spotlights[1].weights, smoothing=0)"
   ]
  },
  {
   "cell_type": "code",
   "execution_count": 58,
   "id": "c6829162",
   "metadata": {},
   "outputs": [
    {
     "name": "stdout",
     "output_type": "stream",
     "text": [
      "0.019 0.048 2.53 Civil_disobedience\n",
      "0.017 0.041 2.46 Ctenophora\n",
      "0.021 0.038 1.77 Yuan_dynasty\n",
      "0.016 0.029 1.77 European_Union_law\n",
      "0.010 0.018 1.77 Black_Death\n",
      "0.028 0.049 1.73 Chloroplast\n",
      "0.076 0.131 1.72 Super_Bowl_50\n",
      "0.017 0.028 1.70 French_and_Indian_War\n",
      "0.010 0.016 1.65 Packet_switching\n",
      "0.023 0.034 1.48 Genghis_Khan\n",
      "0.009 0.013 1.38 Jacksonville,_Florida\n",
      "0.046 0.058 1.27 Martin_Luther\n",
      "0.010 0.013 1.26 Intergovernmental_Panel_on_Climate_Change\n",
      "0.022 0.026 1.18 Kenya\n",
      "0.020 0.023 1.16 Force\n",
      "0.010 0.012 1.11 Sky_(United_Kingdom)\n",
      "0.018 0.019 1.05 Imperialism\n",
      "0.028 0.028 1.03 Economic_inequality\n",
      "0.010 0.011 1.03 1973_oil_crisis\n",
      "0.021 0.021 1.00 Huguenot\n",
      "0.030 0.029 0.97 Doctor_Who\n",
      "0.049 0.047 0.96 Nikola_Tesla\n",
      "0.013 0.011 0.89 Fresno,_California\n",
      "0.019 0.016 0.86 Computational_complexity_theory\n",
      "0.015 0.012 0.85 Prime_number\n",
      "0.025 0.020 0.79 Teacher\n",
      "0.012 0.009 0.79 Pharmacy\n",
      "0.028 0.022 0.78 Rhine\n",
      "0.024 0.018 0.75 Oxygen\n",
      "0.011 0.008 0.71 Harvard_University\n",
      "0.027 0.019 0.69 Victoria_and_Albert_Museum\n",
      "0.023 0.016 0.68 Immune_system\n",
      "0.010 0.007 0.66 Normans\n",
      "0.018 0.011 0.62 Amazon_rainforest\n",
      "0.019 0.012 0.60 Islamism\n",
      "0.024 0.013 0.54 Warsaw\n",
      "0.018 0.010 0.54 Scottish_Parliament\n",
      "0.011 0.006 0.54 Geology\n",
      "0.023 0.012 0.53 Apollo_program\n",
      "0.012 0.006 0.48 Victoria_(Australia)\n",
      "0.025 0.009 0.37 Newcastle_upon_Tyne\n",
      "0.039 0.011 0.29 American_Broadcasting_Company\n",
      "0.017 0.005 0.29 University_of_Chicago\n",
      "0.018 0.004 0.23 United_Methodist_Church\n",
      "0.021 0.005 0.23 Steam_engine\n",
      "0.017 0.004 0.23 Southern_California\n",
      "0.011 0.002 0.21 Private_school\n",
      "0.009 0.001 0.12 Construction\n"
     ]
    }
   ],
   "source": [
    "getTopicDistribution(spotlights[2].weights, smoothing=0)"
   ]
  },
  {
   "cell_type": "code",
   "execution_count": 59,
   "id": "93127767",
   "metadata": {},
   "outputs": [
    {
     "name": "stdout",
     "output_type": "stream",
     "text": [
      "0.010 0.026 2.61 Packet_switching\n",
      "0.025 0.054 2.16 Teacher\n",
      "0.020 0.041 2.08 Force\n",
      "0.046 0.071 1.57 Martin_Luther\n",
      "0.019 0.030 1.56 Civil_disobedience\n",
      "0.024 0.036 1.52 Oxygen\n",
      "0.011 0.017 1.50 Geology\n",
      "0.019 0.028 1.45 Computational_complexity_theory\n",
      "0.017 0.025 1.44 Southern_California\n",
      "0.023 0.033 1.42 Apollo_program\n",
      "0.012 0.017 1.41 Pharmacy\n",
      "0.010 0.013 1.29 Intergovernmental_Panel_on_Climate_Change\n",
      "0.049 0.061 1.24 Nikola_Tesla\n",
      "0.018 0.022 1.20 Scottish_Parliament\n",
      "0.015 0.017 1.18 Prime_number\n",
      "0.030 0.035 1.17 Doctor_Who\n",
      "0.028 0.031 1.12 Economic_inequality\n",
      "0.010 0.011 1.09 Black_Death\n",
      "0.028 0.031 1.07 Chloroplast\n",
      "0.009 0.010 1.06 Jacksonville,_Florida\n",
      "0.010 0.010 0.97 Sky_(United_Kingdom)\n",
      "0.018 0.017 0.97 Imperialism\n",
      "0.018 0.017 0.94 United_Methodist_Church\n",
      "0.012 0.011 0.91 Victoria_(Australia)\n",
      "0.019 0.017 0.90 Islamism\n",
      "0.009 0.008 0.82 Construction\n",
      "0.013 0.010 0.82 Fresno,_California\n",
      "0.076 0.060 0.79 Super_Bowl_50\n",
      "0.010 0.008 0.78 Normans\n",
      "0.018 0.013 0.77 Amazon_rainforest\n",
      "0.024 0.018 0.74 Warsaw\n",
      "0.025 0.019 0.73 Newcastle_upon_Tyne\n",
      "0.028 0.021 0.73 Rhine\n",
      "0.023 0.017 0.73 Genghis_Khan\n",
      "0.011 0.008 0.73 Private_school\n",
      "0.017 0.012 0.71 French_and_Indian_War\n",
      "0.021 0.014 0.67 Steam_engine\n",
      "0.017 0.010 0.61 University_of_Chicago\n",
      "0.021 0.012 0.59 Huguenot\n",
      "0.017 0.009 0.53 Ctenophora\n",
      "0.027 0.014 0.52 Victoria_and_Albert_Museum\n",
      "0.039 0.020 0.52 American_Broadcasting_Company\n",
      "0.011 0.006 0.52 Harvard_University\n",
      "0.016 0.008 0.51 European_Union_law\n",
      "0.023 0.012 0.51 Immune_system\n",
      "0.022 0.011 0.50 Kenya\n",
      "0.010 0.004 0.38 1973_oil_crisis\n",
      "0.021 0.007 0.31 Yuan_dynasty\n"
     ]
    }
   ],
   "source": [
    "getTopicDistribution(spotlights[3].weights, smoothing=0)"
   ]
  },
  {
   "cell_type": "code",
   "execution_count": 60,
   "id": "a4dd4444",
   "metadata": {},
   "outputs": [
    {
     "name": "stdout",
     "output_type": "stream",
     "text": [
      "0.019 0.091 4.82 Civil_disobedience\n",
      "0.010 0.029 2.83 1973_oil_crisis\n",
      "0.019 0.053 2.79 Computational_complexity_theory\n",
      "0.076 0.168 2.21 Super_Bowl_50\n",
      "0.018 0.038 2.15 Imperialism\n",
      "0.012 0.024 2.01 Pharmacy\n",
      "0.024 0.043 1.82 Oxygen\n",
      "0.010 0.014 1.47 Packet_switching\n",
      "0.010 0.014 1.44 Intergovernmental_Panel_on_Climate_Change\n",
      "0.027 0.038 1.43 Victoria_and_Albert_Museum\n",
      "0.017 0.024 1.42 University_of_Chicago\n",
      "0.028 0.034 1.22 Economic_inequality\n",
      "0.046 0.053 1.16 Martin_Luther\n",
      "0.013 0.014 1.14 Fresno,_California\n",
      "0.028 0.029 1.03 Rhine\n",
      "0.028 0.029 1.02 Chloroplast\n",
      "0.015 0.014 0.98 Prime_number\n",
      "0.020 0.019 0.97 Force\n",
      "0.025 0.024 0.96 Teacher\n",
      "0.010 0.010 0.92 Normans\n",
      "0.021 0.019 0.90 Yuan_dynasty\n",
      "0.011 0.010 0.88 Private_school\n",
      "0.023 0.019 0.84 Immune_system\n",
      "0.049 0.038 0.78 Nikola_Tesla\n",
      "0.021 0.014 0.69 Huguenot\n",
      "0.017 0.010 0.58 French_and_Indian_War\n",
      "0.018 0.010 0.53 United_Methodist_Church\n",
      "0.009 0.005 0.52 Jacksonville,_Florida\n",
      "0.009 0.005 0.51 Construction\n",
      "0.030 0.014 0.48 Doctor_Who\n",
      "0.010 0.005 0.46 Black_Death\n",
      "0.011 0.005 0.45 Harvard_University\n",
      "0.023 0.010 0.42 Genghis_Khan\n",
      "0.023 0.010 0.41 Apollo_program\n",
      "0.024 0.010 0.40 Warsaw\n",
      "0.012 0.005 0.40 Victoria_(Australia)\n",
      "0.025 0.010 0.38 Newcastle_upon_Tyne\n",
      "0.016 0.005 0.29 European_Union_law\n",
      "0.017 0.005 0.29 Ctenophora\n",
      "0.017 0.005 0.28 Southern_California\n",
      "0.018 0.005 0.27 Amazon_rainforest\n",
      "0.018 0.005 0.26 Scottish_Parliament\n",
      "0.019 0.005 0.25 Islamism\n",
      "0.021 0.005 0.23 Steam_engine\n",
      "0.022 0.005 0.22 Kenya\n",
      "0.010 0.000 0.00 Sky_(United_Kingdom)\n",
      "0.011 0.000 0.00 Geology\n",
      "0.039 0.000 0.00 American_Broadcasting_Company\n"
     ]
    }
   ],
   "source": [
    "loss_weights = (losses > 7.58)\n",
    "loss_weights = loss_weights / loss_weights.sum()\n",
    "getTopicDistribution(loss_weights, 0)"
   ]
  },
  {
   "cell_type": "code",
   "execution_count": null,
   "id": "094a0cde-0ae6-444d-a9da-b0bf4224f98e",
   "metadata": {},
   "outputs": [],
   "source": []
  }
 ],
 "metadata": {
  "kernelspec": {
   "display_name": "Python 3",
   "language": "python",
   "name": "python3"
  },
  "language_info": {
   "codemirror_mode": {
    "name": "ipython",
    "version": 3
   },
   "file_extension": ".py",
   "mimetype": "text/x-python",
   "name": "python",
   "nbconvert_exporter": "python",
   "pygments_lexer": "ipython3",
   "version": "3.7.5"
  }
 },
 "nbformat": 4,
 "nbformat_minor": 5
}
